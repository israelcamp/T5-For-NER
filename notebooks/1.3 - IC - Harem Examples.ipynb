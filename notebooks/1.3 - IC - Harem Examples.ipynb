{
 "cells": [
  {
   "cell_type": "code",
   "execution_count": 1,
   "metadata": {},
   "outputs": [],
   "source": [
    "from argparse import Namespace"
   ]
  },
  {
   "cell_type": "code",
   "execution_count": 2,
   "metadata": {},
   "outputs": [],
   "source": [
    "import pytorch_lightning as pl"
   ]
  },
  {
   "cell_type": "code",
   "execution_count": 3,
   "metadata": {},
   "outputs": [],
   "source": [
    "from src.data.make_harem import get_example_sets\n",
    "from src.models.modeling_harem import T5ForHarem"
   ]
  },
  {
   "cell_type": "code",
   "execution_count": 11,
   "metadata": {},
   "outputs": [],
   "source": [
    "examples = get_example_sets('../data/harem/', merge_O=True)"
   ]
  },
  {
   "cell_type": "code",
   "execution_count": 15,
   "metadata": {},
   "outputs": [],
   "source": [
    "hparams = {\n",
    "    'merge_O': True,\n",
    "    'labels_mode': 'words',\n",
    "    'datapath': '../data/harem',\n",
    "    'remove_accents': False\n",
    "}\n",
    "hparams = Namespace(**hparams)"
   ]
  },
  {
   "cell_type": "code",
   "execution_count": 16,
   "metadata": {},
   "outputs": [],
   "source": [
    "model = T5ForHarem.from_pretrained('t5-small', hparams=hparams)"
   ]
  },
  {
   "cell_type": "code",
   "execution_count": 17,
   "metadata": {},
   "outputs": [],
   "source": [
    "examples = model.get_examples()"
   ]
  },
  {
   "cell_type": "code",
   "execution_count": 22,
   "metadata": {
    "scrolled": true
   },
   "outputs": [
    {
     "data": {
      "text/plain": [
       "Source: Rapaz é preso por furtos em série Rapaz é preso por furtos em série Texto: Rita de C. Cornélio José Natalino Policarpo , conhecido por \" Coquinho \", é acusado de arrombar dois carros. Produtos furtados foram apreendidos Policiais militares prenderam em flagrante, na manhã de ontem, um dos acusados de ter praticado dois furtos durante a madrugada. Vários objetos furtados foram recuperados. O acusado, José Natalino Policarpo , 19 anos , conhecido por \" Coquinho \", foi pego após oferecer os produtos furtados para alguns mototáxistas da Bela Vista . Para os policiais da Base Comunitária Noroeste , ele acabou confessando o furto continuado. Policarpo contou aos policiais que havia praticado dois furtos em automóveis, na quadra 35 da rua Saint Martin , e na quadra 35 da rua Araújo Leite . Em contato com as vítimas, elas reconheceram os objetos como sendo de sua propriedade. A vítima H.B.J. informou que seu carro, um Vectra, estava na garagem e de seu interior foi subtraído uma bolsa com um mostruário para vendas, um aparelho de CD, dois controles remotos, uma calculadora um talão de cheques do Banco América do Sul , com 20 folhas, das quais quinze foram recuperadas. A vítima N.I.M. informou que seu veículo, um Palio, estava estacionado na garagem de sua residência, onde foi danificado. Do seu interior foram subtraídos duas pastas com CDs, um óculos de sol e um pacote de cigarros. \" Coquinho \" foi autuado em flagrante pelo delegado plantonista Antonio Augusto de Campos Lima , por furto continuado e encaminhado para a Cadeia Pública de Bauru .\n",
       "Target: Rapaz é preso por furtos em série Rapaz é preso por furtos em série Texto: [Outro] Rita de C. Cornélio [Pessoa] José Natalino Policarpo [Pessoa] , conhecido por \" [Outro] Coquinho [Pessoa] \", é acusado de arrombar dois carros. Produtos furtados foram apreendidos Policiais militares prenderam em flagrante, na manhã de ontem, um dos acusados de ter praticado dois furtos durante a madrugada. Vários objetos furtados foram recuperados. O acusado, [Outro] José Natalino Policarpo [Pessoa] , [Outro] 19 anos [Valor] , conhecido por \" [Outro] Coquinho [Pessoa] \", foi pego após oferecer os produtos furtados para alguns mototáxistas da [Outro] Bela Vista [Local] . Para os policiais da [Outro] Base Comunitária Noroeste [Organização] , ele acabou confessando o furto continuado. [Outro] Policarpo [Pessoa] contou aos policiais que havia praticado dois furtos em automóveis, na quadra [Outro] 35 [Local] da rua [Outro] Saint Martin [Local] , e na quadra [Outro] 35 [Local] da rua [Outro] Araújo Leite [Local] . Em contato com as vítimas, elas reconheceram os objetos como sendo de sua propriedade. A vítima [Outro] H.B.J. [Pessoa] informou que seu carro, um Vectra, estava na garagem e de seu interior foi subtraído uma bolsa com um mostruário para vendas, um aparelho de CD, dois controles remotos, uma calculadora um talão de cheques do [Outro] Banco América do Sul [Organização] , com [Outro] 20 [Valor] folhas, das quais quinze foram recuperadas. A vítima [Outro] N.I.M. [Pessoa] informou que seu veículo, um Palio, estava estacionado na garagem de sua residência, onde foi danificado. Do seu interior foram subtraídos duas pastas com CDs, um óculos de sol e um pacote de cigarros. \" [Outro] Coquinho [Pessoa] \" foi autuado em flagrante pelo delegado plantonista [Outro] Antonio Augusto de Campos Lima [Pessoa] , por furto continuado e encaminhado para a [Outro] Cadeia Pública de Bauru [Local] . [Outro]"
      ]
     },
     "execution_count": 22,
     "metadata": {},
     "output_type": "execute_result"
    }
   ],
   "source": [
    "examples['valid'][-1]"
   ]
  },
  {
   "cell_type": "code",
   "execution_count": 21,
   "metadata": {},
   "outputs": [
    {
     "data": {
      "text/plain": [
       "13"
      ]
     },
     "execution_count": 21,
     "metadata": {},
     "output_type": "execute_result"
    }
   ],
   "source": [
    "len(examples['valid'])"
   ]
  },
  {
   "cell_type": "code",
   "execution_count": 9,
   "metadata": {},
   "outputs": [
    {
     "name": "stderr",
     "output_type": "stream",
     "text": [
      "Running in fast_dev_run mode: will run a full train, val and test loop using a single batch\n",
      "GPU available: True, used: True\n",
      "No environment variable for node rank defined. Set as 0.\n",
      "CUDA_VISIBLE_DEVICES: [0]\n"
     ]
    }
   ],
   "source": [
    "trainer = pl.Trainer(gpus=1, fast_dev_run=True)"
   ]
  },
  {
   "cell_type": "code",
   "execution_count": null,
   "metadata": {},
   "outputs": [],
   "source": [
    "trainer.fit(model)"
   ]
  },
  {
   "cell_type": "code",
   "execution_count": null,
   "metadata": {},
   "outputs": [],
   "source": [
    "trainer.test(model)"
   ]
  },
  {
   "cell_type": "code",
   "execution_count": null,
   "metadata": {},
   "outputs": [],
   "source": []
  }
 ],
 "metadata": {
  "kernelspec": {
   "display_name": "Python 3.8.3 64-bit ('t5ner': conda)",
   "language": "python",
   "name": "python38364bitt5nercondac7c2d3542c9b4d98a6fe6c685e62d5e9"
  },
  "language_info": {
   "codemirror_mode": {
    "name": "ipython",
    "version": 3
   },
   "file_extension": ".py",
   "mimetype": "text/x-python",
   "name": "python",
   "nbconvert_exporter": "python",
   "pygments_lexer": "ipython3",
   "version": "3.8.3"
  }
 },
 "nbformat": 4,
 "nbformat_minor": 2
}
