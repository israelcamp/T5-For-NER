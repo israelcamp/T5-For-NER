{
 "cells": [
  {
   "cell_type": "markdown",
   "metadata": {
    "colab_type": "text",
    "id": "ZWJ_Yo0DnRLN"
   },
   "source": [
    "# Imports"
   ]
  },
  {
   "cell_type": "code",
   "execution_count": 1,
   "metadata": {
    "colab": {},
    "colab_type": "code",
    "id": "DoywPEf3n2xH"
   },
   "outputs": [],
   "source": [
    "import os\n",
    "from argparse import Namespace"
   ]
  },
  {
   "cell_type": "code",
   "execution_count": 112,
   "metadata": {},
   "outputs": [],
   "source": [
    "import torch\n",
    "from torch import nn\n",
    "from torch.utils.data import Dataset, DataLoader\n",
    "from transformers import T5Tokenizer, T5ForConditionalGeneration\n",
    "from seqeval.metrics import f1_score, classification_report\n",
    "import pytorch_lightning as pl"
   ]
  },
  {
   "cell_type": "code",
   "execution_count": 4,
   "metadata": {
    "scrolled": true
   },
   "outputs": [],
   "source": [
    "from src.data.make_conll2003 import get_example_sets, InputExample\n",
    "from src.models.modeling_t5conll2003 import T5ForConll2003"
   ]
  },
  {
   "cell_type": "code",
   "execution_count": 5,
   "metadata": {},
   "outputs": [],
   "source": [
    "hparams = {\"experiment_name\": \"Overfit T5 on CoNLL2003\",\n",
    "           \"batch_size\": 2, \"num_workers\": 2,\n",
    "           \"optimizer\": \"Adam\", \"lr\": 5e-3,\n",
    "           \"datapath\": \"../data/conll2003\",\n",
    "           \"shuffle_train\": False\n",
    "           }\n",
    "hparams = Namespace(**hparams)"
   ]
  },
  {
   "cell_type": "code",
   "execution_count": 6,
   "metadata": {
    "scrolled": true
   },
   "outputs": [],
   "source": [
    "model = T5ForConll2003.from_pretrained('t5-small', hparams=hparams)"
   ]
  },
  {
   "cell_type": "markdown",
   "metadata": {},
   "source": [
    "# Overfit and save"
   ]
  },
  {
   "cell_type": "code",
   "execution_count": 9,
   "metadata": {},
   "outputs": [],
   "source": [
    "overfit = False\n",
    "overfit_ckpt = 'overfit.ckpt'"
   ]
  },
  {
   "cell_type": "code",
   "execution_count": 8,
   "metadata": {},
   "outputs": [],
   "source": [
    "model.prepare_data()\n",
    "dl_train = model.train_dataloader()\n",
    "batch = next(iter(dl_train))"
   ]
  },
  {
   "cell_type": "code",
   "execution_count": 10,
   "metadata": {
    "scrolled": true
   },
   "outputs": [
    {
     "name": "stdout",
     "output_type": "stream",
     "text": [
      "16.06240463256836\n",
      "12.487531661987305\n",
      "9.963590621948242\n",
      "8.65821647644043\n",
      "7.520566940307617\n",
      "5.975543022155762\n",
      "4.154529094696045\n",
      "3.12961483001709\n",
      "3.3882970809936523\n",
      "3.0742173194885254\n",
      "2.8745617866516113\n",
      "3.2312960624694824\n",
      "2.7839860916137695\n",
      "2.5749077796936035\n",
      "2.272475481033325\n",
      "2.0055387020111084\n",
      "1.9658942222595215\n",
      "1.7902837991714478\n",
      "1.694254994392395\n",
      "1.5763726234436035\n",
      "1.526963472366333\n",
      "1.4052767753601074\n",
      "1.2932432889938354\n",
      "1.2178740501403809\n",
      "1.1427955627441406\n",
      "1.0735819339752197\n",
      "1.0112868547439575\n",
      "0.9507379531860352\n",
      "0.8920056223869324\n",
      "0.8353450298309326\n",
      "0.7822046279907227\n",
      "0.7321492433547974\n",
      "0.6795676946640015\n",
      "0.6310276389122009\n",
      "0.5843082070350647\n",
      "0.5381196737289429\n",
      "0.4926541745662689\n",
      "0.44900447130203247\n",
      "0.4069681167602539\n",
      "0.3668065369129181\n",
      "0.32949236035346985\n",
      "0.2950741946697235\n",
      "0.2641274034976959\n",
      "0.2370295524597168\n",
      "0.21271643042564392\n",
      "0.19188906252384186\n",
      "0.17414654791355133\n",
      "0.1584789901971817\n",
      "0.14444348216056824\n",
      "0.13255152106285095\n",
      "0.12253027409315109\n",
      "0.11349175870418549\n",
      "0.10491430014371872\n",
      "0.09775913506746292\n",
      "0.09073000401258469\n",
      "0.08528995513916016\n",
      "0.07997633516788483\n",
      "0.07493466883897781\n",
      "0.07055623829364777\n",
      "0.06664694100618362\n",
      "0.06302892416715622\n",
      "0.05982428416609764\n",
      "0.05695530027151108\n",
      "0.054264433681964874\n",
      "0.05175971984863281\n",
      "0.04943675175309181\n",
      "0.04731281101703644\n",
      "0.045363061130046844\n",
      "0.0435405895113945\n",
      "0.04183189570903778\n",
      "0.04024582728743553\n",
      "0.03878127783536911\n",
      "0.037397973239421844\n",
      "0.03610548749566078\n",
      "0.034901030361652374\n",
      "0.033762674778699875\n",
      "0.032684437930583954\n",
      "0.03167068213224411\n",
      "0.030716748908162117\n",
      "0.0298184622079134\n",
      "0.028967857360839844\n",
      "0.02816394716501236\n",
      "0.02739799953997135\n",
      "0.02666737511754036\n",
      "0.025975337252020836\n",
      "0.0253171194344759\n",
      "0.024688757956027985\n",
      "0.024088125675916672\n",
      "0.02351287752389908\n",
      "0.022961396723985672\n",
      "0.022434528917074203\n",
      "0.021929044276475906\n",
      "0.021445568650960922\n",
      "0.0209784135222435\n",
      "0.020528756082057953\n",
      "0.020096521824598312\n",
      "0.01968127116560936\n",
      "0.01927955262362957\n",
      "0.018891628831624985\n",
      "0.01851775124669075\n"
     ]
    }
   ],
   "source": [
    "if overfit:\n",
    "    device = 'cuda'\n",
    "\n",
    "    model.to(device)\n",
    "    batch = [x.to(device) for x in batch]\n",
    "\n",
    "    optimizer = model.configure_optimizers()\n",
    "\n",
    "    for _ in range(100):\n",
    "        loss = model.training_step(batch, 0)['loss']\n",
    "        loss.backward()\n",
    "        optimizer.step()\n",
    "        model.zero_grad()\n",
    "\n",
    "        print(loss.item())\n",
    "\n",
    "    torch.save(model.state_dict(), overfit_ckpt)\n",
    "else:\n",
    "    print(model.load_state_dict(torch.load(overfit_ckpt)))"
   ]
  },
  {
   "cell_type": "markdown",
   "metadata": {},
   "source": [
    "# Evaluation"
   ]
  },
  {
   "cell_type": "code",
   "execution_count": 11,
   "metadata": {},
   "outputs": [],
   "source": [
    "tokenizer = model.tokenizer"
   ]
  },
  {
   "cell_type": "code",
   "execution_count": 12,
   "metadata": {},
   "outputs": [
    {
     "data": {
      "text/plain": [
       "['<O>', '<PER>', '<ORG>', '<LOC>', '<MISC>']"
      ]
     },
     "execution_count": 12,
     "metadata": {},
     "output_type": "execute_result"
    }
   ],
   "source": [
    "entities_tokens = model.entities_tokens\n",
    "entities_tokens"
   ]
  },
  {
   "cell_type": "code",
   "execution_count": 17,
   "metadata": {},
   "outputs": [],
   "source": [
    "target_token_ids = batch[2].cpu()\n",
    "target_token_ids = true_targets.where(target_token_ids != -100, torch.tensor(tokenizer.pad_token_id)).cpu()"
   ]
  },
  {
   "cell_type": "code",
   "execution_count": 27,
   "metadata": {},
   "outputs": [],
   "source": [
    "predicted_token_ids = model.generate(input_ids=batch[0], attention_mask=batch[1], max_length=model.max_length)"
   ]
  },
  {
   "cell_type": "code",
   "execution_count": 18,
   "metadata": {},
   "outputs": [
    {
     "data": {
      "text/plain": [
       "'EU <ORG> rejects <O> German <MISC> call <O> to <O> boycott <O> British <MISC> lamb <O>. <O> '"
      ]
     },
     "execution_count": 18,
     "metadata": {},
     "output_type": "execute_result"
    }
   ],
   "source": [
    "tokenizer.decode(target_token_ids[0])"
   ]
  },
  {
   "cell_type": "code",
   "execution_count": 26,
   "metadata": {},
   "outputs": [
    {
     "data": {
      "text/plain": [
       "'Peter Blackburn <PER> '"
      ]
     },
     "execution_count": 26,
     "metadata": {},
     "output_type": "execute_result"
    }
   ],
   "source": [
    "tokenizer.decode(predicted_token_ids[1])"
   ]
  },
  {
   "cell_type": "code",
   "execution_count": 95,
   "metadata": {},
   "outputs": [],
   "source": [
    "def get_entities_from_tokens(tokens, tokenizer, entities_tokens, length=0, fill_token='O'):\n",
    "    sequence_entities = [] # will save all the entities\n",
    "    current_entity = [] # will save current entity\n",
    "    if tokens[0] == tokenizer.pad_token:\n",
    "        tokens = tokens[1:]\n",
    "    for token in tokens:\n",
    "        if token in entities_tokens:\n",
    "            entity = token[1:-1] # remove <,>\n",
    "            if entity == 'O':\n",
    "                blabel = ilabel = entity\n",
    "            else:\n",
    "                blabel = f'B-{entity}'\n",
    "                ilabel = f'I-{entity}'\n",
    "            _len = len(current_entity)\n",
    "            sequence_entities += [blabel] + [ilabel] * (_len - 1)\n",
    "            current_entity.clear()\n",
    "        elif token in (tokenizer.eos_token, tokenizer.pad_token):\n",
    "            break\n",
    "        else:\n",
    "            current_entity.append(token)\n",
    "    if length > 0:\n",
    "        seq_len = len(sequence_entities)\n",
    "        if seq_len > length:\n",
    "            sequence_entities = sequence_entities[:length]\n",
    "        elif seq_len < length:\n",
    "            sequence_entities = sequence_entities + [fill_token] * (length - seq_len)\n",
    "    return sequence_entities"
   ]
  },
  {
   "cell_type": "code",
   "execution_count": 108,
   "metadata": {},
   "outputs": [],
   "source": [
    "def get_trues_and_preds_entities(target_token_ids, predicted_token_ids,\n",
    "                                tokenizer, entities_tokens, fill_token='O'):\n",
    "    assert len(target_token_ids) ==  len(predicted_token_ids)\n",
    "    all_target_entities = []\n",
    "    all_predicted_entities = []\n",
    "    for idx in range(len(target_token_ids)):\n",
    "        # convert to tokens\n",
    "        target_tokens = tokenizer.convert_ids_to_tokens(target_token_ids[idx])\n",
    "        predicted_tokens = tokenizer.convert_ids_to_tokens(predicted_token_ids[idx])\n",
    "        # convert to entities\n",
    "        target_entities = get_entities_from_tokens(target_tokens, tokenizer, entities_tokens)\n",
    "        predicted_entities = get_entities_from_tokens(predicted_tokens, tokenizer, entities_tokens, length=len(target_entities), fill_token=fill_token)\n",
    "        # append\n",
    "        all_target_entities.append(target_entities)\n",
    "        all_predicted_entities.append(predicted_entities)\n",
    "    return all_target_entities, all_predicted_entities"
   ]
  },
  {
   "cell_type": "code",
   "execution_count": 109,
   "metadata": {},
   "outputs": [],
   "source": [
    "target_entities, predicted_entities = get_trues_and_preds_entities(target_token_ids, predicted_token_ids, tokenizer, entities_tokens)"
   ]
  },
  {
   "cell_type": "markdown",
   "metadata": {},
   "source": [
    "# Seqeval"
   ]
  },
  {
   "cell_type": "code",
   "execution_count": 111,
   "metadata": {},
   "outputs": [
    {
     "name": "stdout",
     "output_type": "stream",
     "text": [
      "           precision    recall  f1-score   support\n",
      "\n",
      "      PER       1.00      1.00      1.00         1\n",
      "     MISC       1.00      1.00      1.00         2\n",
      "      ORG       1.00      1.00      1.00         1\n",
      "\n",
      "micro avg       1.00      1.00      1.00         4\n",
      "macro avg       1.00      1.00      1.00         4\n",
      "\n"
     ]
    }
   ],
   "source": [
    "print(classification_report(target_entities, predicted_entities))"
   ]
  },
  {
   "cell_type": "code",
   "execution_count": 114,
   "metadata": {},
   "outputs": [
    {
     "name": "stdout",
     "output_type": "stream",
     "text": [
      "[['B-ORG', 'O', 'O', 'B-MISC', 'O', 'O', 'O', 'B-MISC', 'O', 'O', 'O'], ['B-PER', 'I-PER', 'I-PER']]\n"
     ]
    }
   ],
   "source": [
    "print(target_entities)"
   ]
  },
  {
   "cell_type": "code",
   "execution_count": 115,
   "metadata": {},
   "outputs": [
    {
     "name": "stdout",
     "output_type": "stream",
     "text": [
      "[['B-ORG', 'O', 'O', 'B-MISC', 'O', 'O', 'O', 'B-MISC', 'O', 'O', 'O'], ['B-PER', 'I-PER', 'I-PER']]\n"
     ]
    }
   ],
   "source": [
    "print(predicted_entities)"
   ]
  },
  {
   "cell_type": "code",
   "execution_count": null,
   "metadata": {},
   "outputs": [],
   "source": []
  }
 ],
 "metadata": {
  "accelerator": "GPU",
  "colab": {
   "authorship_tag": "ABX9TyOEQFs1hQw2f4//XEv2338X",
   "collapsed_sections": [],
   "mount_file_id": "1mwxggUBK86BB6y_2WfG7apqZr9bd1I-k",
   "name": "First T5 training.ipynb",
   "provenance": []
  },
  "kernelspec": {
   "display_name": "Python [conda env:t5ner]",
   "language": "python",
   "name": "conda-env-t5ner-py"
  },
  "language_info": {
   "codemirror_mode": {
    "name": "ipython",
    "version": 3
   },
   "file_extension": ".py",
   "mimetype": "text/x-python",
   "name": "python",
   "nbconvert_exporter": "python",
   "pygments_lexer": "ipython3",
   "version": "3.8.3"
  }
 },
 "nbformat": 4,
 "nbformat_minor": 4
}
