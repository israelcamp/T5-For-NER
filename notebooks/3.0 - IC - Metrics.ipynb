{
 "cells": [
  {
   "cell_type": "markdown",
   "metadata": {
    "colab_type": "text",
    "id": "ZWJ_Yo0DnRLN"
   },
   "source": [
    "# Imports"
   ]
  },
  {
   "cell_type": "code",
   "execution_count": null,
   "metadata": {
    "colab": {},
    "colab_type": "code",
    "id": "DoywPEf3n2xH"
   },
   "outputs": [],
   "source": [
    "import os\n",
    "from argparse import Namespace"
   ]
  },
  {
   "cell_type": "code",
   "execution_count": 2,
   "metadata": {},
   "outputs": [],
   "source": [
    "import torch\n",
    "from torch import nn\n",
    "from torch.utils.data import Dataset, DataLoader\n",
    "from transformers import T5Tokenizer, T5ForConditionalGeneration\n",
    "from seqeval.metrics import f1_score, classification_report\n",
    "import pytorch_lightning as pl"
   ]
  },
  {
   "cell_type": "code",
   "execution_count": 3,
   "metadata": {
    "scrolled": true
   },
   "outputs": [],
   "source": [
    "from src.data.make_conll2003 import get_example_sets, InputExample\n",
    "from src.models.modeling_t5conll2003 import T5ForConll2003"
   ]
  },
  {
   "cell_type": "code",
   "execution_count": 4,
   "metadata": {},
   "outputs": [],
   "source": [
    "hparams = {\"experiment_name\": \"Overfit T5 on CoNLL2003\",\n",
    "           \"batch_size\": 2, \"num_workers\": 2,\n",
    "           \"optimizer\": \"Adam\", \"lr\": 5e-3,\n",
    "           \"datapath\": \"../data/conll2003\",\n",
    "           \"shuffle_train\": False,\n",
    "           \"source_max_length\": 128,\n",
    "           \"target_max_length\": 256,\n",
    "           \"labels_mode\": 'words'\n",
    "           }\n",
    "hparams = Namespace(**hparams)"
   ]
  },
  {
   "cell_type": "code",
   "execution_count": 5,
   "metadata": {
    "scrolled": true
   },
   "outputs": [],
   "source": [
    "model = T5ForConll2003.from_pretrained('t5-small', hparams=hparams)"
   ]
  },
  {
   "cell_type": "markdown",
   "metadata": {},
   "source": [
    "# Overfit and save"
   ]
  },
  {
   "cell_type": "code",
   "execution_count": 6,
   "metadata": {},
   "outputs": [],
   "source": [
    "overfit = True\n",
    "overfit_ckpt = 'overfit_words_mode.ckpt'"
   ]
  },
  {
   "cell_type": "code",
   "execution_count": 7,
   "metadata": {},
   "outputs": [],
   "source": [
    "model.prepare_data()\n",
    "dl_train = model.train_dataloader()\n",
    "batch = next(iter(dl_train))"
   ]
  },
  {
   "cell_type": "code",
   "execution_count": 8,
   "metadata": {
    "scrolled": true
   },
   "outputs": [
    {
     "name": "stdout",
     "output_type": "stream",
     "text": [
      "3.2000813484191895\n",
      "3.6374001502990723\n",
      "3.527728796005249\n",
      "2.0330588817596436\n",
      "1.4024171829223633\n",
      "1.1162036657333374\n",
      "0.7967498898506165\n",
      "0.3651909828186035\n",
      "0.15743477642536163\n",
      "0.0523308590054512\n"
     ]
    }
   ],
   "source": [
    "if overfit:\n",
    "    device = 'cuda'\n",
    "\n",
    "    model.to(device)\n",
    "    batch = [x.to(device) for x in batch]\n",
    "\n",
    "    optimizer = model.configure_optimizers()\n",
    "\n",
    "    for _ in range(10):\n",
    "        loss = model.training_step(batch, 0)['loss']\n",
    "        loss.backward()\n",
    "        optimizer.step()\n",
    "        model.zero_grad()\n",
    "\n",
    "        print(loss.item())\n",
    "\n",
    "    torch.save(model.state_dict(), overfit_ckpt)\n",
    "else:\n",
    "    print(model.load_state_dict(torch.load(overfit_ckpt)))"
   ]
  },
  {
   "cell_type": "markdown",
   "metadata": {},
   "source": [
    "# Evaluation"
   ]
  },
  {
   "cell_type": "code",
   "execution_count": 9,
   "metadata": {},
   "outputs": [],
   "source": [
    "tokenizer = model.tokenizer"
   ]
  },
  {
   "cell_type": "code",
   "execution_count": 10,
   "metadata": {},
   "outputs": [
    {
     "data": {
      "text/plain": [
       "['<O>', '<PER>', '<ORG>', '<LOC>', '<MISC>']"
      ]
     },
     "execution_count": 10,
     "metadata": {},
     "output_type": "execute_result"
    }
   ],
   "source": [
    "entities_tokens = model.entities_tokens\n",
    "entities_tokens"
   ]
  },
  {
   "cell_type": "code",
   "execution_count": 11,
   "metadata": {},
   "outputs": [],
   "source": [
    "target_token_ids = batch[2].cpu()\n",
    "target_token_ids = target_token_ids.where(target_token_ids != -100, torch.tensor(tokenizer.pad_token_id)).cpu()"
   ]
  },
  {
   "cell_type": "code",
   "execution_count": 12,
   "metadata": {},
   "outputs": [],
   "source": [
    "predicted_token_ids = model.generate(input_ids=batch[0], attention_mask=batch[1], max_length=model.max_length)"
   ]
  },
  {
   "cell_type": "code",
   "execution_count": 13,
   "metadata": {},
   "outputs": [
    {
     "data": {
      "text/plain": [
       "'EU [Organization] rejects [Other] German [Miscellaneous] call [Other] to [Other] boycott [Other] British [Miscellaneous] lamb [Other]. [Other]'"
      ]
     },
     "execution_count": 13,
     "metadata": {},
     "output_type": "execute_result"
    }
   ],
   "source": [
    "tokenizer.decode(target_token_ids[0])"
   ]
  },
  {
   "cell_type": "code",
   "execution_count": 14,
   "metadata": {},
   "outputs": [
    {
     "data": {
      "text/plain": [
       "'EU [Organization] rejects [Other] German [Miscellaneous] call [Other] to [Other] boycott [Other] British [Miscellaneous] lamb [Other]. [Other]'"
      ]
     },
     "execution_count": 14,
     "metadata": {},
     "output_type": "execute_result"
    }
   ],
   "source": [
    "tokenizer.decode(predicted_token_ids[0])"
   ]
  },
  {
   "cell_type": "code",
   "execution_count": 18,
   "metadata": {},
   "outputs": [
    {
     "data": {
      "text/plain": [
       "{'[Other]': '<O>',\n",
       " '[Person]': '<PER>',\n",
       " '[Local]': '<LOC>',\n",
       " '[Miscellaneous]': '<MISC>',\n",
       " '[Organization]': '<ORG>'}"
      ]
     },
     "execution_count": 18,
     "metadata": {},
     "output_type": "execute_result"
    }
   ],
   "source": [
    "labels2words = {\n",
    "    'O': '[Other]',\n",
    "    'PER': '[Person]',\n",
    "    'LOC': '[Local]',\n",
    "    'MISC': '[Miscellaneous]',\n",
    "    'ORG': '[Organization]'\n",
    "}\n",
    "\n",
    "entities2tokens = {w: f'<{l}>' for l,w in labels2words.items()}\n",
    "entities2tokens"
   ]
  },
  {
   "cell_type": "code",
   "execution_count": 21,
   "metadata": {},
   "outputs": [
    {
     "data": {
      "text/plain": [
       "['▁EU',\n",
       " '<ORG>',\n",
       " '▁reject',\n",
       " 's',\n",
       " '<O>',\n",
       " '▁German',\n",
       " '<MISC>',\n",
       " '▁call',\n",
       " '<O>',\n",
       " '▁to',\n",
       " '<O>',\n",
       " '▁boycott',\n",
       " '<O>',\n",
       " '▁British',\n",
       " '<MISC>',\n",
       " '▁lamb',\n",
       " '<O>',\n",
       " '▁',\n",
       " '.',\n",
       " '<O>']"
      ]
     },
     "execution_count": 21,
     "metadata": {},
     "output_type": "execute_result"
    }
   ],
   "source": [
    "sentence = tokenizer.decode(predicted_token_ids[0])\n",
    "for ent, tok in entities2tokens.items():\n",
    "    sentence = sentence.replace(ent, tok)\n",
    "tokenizer.tokenize(sentence)"
   ]
  },
  {
   "cell_type": "code",
   "execution_count": 22,
   "metadata": {},
   "outputs": [],
   "source": [
    "def get_entities_from_tokens(tokens, tokenizer, entities_tokens, length=0, fill_token='O'):\n",
    "    sequence_entities = [] # will save all the entities\n",
    "    current_entity = [] # will save current entity\n",
    "    if tokens[0] == tokenizer.pad_token:\n",
    "        tokens = tokens[1:]\n",
    "    for token in tokens:\n",
    "        if token in entities_tokens:\n",
    "            entity = token[1:-1] # remove <,>\n",
    "            if entity == 'O':\n",
    "                blabel = ilabel = entity\n",
    "            else:\n",
    "                blabel = f'B-{entity}'\n",
    "                ilabel = f'I-{entity}'\n",
    "            _len = len(current_entity)\n",
    "            sequence_entities += [blabel] + [ilabel] * (_len - 1)\n",
    "            current_entity.clear()\n",
    "        elif token in (tokenizer.eos_token, tokenizer.pad_token):\n",
    "            break\n",
    "        else:\n",
    "            current_entity.append(token)\n",
    "    if length > 0:\n",
    "        seq_len = len(sequence_entities)\n",
    "        if seq_len > length:\n",
    "            sequence_entities = sequence_entities[:length]\n",
    "        elif seq_len < length:\n",
    "            sequence_entities = sequence_entities + [fill_token] * (length - seq_len)\n",
    "    return sequence_entities"
   ]
  },
  {
   "cell_type": "code",
   "execution_count": 25,
   "metadata": {},
   "outputs": [],
   "source": [
    "def get_tokens(token_ids, tokenizer, entities):\n",
    "    if isinstance(entities, dict):\n",
    "        sentence = tokenizer.decode(token_ids)\n",
    "        for ent, tok in entities.items():\n",
    "            sentence = sentence.replace(ent, tok)\n",
    "        return tokenizer.tokenize(sentence)\n",
    "    else:\n",
    "        return tokenizer.convert_ids_to_tokens(token_ids)"
   ]
  },
  {
   "cell_type": "code",
   "execution_count": 26,
   "metadata": {},
   "outputs": [],
   "source": [
    "def get_trues_and_preds_entities(target_token_ids, predicted_token_ids,\n",
    "                                tokenizer, entities, fill_token='O'):\n",
    "    assert len(target_token_ids) ==  len(predicted_token_ids) # ensure batch size is the same\n",
    "    all_target_entities = []\n",
    "    all_predicted_entities = []\n",
    "    entities_tokens = list(entities.values()) if isinstance(entities, dict) else entities\n",
    "    for idx in range(len(target_token_ids)):\n",
    "        # convert to tokens\n",
    "        target_tokens = get_tokens(target_token_ids[idx], tokenizer, entities)\n",
    "        predicted_tokens = get_tokens(predicted_token_ids[idx], tokenizer, entities)\n",
    "        # convert to entities\n",
    "        target_entities = get_entities_from_tokens(target_tokens, tokenizer, entities_tokens)\n",
    "        predicted_entities = get_entities_from_tokens(predicted_tokens, tokenizer, entities_tokens, length=len(target_entities), fill_token=fill_token)\n",
    "        # append\n",
    "        all_target_entities.append(target_entities)\n",
    "        all_predicted_entities.append(predicted_entities)\n",
    "    return all_target_entities, all_predicted_entities"
   ]
  },
  {
   "cell_type": "code",
   "execution_count": 27,
   "metadata": {},
   "outputs": [],
   "source": [
    "target_entities, predicted_entities = get_trues_and_preds_entities(target_token_ids, predicted_token_ids, tokenizer, entities=entities2tokens)"
   ]
  },
  {
   "cell_type": "code",
   "execution_count": 29,
   "metadata": {},
   "outputs": [
    {
     "data": {
      "text/plain": [
       "([['B-ORG', 'O', 'O', 'B-MISC', 'O', 'O', 'O', 'B-MISC', 'O', 'O', 'O'],\n",
       "  ['B-PER', 'I-PER', 'I-PER']],\n",
       " [['B-ORG', 'O', 'O', 'B-MISC', 'O', 'O', 'O', 'B-MISC', 'O', 'O', 'O'],\n",
       "  ['B-PER', 'I-PER', 'I-PER']])"
      ]
     },
     "execution_count": 29,
     "metadata": {},
     "output_type": "execute_result"
    }
   ],
   "source": [
    "target_entities, predicted_entities"
   ]
  },
  {
   "cell_type": "markdown",
   "metadata": {},
   "source": [
    "# Seqeval"
   ]
  },
  {
   "cell_type": "code",
   "execution_count": 111,
   "metadata": {},
   "outputs": [
    {
     "name": "stdout",
     "output_type": "stream",
     "text": [
      "           precision    recall  f1-score   support\n",
      "\n",
      "      PER       1.00      1.00      1.00         1\n",
      "     MISC       1.00      1.00      1.00         2\n",
      "      ORG       1.00      1.00      1.00         1\n",
      "\n",
      "micro avg       1.00      1.00      1.00         4\n",
      "macro avg       1.00      1.00      1.00         4\n",
      "\n"
     ]
    }
   ],
   "source": [
    "print(classification_report(target_entities, predicted_entities))"
   ]
  },
  {
   "cell_type": "code",
   "execution_count": 114,
   "metadata": {},
   "outputs": [
    {
     "name": "stdout",
     "output_type": "stream",
     "text": [
      "[['B-ORG', 'O', 'O', 'B-MISC', 'O', 'O', 'O', 'B-MISC', 'O', 'O', 'O'], ['B-PER', 'I-PER', 'I-PER']]\n"
     ]
    }
   ],
   "source": [
    "print(target_entities)"
   ]
  },
  {
   "cell_type": "code",
   "execution_count": 115,
   "metadata": {},
   "outputs": [
    {
     "name": "stdout",
     "output_type": "stream",
     "text": [
      "[['B-ORG', 'O', 'O', 'B-MISC', 'O', 'O', 'O', 'B-MISC', 'O', 'O', 'O'], ['B-PER', 'I-PER', 'I-PER']]\n"
     ]
    }
   ],
   "source": [
    "print(predicted_entities)"
   ]
  },
  {
   "cell_type": "code",
   "execution_count": null,
   "metadata": {},
   "outputs": [],
   "source": []
  }
 ],
 "metadata": {
  "accelerator": "GPU",
  "colab": {
   "authorship_tag": "ABX9TyOEQFs1hQw2f4//XEv2338X",
   "collapsed_sections": [],
   "mount_file_id": "1mwxggUBK86BB6y_2WfG7apqZr9bd1I-k",
   "name": "First T5 training.ipynb",
   "provenance": []
  },
  "kernelspec": {
   "display_name": "Python [conda env:t5ner]",
   "language": "python",
   "name": "conda-env-t5ner-py"
  },
  "language_info": {
   "codemirror_mode": {
    "name": "ipython",
    "version": 3
   },
   "file_extension": ".py",
   "mimetype": "text/x-python",
   "name": "python",
   "nbconvert_exporter": "python",
   "pygments_lexer": "ipython3",
   "version": "3.8.3"
  }
 },
 "nbformat": 4,
 "nbformat_minor": 4
}
