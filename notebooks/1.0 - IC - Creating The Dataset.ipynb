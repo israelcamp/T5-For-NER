{
 "cells": [
  {
   "cell_type": "markdown",
   "metadata": {
    "colab_type": "text",
    "id": "gU8M-xzNUjgg"
   },
   "source": [
    "# Imports"
   ]
  },
  {
   "cell_type": "code",
   "execution_count": 1,
   "metadata": {
    "colab": {},
    "colab_type": "code",
    "id": "HUELl3rG16w-"
   },
   "outputs": [],
   "source": [
    "import os\n",
    "from typing import List"
   ]
  },
  {
   "cell_type": "code",
   "execution_count": 2,
   "metadata": {
    "colab": {},
    "colab_type": "code",
    "id": "jEAJHzpmU5V2"
   },
   "outputs": [],
   "source": [
    "dataset_folder_path = '../data/conll2003'\n",
    "train_file = os.path.join(dataset_folder_path, 'train.txt')\n",
    "valid_file = os.path.join(dataset_folder_path, 'valid.txt')\n",
    "test_file = os.path.join(dataset_folder_path, 'test.txt')"
   ]
  },
  {
   "cell_type": "markdown",
   "metadata": {
    "colab_type": "text",
    "id": "05-rh7-SYdY9"
   },
   "source": [
    "# Classes"
   ]
  },
  {
   "cell_type": "code",
   "execution_count": 5,
   "metadata": {
    "colab": {},
    "colab_type": "code",
    "id": "PJV3qCS5YeyF"
   },
   "outputs": [],
   "source": [
    "class InputExample:\n",
    "\n",
    "    def __init__(self, source_words: List[str], target_words: List[str]):\n",
    "        self.source_words = source_words\n",
    "        self.target_words = target_words\n",
    "\n",
    "    @staticmethod\n",
    "    def join(tl: List[str], join_with: str = ' '):\n",
    "        return join_with.join(tl)\n",
    "\n",
    "    @property\n",
    "    def source(self):\n",
    "        return self.join(self.source_words)\n",
    "\n",
    "    @property\n",
    "    def target(self):\n",
    "        return self.join(self.target_words)\n",
    "\n",
    "    def __str__(self,):\n",
    "        return f'Source: {self.source}\\nTarget: {self.target}'"
   ]
  },
  {
   "cell_type": "markdown",
   "metadata": {
    "colab_type": "text",
    "id": "CJmwdXI7WFF4"
   },
   "source": [
    "# Utils\n",
    "\n",
    "Collection of functions that will be used during the notebook"
   ]
  },
  {
   "cell_type": "code",
   "execution_count": 6,
   "metadata": {
    "colab": {},
    "colab_type": "code",
    "id": "WCg82nDWV7It"
   },
   "outputs": [],
   "source": [
    "def read_txt(filepath):\n",
    "    with open(filepath) as f:\n",
    "        return f.read()"
   ]
  },
  {
   "cell_type": "code",
   "execution_count": 56,
   "metadata": {
    "colab": {},
    "colab_type": "code",
    "id": "3-Ek4DeZYmC4"
   },
   "outputs": [],
   "source": [
    "def convert_text_to_example(text, split_line_by='\\n', split_row_by=' ', merge_O = False):\n",
    "    words, labels = [], []\n",
    "    for row in text.split(split_line_by):\n",
    "        ws = row.split(split_row_by)\n",
    "        words.append(ws[0])\n",
    "        labels.append(ws[-1])\n",
    "\n",
    "    source_words = []\n",
    "    target_words = []\n",
    "\n",
    "    i = 0\n",
    "    while len(source_words) < len(words):\n",
    "        w = words[i]\n",
    "        l = labels[i]\n",
    "\n",
    "        if l == 'O':\n",
    "            if merge_O:\n",
    "                j = i + 1\n",
    "                while j < len(labels) and labels[j] == 'O':\n",
    "                    j += 1\n",
    "                # adds the span\n",
    "                source_words.extend(words[i:j])\n",
    "                target_words.extend(words[i:j] + [f'<{l}>'])\n",
    "                i = j\n",
    "            else:\n",
    "                source_words.append(w)\n",
    "                target_words.extend([w, f'<{l}>'])\n",
    "                i += 1\n",
    "                continue\n",
    "        else: # found a B-ENT\n",
    "            j = i + 1\n",
    "            ent_label = labels[i].split('-')[-1]\n",
    "            while j < len(labels) and labels[j] == f'I-{ent_label}':\n",
    "                j += 1\n",
    "            # adds the span\n",
    "            source_words.extend(words[i:j])\n",
    "            target_words.extend(words[i:j] + [f'<{ent_label}>'])\n",
    "            i = j\n",
    "\n",
    "    return InputExample(source_words, target_words)"
   ]
  },
  {
   "cell_type": "markdown",
   "metadata": {
    "colab_type": "text",
    "id": "0Vxpf5mMVzw5"
   },
   "source": [
    "# Opening and converting one example"
   ]
  },
  {
   "cell_type": "code",
   "execution_count": 57,
   "metadata": {
    "colab": {},
    "colab_type": "code",
    "id": "77Pt6pCyVyED"
   },
   "outputs": [],
   "source": [
    "file_text = read_txt(train_file)"
   ]
  },
  {
   "cell_type": "code",
   "execution_count": 58,
   "metadata": {
    "colab": {
     "base_uri": "https://localhost:8080/",
     "height": 34
    },
    "colab_type": "code",
    "executionInfo": {
     "elapsed": 1172,
     "status": "ok",
     "timestamp": 1589647538674,
     "user": {
      "displayName": "Israel Campiotti",
      "photoUrl": "https://lh3.googleusercontent.com/a-/AOh14Ghxy8zYBrIXP82xQY8KlmWXPR9PJmyF2cG5YA6I=s64",
      "userId": "02000835910791656164"
     },
     "user_tz": 180
    },
    "id": "5Wg0MMHsWNWo",
    "outputId": "a2c55db4-a377-426d-e1a1-0f5be20b508a"
   },
   "outputs": [
    {
     "data": {
      "text/plain": [
       "('-DOCSTART- -X- -X- O', '')"
      ]
     },
     "execution_count": 58,
     "metadata": {},
     "output_type": "execute_result"
    }
   ],
   "source": [
    "text_examples = file_text.split('\\n\\n')\n",
    "text_examples[0], text_examples[-1]"
   ]
  },
  {
   "cell_type": "markdown",
   "metadata": {
    "colab_type": "text",
    "id": "vM3XHSaoYIGs"
   },
   "source": [
    "As we see above, the first and last entries of the list can be ignored.\n",
    "Next we convert one example to the input format needed"
   ]
  },
  {
   "cell_type": "code",
   "execution_count": 59,
   "metadata": {
    "colab": {},
    "colab_type": "code",
    "id": "SxiU_13AWOSf"
   },
   "outputs": [],
   "source": [
    "text_examples = text_examples[1:-1] # remove first and last"
   ]
  },
  {
   "cell_type": "code",
   "execution_count": 60,
   "metadata": {
    "colab": {
     "base_uri": "https://localhost:8080/",
     "height": 289
    },
    "colab_type": "code",
    "executionInfo": {
     "elapsed": 1010,
     "status": "ok",
     "timestamp": 1589647943215,
     "user": {
      "displayName": "Israel Campiotti",
      "photoUrl": "https://lh3.googleusercontent.com/a-/AOh14Ghxy8zYBrIXP82xQY8KlmWXPR9PJmyF2cG5YA6I=s64",
      "userId": "02000835910791656164"
     },
     "user_tz": 180
    },
    "id": "ckcQpwHGYau9",
    "outputId": "6cd26802-28a1-4426-bd36-1ab51aa413b9"
   },
   "outputs": [
    {
     "name": "stdout",
     "output_type": "stream",
     "text": [
      "EU NNP B-NP B-ORG\n",
      "rejects VBZ B-VP O\n",
      "German JJ B-NP B-MISC\n",
      "call NN I-NP O\n",
      "to TO B-VP O\n",
      "boycott VB I-VP O\n",
      "British JJ B-NP B-MISC\n",
      "lamb NN I-NP O\n",
      ". . O O\n",
      "\n",
      "Peter NNP B-NP B-PER\n",
      "Blackburn NNP I-NP I-PER\n",
      "\n",
      "BRUSSELS NNP B-NP B-LOC\n",
      "1996-08-22 CD I-NP O\n",
      "\n"
     ]
    }
   ],
   "source": [
    "# As we see we only care about the first and last entry of each row\n",
    "for i in range(3):\n",
    "    te = text_examples[i].split('\\n')\n",
    "    for row in te:\n",
    "        print(row)\n",
    "    print()"
   ]
  },
  {
   "cell_type": "code",
   "execution_count": 61,
   "metadata": {
    "colab": {
     "base_uri": "https://localhost:8080/",
     "height": 170
    },
    "colab_type": "code",
    "executionInfo": {
     "elapsed": 1080,
     "status": "ok",
     "timestamp": 1589647970864,
     "user": {
      "displayName": "Israel Campiotti",
      "photoUrl": "https://lh3.googleusercontent.com/a-/AOh14Ghxy8zYBrIXP82xQY8KlmWXPR9PJmyF2cG5YA6I=s64",
      "userId": "02000835910791656164"
     },
     "user_tz": 180
    },
    "id": "RVfFoc-iY_dZ",
    "outputId": "b0f61cd7-f58c-4fe3-c2c6-85fc44cd749b"
   },
   "outputs": [
    {
     "name": "stdout",
     "output_type": "stream",
     "text": [
      "EU                   B-ORG\n",
      "rejects              O\n",
      "German               B-MISC\n",
      "call                 O\n",
      "to                   O\n",
      "boycott              O\n",
      "British              B-MISC\n",
      "lamb                 O\n",
      ".                    O\n"
     ]
    }
   ],
   "source": [
    "te = text_examples[0].split('\\n')\n",
    "words, labels = [], []\n",
    "for row in te:\n",
    "    ws = row.split(' ')\n",
    "    words.append(ws[0])\n",
    "    labels.append(ws[-1])\n",
    "\n",
    "for w, l in zip(words, labels):\n",
    "    print(f'{w:20} {l}')"
   ]
  },
  {
   "cell_type": "code",
   "execution_count": 62,
   "metadata": {
    "colab": {},
    "colab_type": "code",
    "id": "fT89Ymw9dW4P"
   },
   "outputs": [],
   "source": [
    "source_words = []\n",
    "target_words = []\n",
    "current_word = []\n",
    "\n",
    "i = 0\n",
    "while len(source_words) < len(words):\n",
    "    w = words[i]\n",
    "    l = labels[i]\n",
    "\n",
    "    if l == 'O':\n",
    "        source_words.append(w)\n",
    "        target_words.extend([w, f'<{l}>'])\n",
    "        i += 1\n",
    "        continue\n",
    "\n",
    "    else: # found a B-ENT\n",
    "        j = i+1\n",
    "        ent_label = labels[i].split('-')[-1]\n",
    "        while labels[j] == f'I-{ent_label}' and j < len(labels):\n",
    "            j += 1\n",
    "        # adds the span\n",
    "\n",
    "        source_words.extend(words[i:j])\n",
    "        target_words.extend(words[i:j] + [f'<{ent_label}>'])\n",
    "        i = j"
   ]
  },
  {
   "cell_type": "code",
   "execution_count": 63,
   "metadata": {
    "colab": {
     "base_uri": "https://localhost:8080/",
     "height": 51
    },
    "colab_type": "code",
    "executionInfo": {
     "elapsed": 1034,
     "status": "ok",
     "timestamp": 1589649619005,
     "user": {
      "displayName": "Israel Campiotti",
      "photoUrl": "https://lh3.googleusercontent.com/a-/AOh14Ghxy8zYBrIXP82xQY8KlmWXPR9PJmyF2cG5YA6I=s64",
      "userId": "02000835910791656164"
     },
     "user_tz": 180
    },
    "id": "evTY5M2LfMl7",
    "outputId": "523b36eb-f14e-46af-f9b7-f48c68bb646c"
   },
   "outputs": [
    {
     "name": "stdout",
     "output_type": "stream",
     "text": [
      "Source text: EU rejects German call to boycott British lamb .\n",
      "Target text: EU <ORG> rejects <O> German <MISC> call <O> to <O> boycott <O> British <MISC> lamb <O> . <O>\n"
     ]
    }
   ],
   "source": [
    "print(f\"Source text: {' '.join(source_words)}\")\n",
    "print(f\"Target text: {' '.join(target_words)}\")"
   ]
  },
  {
   "cell_type": "code",
   "execution_count": 64,
   "metadata": {
    "colab": {
     "base_uri": "https://localhost:8080/",
     "height": 292
    },
    "colab_type": "code",
    "executionInfo": {
     "elapsed": 1163,
     "status": "ok",
     "timestamp": 1589650396920,
     "user": {
      "displayName": "Israel Campiotti",
      "photoUrl": "https://lh3.googleusercontent.com/a-/AOh14Ghxy8zYBrIXP82xQY8KlmWXPR9PJmyF2cG5YA6I=s64",
      "userId": "02000835910791656164"
     },
     "user_tz": 180
    },
    "id": "04pBIXJ_gAph",
    "outputId": "6549b943-9154-46cd-bfad-2cbac2205ea6"
   },
   "outputs": [
    {
     "name": "stdout",
     "output_type": "stream",
     "text": [
      "Source: EU rejects German call to boycott British lamb .\n",
      "Target: EU <ORG> rejects <O> German <MISC> call to boycott <O> British <MISC> lamb . <O>\n",
      "\n",
      "Source: Peter Blackburn\n",
      "Target: Peter Blackburn <PER>\n",
      "\n",
      "Source: BRUSSELS 1996-08-22\n",
      "Target: BRUSSELS <LOC> 1996-08-22 <O>\n",
      "\n",
      "Source: The European Commission said on Thursday it disagreed with German advice to consumers to shun British lamb until scientists determine whether mad cow disease can be transmitted to sheep .\n",
      "Target: The <O> European Commission <ORG> said on Thursday it disagreed with <O> German <MISC> advice to consumers to shun <O> British <MISC> lamb until scientists determine whether mad cow disease can be transmitted to sheep . <O>\n",
      "\n",
      "Source: Germany 's representative to the European Union 's veterinary committee Werner Zwingmann said on Wednesday consumers should buy sheepmeat from countries other than Britain until the scientific advice was clearer .\n",
      "Target: Germany <LOC> 's representative to the <O> European Union <ORG> 's veterinary committee <O> Werner Zwingmann <PER> said on Wednesday consumers should buy sheepmeat from countries other than <O> Britain <LOC> until the scientific advice was clearer . <O>\n",
      "\n"
     ]
    }
   ],
   "source": [
    "# Now with the function created\n",
    "for i in range(5):\n",
    "    example = convert_text_to_example(text_examples[i], merge_O=True)\n",
    "    print(example)\n",
    "    print()"
   ]
  },
  {
   "cell_type": "code",
   "execution_count": null,
   "metadata": {
    "colab": {},
    "colab_type": "code",
    "id": "yWA0nDaGhwqo"
   },
   "outputs": [],
   "source": []
  },
  {
   "cell_type": "code",
   "execution_count": null,
   "metadata": {},
   "outputs": [],
   "source": []
  }
 ],
 "metadata": {
  "colab": {
   "authorship_tag": "ABX9TyPOuM9eAIOnssbkIpZDS/3O",
   "collapsed_sections": [],
   "mount_file_id": "1rvZCsB34UU_L9pd_CP5kqTr-ZdCJinms",
   "name": "Creating The Dataset.ipynb",
   "provenance": [],
   "toc_visible": true
  },
  "kernelspec": {
   "display_name": "Python 3",
   "language": "python",
   "name": "python3"
  },
  "language_info": {
   "codemirror_mode": {
    "name": "ipython",
    "version": 3
   },
   "file_extension": ".py",
   "mimetype": "text/x-python",
   "name": "python",
   "nbconvert_exporter": "python",
   "pygments_lexer": "ipython3",
   "version": "3.6.10"
  }
 },
 "nbformat": 4,
 "nbformat_minor": 4
}
