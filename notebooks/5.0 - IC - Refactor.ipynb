{
 "cells": [
  {
   "cell_type": "code",
   "execution_count": 1,
   "metadata": {
    "colab": {},
    "colab_type": "code",
    "id": "DoywPEf3n2xH"
   },
   "outputs": [],
   "source": [
    "import os\n",
    "from argparse import Namespace"
   ]
  },
  {
   "cell_type": "code",
   "execution_count": null,
   "metadata": {},
   "outputs": [],
   "source": [
    "import torch\n",
    "from torch import nn\n",
    "from torch.utils.data import Dataset, DataLoader"
   ]
  },
  {
   "cell_type": "code",
   "execution_count": null,
   "metadata": {},
   "outputs": [],
   "source": [
    "import pytorch_lightning as pl"
   ]
  },
  {
   "cell_type": "code",
   "execution_count": null,
   "metadata": {
    "scrolled": true
   },
   "outputs": [],
   "source": [
    "from src.data.make_conll2003 import get_example_sets, InputExample"
   ]
  },
  {
   "cell_type": "code",
   "execution_count": null,
   "metadata": {},
   "outputs": [],
   "source": [
    "from src.models.modeling_t5ner import T5ForNER\n",
    "from src.models.modeling_t5 import WeightedT5\n",
    "from src.models.modeling_conll2003 import T5ForConll2003"
   ]
  },
  {
   "cell_type": "code",
   "execution_count": null,
   "metadata": {},
   "outputs": [],
   "source": [
    "hparams = {\"experiment_name\": \"Overfit T5 on CoNLL2003\",\n",
    "           \"batch_size\": 1, \"num_workers\": 2,\n",
    "           \"optimizer\": \"Adam\", \"lr\": 5e-3,\n",
    "           \"datapath\": \"../data/conll2003\",\n",
    "           \"source_max_length\": 128,\n",
    "           \"target_max_length\": 256,\n",
    "           \"labels_mode\": 'tokens',\n",
    "           \"shuffle_train\": False,\n",
    "           \"pretrained_model\": 't5-small'\n",
    "           }\n",
    "hparams = Namespace(**hparams)"
   ]
  },
  {
   "cell_type": "code",
   "execution_count": null,
   "metadata": {
    "scrolled": true
   },
   "outputs": [],
   "source": [
    "model = T5ForConll2003.from_pretrained(hparams.pretrained_model, hparams=hparams)"
   ]
  },
  {
   "cell_type": "code",
   "execution_count": null,
   "metadata": {},
   "outputs": [],
   "source": [
    "model.source_max_length"
   ]
  },
  {
   "cell_type": "code",
   "execution_count": null,
   "metadata": {},
   "outputs": [],
   "source": [
    "model.tokenizer.tokenize('<O>')"
   ]
  },
  {
   "cell_type": "code",
   "execution_count": null,
   "metadata": {},
   "outputs": [],
   "source": [
    "trainer = pl.Trainer(fast_dev_run=True)"
   ]
  },
  {
   "cell_type": "code",
   "execution_count": 11,
   "metadata": {},
   "outputs": [
    {
     "name": "stderr",
     "output_type": "stream",
     "text": [
      "\n",
      "    | Name                                                            | Type                  | Params\n",
      "------------------------------------------------------------------------------------------------------\n",
      "0   | shared                                                          | Embedding             | 16 M  \n",
      "1   | encoder                                                         | T5Stack               | 35 M  \n",
      "2   | encoder.block                                                   | ModuleList            | 18 M  \n",
      "3   | encoder.block.0                                                 | T5Block               | 3 M   \n",
      "4   | encoder.block.0.layer                                           | ModuleList            | 3 M   \n",
      "5   | encoder.block.0.layer.0                                         | T5LayerSelfAttention  | 1 M   \n",
      "6   | encoder.block.0.layer.0.SelfAttention                           | T5Attention           | 1 M   \n",
      "7   | encoder.block.0.layer.0.SelfAttention.q                         | Linear                | 262 K \n",
      "8   | encoder.block.0.layer.0.SelfAttention.k                         | Linear                | 262 K \n",
      "9   | encoder.block.0.layer.0.SelfAttention.v                         | Linear                | 262 K \n",
      "10  | encoder.block.0.layer.0.SelfAttention.o                         | Linear                | 262 K \n",
      "11  | encoder.block.0.layer.0.SelfAttention.relative_attention_bias   | Embedding             | 256   \n",
      "12  | encoder.block.0.layer.0.layer_norm                              | T5LayerNorm           | 512   \n",
      "13  | encoder.block.0.layer.0.dropout                                 | Dropout               | 0     \n",
      "14  | encoder.block.0.layer.1                                         | T5LayerFF             | 2 M   \n",
      "15  | encoder.block.0.layer.1.DenseReluDense                          | T5DenseReluDense      | 2 M   \n",
      "16  | encoder.block.0.layer.1.DenseReluDense.wi                       | Linear                | 1 M   \n",
      "17  | encoder.block.0.layer.1.DenseReluDense.wo                       | Linear                | 1 M   \n",
      "18  | encoder.block.0.layer.1.DenseReluDense.dropout                  | Dropout               | 0     \n",
      "19  | encoder.block.0.layer.1.layer_norm                              | T5LayerNorm           | 512   \n",
      "20  | encoder.block.0.layer.1.dropout                                 | Dropout               | 0     \n",
      "21  | encoder.block.1                                                 | T5Block               | 3 M   \n",
      "22  | encoder.block.1.layer                                           | ModuleList            | 3 M   \n",
      "23  | encoder.block.1.layer.0                                         | T5LayerSelfAttention  | 1 M   \n",
      "24  | encoder.block.1.layer.0.SelfAttention                           | T5Attention           | 1 M   \n",
      "25  | encoder.block.1.layer.0.SelfAttention.q                         | Linear                | 262 K \n",
      "26  | encoder.block.1.layer.0.SelfAttention.k                         | Linear                | 262 K \n",
      "27  | encoder.block.1.layer.0.SelfAttention.v                         | Linear                | 262 K \n",
      "28  | encoder.block.1.layer.0.SelfAttention.o                         | Linear                | 262 K \n",
      "29  | encoder.block.1.layer.0.layer_norm                              | T5LayerNorm           | 512   \n",
      "30  | encoder.block.1.layer.0.dropout                                 | Dropout               | 0     \n",
      "31  | encoder.block.1.layer.1                                         | T5LayerFF             | 2 M   \n",
      "32  | encoder.block.1.layer.1.DenseReluDense                          | T5DenseReluDense      | 2 M   \n",
      "33  | encoder.block.1.layer.1.DenseReluDense.wi                       | Linear                | 1 M   \n",
      "34  | encoder.block.1.layer.1.DenseReluDense.wo                       | Linear                | 1 M   \n",
      "35  | encoder.block.1.layer.1.DenseReluDense.dropout                  | Dropout               | 0     \n",
      "36  | encoder.block.1.layer.1.layer_norm                              | T5LayerNorm           | 512   \n",
      "37  | encoder.block.1.layer.1.dropout                                 | Dropout               | 0     \n",
      "38  | encoder.block.2                                                 | T5Block               | 3 M   \n",
      "39  | encoder.block.2.layer                                           | ModuleList            | 3 M   \n",
      "40  | encoder.block.2.layer.0                                         | T5LayerSelfAttention  | 1 M   \n",
      "41  | encoder.block.2.layer.0.SelfAttention                           | T5Attention           | 1 M   \n",
      "42  | encoder.block.2.layer.0.SelfAttention.q                         | Linear                | 262 K \n",
      "43  | encoder.block.2.layer.0.SelfAttention.k                         | Linear                | 262 K \n",
      "44  | encoder.block.2.layer.0.SelfAttention.v                         | Linear                | 262 K \n",
      "45  | encoder.block.2.layer.0.SelfAttention.o                         | Linear                | 262 K \n",
      "46  | encoder.block.2.layer.0.layer_norm                              | T5LayerNorm           | 512   \n",
      "47  | encoder.block.2.layer.0.dropout                                 | Dropout               | 0     \n",
      "48  | encoder.block.2.layer.1                                         | T5LayerFF             | 2 M   \n",
      "49  | encoder.block.2.layer.1.DenseReluDense                          | T5DenseReluDense      | 2 M   \n",
      "50  | encoder.block.2.layer.1.DenseReluDense.wi                       | Linear                | 1 M   \n",
      "51  | encoder.block.2.layer.1.DenseReluDense.wo                       | Linear                | 1 M   \n",
      "52  | encoder.block.2.layer.1.DenseReluDense.dropout                  | Dropout               | 0     \n",
      "53  | encoder.block.2.layer.1.layer_norm                              | T5LayerNorm           | 512   \n",
      "54  | encoder.block.2.layer.1.dropout                                 | Dropout               | 0     \n",
      "55  | encoder.block.3                                                 | T5Block               | 3 M   \n",
      "56  | encoder.block.3.layer                                           | ModuleList            | 3 M   \n",
      "57  | encoder.block.3.layer.0                                         | T5LayerSelfAttention  | 1 M   \n",
      "58  | encoder.block.3.layer.0.SelfAttention                           | T5Attention           | 1 M   \n",
      "59  | encoder.block.3.layer.0.SelfAttention.q                         | Linear                | 262 K \n",
      "60  | encoder.block.3.layer.0.SelfAttention.k                         | Linear                | 262 K \n",
      "61  | encoder.block.3.layer.0.SelfAttention.v                         | Linear                | 262 K \n",
      "62  | encoder.block.3.layer.0.SelfAttention.o                         | Linear                | 262 K \n",
      "63  | encoder.block.3.layer.0.layer_norm                              | T5LayerNorm           | 512   \n",
      "64  | encoder.block.3.layer.0.dropout                                 | Dropout               | 0     \n",
      "65  | encoder.block.3.layer.1                                         | T5LayerFF             | 2 M   \n",
      "66  | encoder.block.3.layer.1.DenseReluDense                          | T5DenseReluDense      | 2 M   \n",
      "67  | encoder.block.3.layer.1.DenseReluDense.wi                       | Linear                | 1 M   \n",
      "68  | encoder.block.3.layer.1.DenseReluDense.wo                       | Linear                | 1 M   \n",
      "69  | encoder.block.3.layer.1.DenseReluDense.dropout                  | Dropout               | 0     \n",
      "70  | encoder.block.3.layer.1.layer_norm                              | T5LayerNorm           | 512   \n",
      "71  | encoder.block.3.layer.1.dropout                                 | Dropout               | 0     \n",
      "72  | encoder.block.4                                                 | T5Block               | 3 M   \n",
      "73  | encoder.block.4.layer                                           | ModuleList            | 3 M   \n",
      "74  | encoder.block.4.layer.0                                         | T5LayerSelfAttention  | 1 M   \n",
      "75  | encoder.block.4.layer.0.SelfAttention                           | T5Attention           | 1 M   \n",
      "76  | encoder.block.4.layer.0.SelfAttention.q                         | Linear                | 262 K \n",
      "77  | encoder.block.4.layer.0.SelfAttention.k                         | Linear                | 262 K \n",
      "78  | encoder.block.4.layer.0.SelfAttention.v                         | Linear                | 262 K \n",
      "79  | encoder.block.4.layer.0.SelfAttention.o                         | Linear                | 262 K \n",
      "80  | encoder.block.4.layer.0.layer_norm                              | T5LayerNorm           | 512   \n",
      "81  | encoder.block.4.layer.0.dropout                                 | Dropout               | 0     \n",
      "82  | encoder.block.4.layer.1                                         | T5LayerFF             | 2 M   \n",
      "83  | encoder.block.4.layer.1.DenseReluDense                          | T5DenseReluDense      | 2 M   \n",
      "84  | encoder.block.4.layer.1.DenseReluDense.wi                       | Linear                | 1 M   \n",
      "85  | encoder.block.4.layer.1.DenseReluDense.wo                       | Linear                | 1 M   \n",
      "86  | encoder.block.4.layer.1.DenseReluDense.dropout                  | Dropout               | 0     \n",
      "87  | encoder.block.4.layer.1.layer_norm                              | T5LayerNorm           | 512   \n",
      "88  | encoder.block.4.layer.1.dropout                                 | Dropout               | 0     \n",
      "89  | encoder.block.5                                                 | T5Block               | 3 M   \n",
      "90  | encoder.block.5.layer                                           | ModuleList            | 3 M   \n",
      "91  | encoder.block.5.layer.0                                         | T5LayerSelfAttention  | 1 M   \n",
      "92  | encoder.block.5.layer.0.SelfAttention                           | T5Attention           | 1 M   \n",
      "93  | encoder.block.5.layer.0.SelfAttention.q                         | Linear                | 262 K \n",
      "94  | encoder.block.5.layer.0.SelfAttention.k                         | Linear                | 262 K \n",
      "95  | encoder.block.5.layer.0.SelfAttention.v                         | Linear                | 262 K \n",
      "96  | encoder.block.5.layer.0.SelfAttention.o                         | Linear                | 262 K \n",
      "97  | encoder.block.5.layer.0.layer_norm                              | T5LayerNorm           | 512   \n",
      "98  | encoder.block.5.layer.0.dropout                                 | Dropout               | 0     \n",
      "99  | encoder.block.5.layer.1                                         | T5LayerFF             | 2 M   \n",
      "100 | encoder.block.5.layer.1.DenseReluDense                          | T5DenseReluDense      | 2 M   \n",
      "101 | encoder.block.5.layer.1.DenseReluDense.wi                       | Linear                | 1 M   \n",
      "102 | encoder.block.5.layer.1.DenseReluDense.wo                       | Linear                | 1 M   \n",
      "103 | encoder.block.5.layer.1.DenseReluDense.dropout                  | Dropout               | 0     \n",
      "104 | encoder.block.5.layer.1.layer_norm                              | T5LayerNorm           | 512   \n",
      "105 | encoder.block.5.layer.1.dropout                                 | Dropout               | 0     \n",
      "106 | encoder.final_layer_norm                                        | T5LayerNorm           | 512   \n",
      "107 | encoder.dropout                                                 | Dropout               | 0     \n",
      "108 | decoder                                                         | T5Stack               | 41 M  \n",
      "109 | decoder.block                                                   | ModuleList            | 25 M  \n",
      "110 | decoder.block.0                                                 | T5Block               | 4 M   \n",
      "111 | decoder.block.0.layer                                           | ModuleList            | 4 M   \n",
      "112 | decoder.block.0.layer.0                                         | T5LayerSelfAttention  | 1 M   \n",
      "113 | decoder.block.0.layer.0.SelfAttention                           | T5Attention           | 1 M   \n",
      "114 | decoder.block.0.layer.0.SelfAttention.q                         | Linear                | 262 K \n",
      "115 | decoder.block.0.layer.0.SelfAttention.k                         | Linear                | 262 K \n",
      "116 | decoder.block.0.layer.0.SelfAttention.v                         | Linear                | 262 K \n",
      "117 | decoder.block.0.layer.0.SelfAttention.o                         | Linear                | 262 K \n",
      "118 | decoder.block.0.layer.0.SelfAttention.relative_attention_bias   | Embedding             | 256   \n",
      "119 | decoder.block.0.layer.0.layer_norm                              | T5LayerNorm           | 512   \n",
      "120 | decoder.block.0.layer.0.dropout                                 | Dropout               | 0     \n",
      "121 | decoder.block.0.layer.1                                         | T5LayerCrossAttention | 1 M   \n",
      "122 | decoder.block.0.layer.1.EncDecAttention                         | T5Attention           | 1 M   \n",
      "123 | decoder.block.0.layer.1.EncDecAttention.q                       | Linear                | 262 K \n",
      "124 | decoder.block.0.layer.1.EncDecAttention.k                       | Linear                | 262 K \n",
      "125 | decoder.block.0.layer.1.EncDecAttention.v                       | Linear                | 262 K \n",
      "126 | decoder.block.0.layer.1.EncDecAttention.o                       | Linear                | 262 K \n",
      "127 | decoder.block.0.layer.1.EncDecAttention.relative_attention_bias | Embedding             | 256   \n",
      "128 | decoder.block.0.layer.1.layer_norm                              | T5LayerNorm           | 512   \n",
      "129 | decoder.block.0.layer.1.dropout                                 | Dropout               | 0     \n",
      "130 | decoder.block.0.layer.2                                         | T5LayerFF             | 2 M   \n",
      "131 | decoder.block.0.layer.2.DenseReluDense                          | T5DenseReluDense      | 2 M   \n",
      "132 | decoder.block.0.layer.2.DenseReluDense.wi                       | Linear                | 1 M   \n",
      "133 | decoder.block.0.layer.2.DenseReluDense.wo                       | Linear                | 1 M   \n",
      "134 | decoder.block.0.layer.2.DenseReluDense.dropout                  | Dropout               | 0     \n",
      "135 | decoder.block.0.layer.2.layer_norm                              | T5LayerNorm           | 512   \n",
      "136 | decoder.block.0.layer.2.dropout                                 | Dropout               | 0     \n",
      "137 | decoder.block.1                                                 | T5Block               | 4 M   \n",
      "138 | decoder.block.1.layer                                           | ModuleList            | 4 M   \n",
      "139 | decoder.block.1.layer.0                                         | T5LayerSelfAttention  | 1 M   \n",
      "140 | decoder.block.1.layer.0.SelfAttention                           | T5Attention           | 1 M   \n",
      "141 | decoder.block.1.layer.0.SelfAttention.q                         | Linear                | 262 K \n",
      "142 | decoder.block.1.layer.0.SelfAttention.k                         | Linear                | 262 K \n",
      "143 | decoder.block.1.layer.0.SelfAttention.v                         | Linear                | 262 K \n",
      "144 | decoder.block.1.layer.0.SelfAttention.o                         | Linear                | 262 K \n",
      "145 | decoder.block.1.layer.0.layer_norm                              | T5LayerNorm           | 512   \n",
      "146 | decoder.block.1.layer.0.dropout                                 | Dropout               | 0     \n",
      "147 | decoder.block.1.layer.1                                         | T5LayerCrossAttention | 1 M   \n",
      "148 | decoder.block.1.layer.1.EncDecAttention                         | T5Attention           | 1 M   \n",
      "149 | decoder.block.1.layer.1.EncDecAttention.q                       | Linear                | 262 K \n",
      "150 | decoder.block.1.layer.1.EncDecAttention.k                       | Linear                | 262 K \n",
      "151 | decoder.block.1.layer.1.EncDecAttention.v                       | Linear                | 262 K \n",
      "152 | decoder.block.1.layer.1.EncDecAttention.o                       | Linear                | 262 K \n",
      "153 | decoder.block.1.layer.1.layer_norm                              | T5LayerNorm           | 512   \n",
      "154 | decoder.block.1.layer.1.dropout                                 | Dropout               | 0     \n",
      "155 | decoder.block.1.layer.2                                         | T5LayerFF             | 2 M   \n",
      "156 | decoder.block.1.layer.2.DenseReluDense                          | T5DenseReluDense      | 2 M   \n",
      "157 | decoder.block.1.layer.2.DenseReluDense.wi                       | Linear                | 1 M   \n",
      "158 | decoder.block.1.layer.2.DenseReluDense.wo                       | Linear                | 1 M   \n",
      "159 | decoder.block.1.layer.2.DenseReluDense.dropout                  | Dropout               | 0     \n",
      "160 | decoder.block.1.layer.2.layer_norm                              | T5LayerNorm           | 512   \n",
      "161 | decoder.block.1.layer.2.dropout                                 | Dropout               | 0     \n",
      "162 | decoder.block.2                                                 | T5Block               | 4 M   \n",
      "163 | decoder.block.2.layer                                           | ModuleList            | 4 M   \n",
      "164 | decoder.block.2.layer.0                                         | T5LayerSelfAttention  | 1 M   \n",
      "165 | decoder.block.2.layer.0.SelfAttention                           | T5Attention           | 1 M   \n",
      "166 | decoder.block.2.layer.0.SelfAttention.q                         | Linear                | 262 K \n",
      "167 | decoder.block.2.layer.0.SelfAttention.k                         | Linear                | 262 K \n",
      "168 | decoder.block.2.layer.0.SelfAttention.v                         | Linear                | 262 K \n",
      "169 | decoder.block.2.layer.0.SelfAttention.o                         | Linear                | 262 K \n",
      "170 | decoder.block.2.layer.0.layer_norm                              | T5LayerNorm           | 512   \n",
      "171 | decoder.block.2.layer.0.dropout                                 | Dropout               | 0     \n",
      "172 | decoder.block.2.layer.1                                         | T5LayerCrossAttention | 1 M   \n",
      "173 | decoder.block.2.layer.1.EncDecAttention                         | T5Attention           | 1 M   \n",
      "174 | decoder.block.2.layer.1.EncDecAttention.q                       | Linear                | 262 K \n",
      "175 | decoder.block.2.layer.1.EncDecAttention.k                       | Linear                | 262 K \n",
      "176 | decoder.block.2.layer.1.EncDecAttention.v                       | Linear                | 262 K \n",
      "177 | decoder.block.2.layer.1.EncDecAttention.o                       | Linear                | 262 K \n",
      "178 | decoder.block.2.layer.1.layer_norm                              | T5LayerNorm           | 512   \n",
      "179 | decoder.block.2.layer.1.dropout                                 | Dropout               | 0     \n",
      "180 | decoder.block.2.layer.2                                         | T5LayerFF             | 2 M   \n",
      "181 | decoder.block.2.layer.2.DenseReluDense                          | T5DenseReluDense      | 2 M   \n",
      "182 | decoder.block.2.layer.2.DenseReluDense.wi                       | Linear                | 1 M   \n",
      "183 | decoder.block.2.layer.2.DenseReluDense.wo                       | Linear                | 1 M   \n",
      "184 | decoder.block.2.layer.2.DenseReluDense.dropout                  | Dropout               | 0     \n",
      "185 | decoder.block.2.layer.2.layer_norm                              | T5LayerNorm           | 512   \n",
      "186 | decoder.block.2.layer.2.dropout                                 | Dropout               | 0     \n",
      "187 | decoder.block.3                                                 | T5Block               | 4 M   \n",
      "188 | decoder.block.3.layer                                           | ModuleList            | 4 M   \n",
      "189 | decoder.block.3.layer.0                                         | T5LayerSelfAttention  | 1 M   \n",
      "190 | decoder.block.3.layer.0.SelfAttention                           | T5Attention           | 1 M   \n",
      "191 | decoder.block.3.layer.0.SelfAttention.q                         | Linear                | 262 K \n",
      "192 | decoder.block.3.layer.0.SelfAttention.k                         | Linear                | 262 K \n",
      "193 | decoder.block.3.layer.0.SelfAttention.v                         | Linear                | 262 K \n",
      "194 | decoder.block.3.layer.0.SelfAttention.o                         | Linear                | 262 K \n",
      "195 | decoder.block.3.layer.0.layer_norm                              | T5LayerNorm           | 512   \n",
      "196 | decoder.block.3.layer.0.dropout                                 | Dropout               | 0     \n",
      "197 | decoder.block.3.layer.1                                         | T5LayerCrossAttention | 1 M   \n",
      "198 | decoder.block.3.layer.1.EncDecAttention                         | T5Attention           | 1 M   \n",
      "199 | decoder.block.3.layer.1.EncDecAttention.q                       | Linear                | 262 K \n",
      "200 | decoder.block.3.layer.1.EncDecAttention.k                       | Linear                | 262 K \n",
      "201 | decoder.block.3.layer.1.EncDecAttention.v                       | Linear                | 262 K \n",
      "202 | decoder.block.3.layer.1.EncDecAttention.o                       | Linear                | 262 K \n",
      "203 | decoder.block.3.layer.1.layer_norm                              | T5LayerNorm           | 512   \n",
      "204 | decoder.block.3.layer.1.dropout                                 | Dropout               | 0     \n",
      "205 | decoder.block.3.layer.2                                         | T5LayerFF             | 2 M   \n",
      "206 | decoder.block.3.layer.2.DenseReluDense                          | T5DenseReluDense      | 2 M   \n",
      "207 | decoder.block.3.layer.2.DenseReluDense.wi                       | Linear                | 1 M   \n",
      "208 | decoder.block.3.layer.2.DenseReluDense.wo                       | Linear                | 1 M   \n",
      "209 | decoder.block.3.layer.2.DenseReluDense.dropout                  | Dropout               | 0     \n",
      "210 | decoder.block.3.layer.2.layer_norm                              | T5LayerNorm           | 512   \n",
      "211 | decoder.block.3.layer.2.dropout                                 | Dropout               | 0     \n",
      "212 | decoder.block.4                                                 | T5Block               | 4 M   \n",
      "213 | decoder.block.4.layer                                           | ModuleList            | 4 M   \n",
      "214 | decoder.block.4.layer.0                                         | T5LayerSelfAttention  | 1 M   \n",
      "215 | decoder.block.4.layer.0.SelfAttention                           | T5Attention           | 1 M   \n",
      "216 | decoder.block.4.layer.0.SelfAttention.q                         | Linear                | 262 K \n",
      "217 | decoder.block.4.layer.0.SelfAttention.k                         | Linear                | 262 K \n",
      "218 | decoder.block.4.layer.0.SelfAttention.v                         | Linear                | 262 K \n",
      "219 | decoder.block.4.layer.0.SelfAttention.o                         | Linear                | 262 K \n",
      "220 | decoder.block.4.layer.0.layer_norm                              | T5LayerNorm           | 512   \n",
      "221 | decoder.block.4.layer.0.dropout                                 | Dropout               | 0     \n",
      "222 | decoder.block.4.layer.1                                         | T5LayerCrossAttention | 1 M   \n",
      "223 | decoder.block.4.layer.1.EncDecAttention                         | T5Attention           | 1 M   \n",
      "224 | decoder.block.4.layer.1.EncDecAttention.q                       | Linear                | 262 K \n",
      "225 | decoder.block.4.layer.1.EncDecAttention.k                       | Linear                | 262 K \n",
      "226 | decoder.block.4.layer.1.EncDecAttention.v                       | Linear                | 262 K \n",
      "227 | decoder.block.4.layer.1.EncDecAttention.o                       | Linear                | 262 K \n",
      "228 | decoder.block.4.layer.1.layer_norm                              | T5LayerNorm           | 512   \n",
      "229 | decoder.block.4.layer.1.dropout                                 | Dropout               | 0     \n",
      "230 | decoder.block.4.layer.2                                         | T5LayerFF             | 2 M   \n",
      "231 | decoder.block.4.layer.2.DenseReluDense                          | T5DenseReluDense      | 2 M   \n",
      "232 | decoder.block.4.layer.2.DenseReluDense.wi                       | Linear                | 1 M   \n",
      "233 | decoder.block.4.layer.2.DenseReluDense.wo                       | Linear                | 1 M   \n",
      "234 | decoder.block.4.layer.2.DenseReluDense.dropout                  | Dropout               | 0     \n",
      "235 | decoder.block.4.layer.2.layer_norm                              | T5LayerNorm           | 512   \n",
      "236 | decoder.block.4.layer.2.dropout                                 | Dropout               | 0     \n",
      "237 | decoder.block.5                                                 | T5Block               | 4 M   \n",
      "238 | decoder.block.5.layer                                           | ModuleList            | 4 M   \n",
      "239 | decoder.block.5.layer.0                                         | T5LayerSelfAttention  | 1 M   \n",
      "240 | decoder.block.5.layer.0.SelfAttention                           | T5Attention           | 1 M   \n",
      "241 | decoder.block.5.layer.0.SelfAttention.q                         | Linear                | 262 K \n",
      "242 | decoder.block.5.layer.0.SelfAttention.k                         | Linear                | 262 K \n",
      "243 | decoder.block.5.layer.0.SelfAttention.v                         | Linear                | 262 K \n",
      "244 | decoder.block.5.layer.0.SelfAttention.o                         | Linear                | 262 K \n",
      "245 | decoder.block.5.layer.0.layer_norm                              | T5LayerNorm           | 512   \n",
      "246 | decoder.block.5.layer.0.dropout                                 | Dropout               | 0     \n",
      "247 | decoder.block.5.layer.1                                         | T5LayerCrossAttention | 1 M   \n",
      "248 | decoder.block.5.layer.1.EncDecAttention                         | T5Attention           | 1 M   \n",
      "249 | decoder.block.5.layer.1.EncDecAttention.q                       | Linear                | 262 K \n",
      "250 | decoder.block.5.layer.1.EncDecAttention.k                       | Linear                | 262 K \n",
      "251 | decoder.block.5.layer.1.EncDecAttention.v                       | Linear                | 262 K \n",
      "252 | decoder.block.5.layer.1.EncDecAttention.o                       | Linear                | 262 K \n",
      "253 | decoder.block.5.layer.1.layer_norm                              | T5LayerNorm           | 512   \n",
      "254 | decoder.block.5.layer.1.dropout                                 | Dropout               | 0     \n",
      "255 | decoder.block.5.layer.2                                         | T5LayerFF             | 2 M   \n",
      "256 | decoder.block.5.layer.2.DenseReluDense                          | T5DenseReluDense      | 2 M   \n",
      "257 | decoder.block.5.layer.2.DenseReluDense.wi                       | Linear                | 1 M   \n",
      "258 | decoder.block.5.layer.2.DenseReluDense.wo                       | Linear                | 1 M   \n",
      "259 | decoder.block.5.layer.2.DenseReluDense.dropout                  | Dropout               | 0     \n",
      "260 | decoder.block.5.layer.2.layer_norm                              | T5LayerNorm           | 512   \n",
      "261 | decoder.block.5.layer.2.dropout                                 | Dropout               | 0     \n",
      "262 | decoder.final_layer_norm                                        | T5LayerNorm           | 512   \n",
      "263 | decoder.dropout                                                 | Dropout               | 0     \n",
      "264 | lm_head                                                         | Linear                | 16 M  \n",
      "/home/israel/miniconda3/envs/t5ner/lib/python3.8/site-packages/pytorch_lightning/utilities/distributed.py:23: UserWarning: The dataloader, train dataloader, does not have many workers which may be a bottleneck. Consider increasing the value of the `num_workers` argument` in the `DataLoader` init to improve performance.\n",
      "  warnings.warn(*args, **kwargs)\n",
      "/home/israel/miniconda3/envs/t5ner/lib/python3.8/site-packages/pytorch_lightning/utilities/distributed.py:23: UserWarning: The dataloader, val dataloader 0, does not have many workers which may be a bottleneck. Consider increasing the value of the `num_workers` argument` in the `DataLoader` init to improve performance.\n",
      "  warnings.warn(*args, **kwargs)\n"
     ]
    },
    {
     "data": {
      "application/vnd.jupyter.widget-view+json": {
       "model_id": "dba66e9df01d4725a747c93af3306f6b",
       "version_major": 2,
       "version_minor": 0
      },
      "text/plain": [
       "HBox(children=(FloatProgress(value=1.0, bar_style='info', description='Training', layout=Layout(flex='2'), max…"
      ]
     },
     "metadata": {},
     "output_type": "display_data"
    },
    {
     "name": "stderr",
     "output_type": "stream",
     "text": [
      "/opt/conda/conda-bld/pytorch_1587428207430/work/torch/csrc/utils/python_arg_parser.cpp:756: UserWarning: This overload of nonzero is deprecated:\n",
      "\tnonzero(Tensor input, *, Tensor out)\n",
      "Consider using one of the following signatures instead:\n",
      "\tnonzero(Tensor input, *, bool as_tuple)\n"
     ]
    },
    {
     "data": {
      "application/vnd.jupyter.widget-view+json": {
       "model_id": "",
       "version_major": 2,
       "version_minor": 0
      },
      "text/plain": [
       "HBox(children=(FloatProgress(value=1.0, bar_style='info', description='Validating', layout=Layout(flex='2'), m…"
      ]
     },
     "metadata": {},
     "output_type": "display_data"
    },
    {
     "name": "stdout",
     "output_type": "stream",
     "text": [
      "\n"
     ]
    },
    {
     "data": {
      "text/plain": [
       "1"
      ]
     },
     "execution_count": 11,
     "metadata": {},
     "output_type": "execute_result"
    }
   ],
   "source": [
    "trainer.fit(model)"
   ]
  },
  {
   "cell_type": "code",
   "execution_count": null,
   "metadata": {},
   "outputs": [],
   "source": [
    "trainer.test(model)"
   ]
  },
  {
   "cell_type": "code",
   "execution_count": null,
   "metadata": {},
   "outputs": [],
   "source": [
    "model.prepare_data()"
   ]
  },
  {
   "cell_type": "code",
   "execution_count": null,
   "metadata": {},
   "outputs": [],
   "source": [
    "model.train_dataset"
   ]
  },
  {
   "cell_type": "code",
   "execution_count": null,
   "metadata": {},
   "outputs": [],
   "source": [
    "batch = next(iter(model.train_dataloader()))"
   ]
  },
  {
   "cell_type": "code",
   "execution_count": null,
   "metadata": {},
   "outputs": [],
   "source": []
  },
  {
   "cell_type": "code",
   "execution_count": null,
   "metadata": {},
   "outputs": [],
   "source": [
    "for name in model.modules():\n",
    "    print(name)"
   ]
  },
  {
   "cell_type": "code",
   "execution_count": null,
   "metadata": {},
   "outputs": [],
   "source": []
  }
 ],
 "metadata": {
  "kernelspec": {
   "display_name": "Python [conda env:t5ner]",
   "language": "python",
   "name": "conda-env-t5ner-py"
  },
  "language_info": {
   "codemirror_mode": {
    "name": "ipython",
    "version": 3
   },
   "file_extension": ".py",
   "mimetype": "text/x-python",
   "name": "python",
   "nbconvert_exporter": "python",
   "pygments_lexer": "ipython3",
   "version": "3.8.3"
  }
 },
 "nbformat": 4,
 "nbformat_minor": 4
}
