{
 "cells": [
  {
   "cell_type": "markdown",
   "metadata": {},
   "source": [
    "# Imports"
   ]
  },
  {
   "cell_type": "code",
   "execution_count": 47,
   "metadata": {},
   "outputs": [],
   "source": [
    "from seqeval.metrics import classification_report\n",
    "from transformers import T5Tokenizer\n",
    "import pandas as pd\n",
    "import seaborn as sns\n",
    "import numpy as np\n",
    "import matplotlib.pyplot as plt\n",
    "\n",
    "from src.data.make_conll2003 import get_example_sets\n",
    "from src.models.evaluate import get_entities_from_tokens"
   ]
  },
  {
   "cell_type": "code",
   "execution_count": 48,
   "metadata": {},
   "outputs": [],
   "source": [
    "sns.set()"
   ]
  },
  {
   "cell_type": "markdown",
   "metadata": {},
   "source": [
    "# Setup"
   ]
  },
  {
   "cell_type": "code",
   "execution_count": 3,
   "metadata": {},
   "outputs": [],
   "source": [
    "ENTITIES_TOKENS = [\n",
    "    '<O>',\n",
    "    '<PER>',\n",
    "    '<ORG>',\n",
    "    '<LOC>',\n",
    "    '<MISC>',\n",
    "    '<Ent>'\n",
    "]"
   ]
  },
  {
   "cell_type": "code",
   "execution_count": 4,
   "metadata": {},
   "outputs": [],
   "source": [
    "tokenizer = T5Tokenizer.from_pretrained('t5-small')"
   ]
  },
  {
   "cell_type": "code",
   "execution_count": 5,
   "metadata": {
    "scrolled": true
   },
   "outputs": [
    {
     "data": {
      "text/plain": [
       "6"
      ]
     },
     "execution_count": 5,
     "metadata": {},
     "output_type": "execute_result"
    }
   ],
   "source": [
    "tokenizer.add_tokens(ENTITIES_TOKENS)"
   ]
  },
  {
   "cell_type": "code",
   "execution_count": 19,
   "metadata": {},
   "outputs": [],
   "source": [
    "examples_sets = get_example_sets('../data/conll2003/', merge_O=True)"
   ]
  },
  {
   "cell_type": "code",
   "execution_count": 20,
   "metadata": {},
   "outputs": [],
   "source": [
    "def get_all_entites_from_examples(examples):\n",
    "    entities = []\n",
    "    for ex in examples:\n",
    "        source_tokens = tokenizer.tokenize(ex.source)\n",
    "        target_tokens = tokenizer.tokenize(ex.target)\n",
    "\n",
    "        ents = get_entities_from_tokens(target_tokens, tokenizer, ENTITIES_TOKENS, len(source_tokens))\n",
    "\n",
    "        entities.append(ents)\n",
    "    return entities"
   ]
  },
  {
   "cell_type": "markdown",
   "metadata": {},
   "source": [
    "# Olhando exemplos"
   ]
  },
  {
   "cell_type": "code",
   "execution_count": 49,
   "metadata": {
    "scrolled": true
   },
   "outputs": [
    {
     "name": "stdout",
     "output_type": "stream",
     "text": [
      "Source: The media ...\n",
      "Target: The media ... <O>\n",
      "\n",
      "Source: are full of expressions and declarations that must be worrying ...\n",
      "Target: are full of expressions and declarations that must be worrying ... <O>\n",
      "\n",
      "Source: this artificial atmosphere is very dangerous because those who spread it could become its prisoners , \" Levy said .\n",
      "Target: this artificial atmosphere is very dangerous because those who spread it could become its prisoners , \" <O> Levy <PER> said . <O>\n",
      "\n",
      "Source: \" We expect from Syria , if its face is to peace , that it will answer Israel 's message to enter peace negotiations because that is our goal , \" he said . \"\n",
      "Target: \" We expect from <O> Syria <LOC> , if its face is to peace , that it will answer <O> Israel <LOC> 's message to enter peace negotiations because that is our goal , \" he said . \" <O>\n",
      "\n",
      "Source: We do not want a war , God forbid .\n",
      "Target: We do not want a war , <O> God <PER> forbid . <O>\n",
      "\n",
      "Source: No one benefits from wars . \"\n",
      "Target: No one benefits from wars . \" <O>\n",
      "\n",
      "Source: Israel 's Channel Two television said Damascus had sent a \" calming signal \" to Israel .\n",
      "Target: Israel <LOC> 's <O> Channel Two <ORG> television said <O> Damascus <LOC> had sent a \" calming signal \" to <O> Israel <LOC> . <O>\n",
      "\n",
      "Source: It gave no source for the report .\n",
      "Target: It gave no source for the report . <O>\n",
      "\n",
      "Source: Netanyahu and Levy 's spokesmen said they could not confirm it .\n",
      "Target: Netanyahu <PER> and <O> Levy <PER> 's spokesmen said they could not confirm it . <O>\n",
      "\n",
      "Source: The television also said that Netanyahu had sent messages to reassure Syria via Cairo , the United States and Moscow .\n",
      "Target: The television also said that <O> Netanyahu <PER> had sent messages to reassure <O> Syria <LOC> via <O> Cairo <LOC> , the <O> United States <LOC> and <O> Moscow <LOC> . <O>\n",
      "\n",
      "Source: -DOCSTART-\n",
      "Target: -DOCSTART- <O>\n",
      "\n",
      "Source: Polish diplomat denies nurses stranded in Libya .\n",
      "Target: Polish <MISC> diplomat denies nurses stranded in <O> Libya <LOC> . <O>\n",
      "\n",
      "Source: TUNIS 1996-08-22\n",
      "Target: TUNIS <LOC> 1996-08-22 <O>\n",
      "\n",
      "Source: A Polish diplomat on Thursday denied a Polish tabloid report this week that Libya was refusing exit visas to 100 Polish nurses trying to return home after working in the North African country .\n",
      "Target: A <O> Polish <MISC> diplomat on Thursday denied a <O> Polish <MISC> tabloid report this week that <O> Libya <LOC> was refusing exit visas to 100 <O> Polish <MISC> nurses trying to return home after working in the <O> North African <MISC> country . <O>\n",
      "\n",
      "Source: \" This is not true .\n",
      "Target: \" This is not true . <O>\n",
      "\n",
      "Source: Up to today , we have no knowledge of any nurse stranded or kept in Libya without her will , and we have not received any complaint , \" the Polish embassy 's charge d'affaires in Tripoli , Tadeusz Awdankiewicz , told Reuters by telephone .\n",
      "Target: Up to today , we have no knowledge of any nurse stranded or kept in <O> Libya <LOC> without her will , and we have not received any complaint , \" the <O> Polish <MISC> embassy 's charge d'affaires in <O> Tripoli <LOC> , <O> Tadeusz Awdankiewicz <PER> , told <O> Reuters <ORG> by telephone . <O>\n",
      "\n",
      "Source: Poland 's labour ministry said this week it would send a team to Libya to investigate , but Awdankiewicz said the probe was prompted by some nurses complaining about their work conditions such as non-payment of their salaries .\n",
      "Target: Poland <LOC> 's labour ministry said this week it would send a team to <O> Libya <LOC> to investigate , but <O> Awdankiewicz <PER> said the probe was prompted by some nurses complaining about their work conditions such as non-payment of their salaries . <O>\n",
      "\n",
      "Source: He said that there are an estimated 800 Polish nurses working in Libya .\n",
      "Target: He said that there are an estimated 800 <O> Polish <MISC> nurses working in <O> Libya <LOC> . <O>\n",
      "\n",
      "Source: -DOCSTART-\n",
      "Target: -DOCSTART- <O>\n",
      "\n",
      "Source: Two Iranian opposition leaders meet in Baghdad .\n",
      "Target: Two <O> Iranian <MISC> opposition leaders meet in <O> Baghdad <LOC> . <O>\n",
      "\n",
      "Source: Hassan Hafidh\n",
      "Target: Hassan Hafidh <PER>\n",
      "\n",
      "Source: BAGHDAD 1996-08-22\n",
      "Target: BAGHDAD <LOC> 1996-08-22 <O>\n",
      "\n",
      "Source: An Iranian exile group based in Iraq vowed on Thursday to extend support to Iran 's Kurdish rebels after they were attacked by Iranian troops deep inside Iraq last month .\n",
      "Target: An <O> Iranian <MISC> exile group based in <O> Iraq <LOC> vowed on Thursday to extend support to <O> Iran <LOC> 's <O> Kurdish <MISC> rebels after they were attacked by <O> Iranian <MISC> troops deep inside <O> Iraq <LOC> last month . <O>\n",
      "\n",
      "Source: A Mujahideen Khalq statement said its leader Massoud Rajavi met in Baghdad the Secretary-General of the Kurdistan Democratic Party of Iran ( KDPI ) Hassan Rastegar on Wednesday and voiced his support to Iran 's rebel Kurds .\n",
      "Target: A <O> Mujahideen Khalq <ORG> statement said its leader <O> Massoud Rajavi <PER> met in <O> Baghdad <LOC> the Secretary-General of the <O> Kurdistan Democratic Party of Iran <ORG> ( <O> KDPI <ORG> ) <O> Hassan Rastegar <PER> on Wednesday and voiced his support to <O> Iran <LOC> 's rebel <O> Kurds <MISC> . <O>\n",
      "\n",
      "Source: \" Rajavi emphasised that the Iranian Resistance would continue to stand side by side with their Kurdish compatriots and the resistance movement in Iranian Kurdistan , \" it said .\n",
      "Target: \" <O> Rajavi <MISC> emphasised that the <O> Iranian <MISC> Resistance <ORG> would continue to stand side by side with their <O> Kurdish <MISC> compatriots and the resistance movement in <O> Iranian Kurdistan <LOC> , \" it said . <O>\n",
      "\n",
      "Source: A spokesman for the group said the meeting \" signals a new level of cooperation between Mujahideen Khalq and the Iranian Kurdish oppositions \" .\n",
      "Target: A spokesman for the group said the meeting \" signals a new level of cooperation between <O> Mujahideen Khalq <ORG> and the <O> Iranian Kurdish <MISC> oppositions \" . <O>\n",
      "\n",
      "Source: Iran heavily bombarded targets in northern Iraq in July in pursuit of KDPI guerrillas based in Iraqi Kurdish areas outside the control of the government in Baghdad .\n",
      "Target: Iran <LOC> heavily bombarded targets in northern <O> Iraq <LOC> in July in pursuit of <O> KDPI <ORG> guerrillas based in <O> Iraqi Kurdish <MISC> areas outside the control of the government in <O> Baghdad <LOC> . <O>\n",
      "\n",
      "Source: Iraqi Kurdish areas bordering Iran are under the control of guerrillas of the Iraqi Kurdish Patriotic Union of Kurdistan ( PUK ) group .\n",
      "Target: Iraqi Kurdish <MISC> areas bordering <O> Iran <LOC> are under the control of guerrillas of the <O> Iraqi Kurdish Patriotic Union of Kurdistan <ORG> ( <O> PUK <ORG> ) group . <O>\n",
      "\n",
      "Source: PUK and Iraq 's Kurdistan Democratic Party ( KDP ) the two main Iraqi Kurdish factions , have had northern Iraq under their control since Iraqi forces were ousted from Kuwait in the 1991 Gulf War .\n",
      "Target: PUK <ORG> and <O> Iraq <LOC> 's <O> Kurdistan Democratic Party <ORG> ( <O> KDP <ORG> ) the two main <O> Iraqi Kurdish <MISC> factions , have had northern <O> Iraq <LOC> under their control since <O> Iraqi <MISC> forces were ousted from <O> Kuwait <LOC> in the 1991 <O> Gulf War <MISC> . <O>\n",
      "\n",
      "Source: Clashes between the two parties broke out at the weekend in the most serious fighting since a U.S.-sponsored ceasefire last year .\n",
      "Target: Clashes between the two parties broke out at the weekend in the most serious fighting since a <O> U.S.-sponsored <MISC> ceasefire last year . <O>\n",
      "\n",
      "Source: Mujahideen Khalq said Iranian troops had also been shelling KDP positions in Qasri region in Suleimaniya province near the Iranian border over the last two days .\n",
      "Target: Mujahideen Khalq <ORG> said <O> Iranian <MISC> troops had also been shelling <O> KDP <ORG> positions in <O> Qasri <LOC> region in <O> Suleimaniya <LOC> province near the <O> Iranian <MISC> border over the last two days . <O>\n",
      "\n",
      "Source: It said about 100 Iraqi Kurds were killed or wounded in the attack .\n",
      "Target: It said about 100 <O> Iraqi Kurds <MISC> were killed or wounded in the attack . <O>\n",
      "\n",
      "Source: Both Iran and Turkey mount air and land strikes at targets in northern Iraq in pursuit of their own Kurdish rebels .\n",
      "Target: Both <O> Iran <LOC> and <O> Turkey <LOC> mount air and land strikes at targets in northern <O> Iraq <LOC> in pursuit of their own <O> Kurdish <MISC> rebels . <O>\n",
      "\n",
      "Source: A U.S.-led air force in southern Turkey protects Iraqi Kurds from possible attacks by Baghdad troops .\n",
      "Target: A <O> U.S.-led <MISC> air force in southern <O> Turkey <LOC> protects <O> Iraqi Kurds <MISC> from possible attacks by <O> Baghdad <LOC> troops . <O>\n",
      "\n",
      "Source: -DOCSTART-\n",
      "Target: -DOCSTART- <O>\n",
      "\n",
      "Source: Saudi riyal rates steady in quiet summer trade .\n",
      "Target: Saudi <MISC> riyal rates steady in quiet summer trade . <O>\n",
      "\n",
      "Source: MANAMA 1996-08-22\n",
      "Target: MANAMA <LOC> 1996-08-22 <O>\n",
      "\n",
      "Source: The spot Saudi riyal against the dollar and riyal interbank deposit rates were mainly steady this week in quiet summer trade , dealers in the kingdom said .\n",
      "Target: The spot <O> Saudi <MISC> riyal against the dollar and riyal interbank deposit rates were mainly steady this week in quiet summer trade , dealers in the kingdom said . <O>\n",
      "\n",
      "Source: \" There were no changes in Saudi riyal rates .\n",
      "Target: \" There were no changes in <O> Saudi <MISC> riyal rates . <O>\n",
      "\n",
      "Source: The market was very quiet because of summer holidays , \" one dealer said .\n",
      "Target: The market was very quiet because of summer holidays , \" one dealer said . <O>\n",
      "\n",
      "Source: The spot riyal was put at 3.7504 / 06 to the dollar .\n",
      "Target: The spot riyal was put at 3.7504 / 06 to the dollar . <O>\n",
      "\n",
      "Source: One-month interbank deposits were at 5-1/2 , 3/8 percent , three months were 5-5/8 , 1/2 percent and six months were 5-3/4 , 5/8 percent .\n",
      "Target: One-month <MISC> interbank deposits were at 5-1/2 , 3/8 percent , three months were 5-5/8 , 1/2 percent and six months were 5-3/4 , 5/8 percent . <O>\n",
      "\n",
      "Source: One-year funds were at six , 5-7/8 percent .\n",
      "Target: One-year <MISC> funds were at six , 5-7/8 percent . <O>\n",
      "\n",
      "Source: -DOCSTART-\n",
      "Target: -DOCSTART- <O>\n",
      "\n",
      "Source: Israel approves Arafat 's flight to West Bank .\n",
      "Target: Israel <LOC> approves <O> Arafat <PER> 's flight to <O> West Bank <LOC> . <O>\n",
      "\n",
      "Source: JERUSALEM 1996-08-22\n",
      "Target: JERUSALEM <LOC> 1996-08-22 <O>\n",
      "\n",
      "Source: Israel gave Palestinian President Yasser Arafat permission on Thursday to fly over its territory to the West Bank , ending a brief Israeli-PLO crisis , an Arafat adviser said .\n",
      "Target: Israel <LOC> gave <O> Palestinian <MISC> President <O> Yasser Arafat <PER> permission on Thursday to fly over its territory to the <O> West Bank <LOC> , ending a brief <O> Israeli-PLO <MISC> crisis , an <O> Arafat <PER> adviser said . <O>\n",
      "\n",
      "Source: \" The problem is over .\n",
      "Target: \" The problem is over . <O>\n",
      "\n",
      "Source: The president 's aircraft has received permission to pass through Israeli airspace but the president is not expected to travel to the West Bank before Monday , \" Nabil Abu Rdainah told Reuters .\n",
      "Target: The president 's aircraft has received permission to pass through <O> Israeli <MISC> airspace but the president is not expected to travel to the <O> West Bank <LOC> before Monday , \" <O> Nabil Abu Rdainah <PER> told <O> Reuters <ORG> . <O>\n",
      "\n",
      "Source: Arafat had been scheduled to meet former Israeli prime minister Shimon Peres in the West Bank town of Ramallah on Thursday but the venue was changed to Gaza after Israel denied flight clearance to the Palestinian leader 's helicopters .\n",
      "Target: Arafat <PER> had been scheduled to meet former <O> Israeli <MISC> prime minister <O> Shimon Peres <PER> in the <O> West Bank <LOC> town of <O> Ramallah <LOC> on Thursday but the venue was changed to <O> Gaza <LOC> after <O> Israel <LOC> denied flight clearance to the <O> Palestinian <MISC> leader 's helicopters . <O>\n",
      "\n",
      "Source: Palestinian officials accused right-wing Prime Minister Benjamin Netanyahu of trying to stop the Ramallah meeting by keeping Arafat grounded .\n",
      "Target: Palestinian <MISC> officials accused right-wing Prime Minister <O> Benjamin Netanyahu <PER> of trying to stop the <O> Ramallah <LOC> meeting by keeping <O> Arafat <PER> grounded . <O>\n",
      "\n",
      "Source: Arafat subsequently cancelled a meeting between Israeli and PLO officials , on civilian affairs , at the Allenby Bridge crossing between Jordan and the West Bank .\n",
      "Target: Arafat <PER> subsequently cancelled a meeting between <O> Israeli <MISC> and <O> PLO <ORG> officials , on civilian affairs , at the <O> Allenby Bridge <LOC> crossing between <O> Jordan <LOC> and the <O> West Bank <LOC> . <O>\n",
      "\n",
      "Source: Abu Rdainah said Arafat had decided against flying to the West Bank on Thursday , after Israel lifted the ban , because he had a busy schedule in Gaza and would not be free until Monday .\n",
      "Target: Abu Rdainah <PER> said <O> Arafat <PER> had decided against flying to the <O> West Bank <LOC> on Thursday , after <O> Israel <LOC> lifted the ban , because he had a busy schedule in <O> Gaza <LOC> and would not be free until Monday . <O>\n",
      "\n",
      "Source: -DOCSTART-\n",
      "Target: -DOCSTART- <O>\n",
      "\n",
      "Source: Arafat to meet Peres in Gaza after flight ban .\n",
      "Target: Arafat <PER> to meet <O> Peres <PER> in <O> Gaza <LOC> after flight ban . <O>\n",
      "\n",
      "Source: JERUSALEM 1996-08-22\n",
      "Target: JERUSALEM <LOC> 1996-08-22 <O>\n",
      "\n",
      "Source: Yasser Arafat will meet Shimon Peres in Gaza on Thursday after Palestinians said the right-wing Israeli government had barred the Palestinian leader from flying to the West Bank for talks with the former prime minister .\n",
      "Target: Yasser Arafat <PER> will meet <O> Shimon Peres <PER> in <O> Gaza <LOC> on Thursday after <O> Palestinians <MISC> said the right-wing <O> Israeli <MISC> government had barred the <O> Palestinian <MISC> leader from flying to the <O> West Bank <LOC> for talks with the former prime minister . <O>\n",
      "\n",
      "Source: \" The meeting between Peres and Arafat will take place at Erez checkpoint in Gaza and not in Ramallah as planned , \" Peres ' office said .\n",
      "Target: \" The meeting between <O> Peres <PER> and <O> Arafat <PER> will take place at <O> Erez <LOC> checkpoint in <O> Gaza <LOC> and not in <O> Ramallah <LOC> as planned , \" <O> Peres <PER> ' office said . <O>\n",
      "\n",
      "Source: Palestinian officials said the Israeli government had barred Arafat from overflying Israel in a Palestinian helicopter to the West Bank in an attempt to bar the meeting with Peres .\n",
      "Target: Palestinian <MISC> officials said the <O> Israeli <MISC> government had barred <O> Arafat <PER> from overflying <O> Israel <LOC> in a <O> Palestinian <MISC> helicopter to the <O> West Bank <LOC> in an attempt to bar the meeting with <O> Peres <PER> . <O>\n",
      "\n",
      "Source: Israeli Prime Minister Benjamin Netanyahu has accused opposition leader Peres , who he defeated in May elections , of trying to undermine his Likud government 's authority to conduct peace talks .\n",
      "Target: Israeli <MISC> Prime Minister <O> Benjamin Netanyahu <PER> has accused opposition leader <O> Peres <PER> , who he defeated in May elections , of trying to undermine his <O> Likud <ORG> government 's authority to conduct peace talks . <O>\n",
      "\n",
      "Source: -DOCSTART-\n",
      "Target: -DOCSTART- <O>\n",
      "\n",
      "Source: Afghan UAE embassy says Taleban guards going home .\n",
      "Target: Afghan <MISC> UAE <LOC> embassy says <O> Taleban <MISC> guards going home . <O>\n",
      "\n",
      "Source: Hilary Gush\n",
      "Target: Hilary Gush <PER>\n",
      "\n",
      "Source: DUBAI 1996-08-22\n",
      "Target: DUBAI <LOC> 1996-08-22 <O>\n",
      "\n",
      "Source: Three Afghan guards brought to the United Arab Emirates last week by Russian hostages who escaped from the Taleban militia will return to Afghanistan in a few days , the Afghan embassy in Abu Dhabi said on Thursday .\n",
      "Target: Three <O> Afghan <MISC> guards brought to the <O> United Arab Emirates <LOC> last week by <O> Russian <MISC> hostages who escaped from the <O> Taleban <MISC> militia will return to <O> Afghanistan <LOC> in a few days , the <O> Afghan <MISC> embassy in <O> Abu Dhabi <LOC> said on Thursday . <O>\n",
      "\n",
      "Source: \" Our ambassador is in touch with the UAE foreign ministry .\n",
      "Target: \" Our ambassador is in touch with the <O> UAE <LOC> foreign ministry . <O>\n",
      "\n",
      "Source: Their return to Afghanistan will take place in two or three days , \" an embassy official said .\n",
      "Target: Their return to <O> Afghanistan <LOC> will take place in two or three days , \" an embassy official said . <O>\n",
      "\n",
      "Source: \" The embassy is issuing them travel documents for their return to their homeland .\n",
      "Target: \" The embassy is issuing them travel documents for their return to their homeland . <O>\n",
      "\n",
      "Source: There is no objection to their travel , \" he added .\n",
      "Target: There is no objection to their travel , \" he added . <O>\n",
      "\n",
      "Source: The three Islamic Taleban guards were overpowered by seven Russian aircrew who escaped to UAE state Sharjah last Friday on board their own aircraft after a year in the captivity of Taleban militia in Kandahar in southern Afghanistan .\n",
      "Target: The three <O> Islamic Taleban <MISC> guards were overpowered by seven <O> Russian <MISC> aircrew who escaped to <O> UAE <LOC> state <O> Sharjah <LOC> last Friday on board their own aircraft after a year in the captivity of <O> Taleban <MISC> militia in <O> Kandahar <LOC> in southern <O> Afghanistan <LOC> . <O>\n",
      "\n",
      "Source: The UAE said on Monday it would hand over the three to the International Red Crescent , possibly last Tuesday .\n",
      "Target: The <O> UAE <LOC> said on Monday it would hand over the three to the <O> International Red Crescent <ORG> , possibly last Tuesday . <O>\n",
      "\n",
      "Source: It has since been silent on the issue .\n",
      "Target: It has since been silent on the issue . <O>\n",
      "\n",
      "Source: When asked whether the three guards would travel back to Kandahar or the Afghan capital Kabul , the embassy official said : \" That has not been decided , but possibly Kandahar . \"\n",
      "Target: When asked whether the three guards would travel back to <O> Kandahar <LOC> or the <O> Afghan <MISC> capital <O> Kabul <LOC> , the embassy official said : \" That has not been decided , but possibly <O> Kandahar <LOC> . \" <O>\n",
      "\n",
      "Source: Kandahar is the headquarters of the opposition Taleban militia .\n",
      "Target: Kandahar <LOC> is the headquarters of the opposition <O> Taleban <MISC> militia . <O>\n",
      "\n",
      "Source: Kabul is controlled by President Burhanuddin Rabbani 's government , which Taleban is fighting to overthrow .\n",
      "Target: Kabul <LOC> is controlled by President <O> Burhanuddin Rabbani <PER> 's government , which <O> Taleban <MISC> is fighting to overthrow . <O>\n",
      "\n",
      "Source: The embassy official said the three men , believed to be in their 20s , were currently in Abu Dhabi .\n",
      "Target: The embassy official said the three men , believed to be in their 20s , were currently in <O> Abu Dhabi <LOC> . <O>\n",
      "\n",
      "Source: He did not elaborate .\n",
      "Target: He did not elaborate . <O>\n",
      "\n",
      "Source: The Russians , working for the Aerostan firm in the Russian republic of Tatarstan , were taken hostage after a Taleban MiG-19 fighter forced their cargo plane to land in August 1995 .\n",
      "Target: The <O> Russians <MISC> , working for the <O> Aerostan <ORG> firm in the <O> Russian <MISC> republic of <O> Tatarstan <LOC> , were taken hostage after a <O> Taleban <MISC> MiG-19 <MISC> fighter forced their cargo plane to land in August 1995 . <O>\n",
      "\n",
      "Source: Taleban said its shipment of ammunition from Albania was evidence of Russian military support for Rabbani 's government .\n",
      "Target: Taleban <MISC> said its shipment of ammunition from <O> Albania <LOC> was evidence of <O> Russian <MISC> military support for <O> Rabbani <PER> 's government . <O>\n",
      "\n",
      "Source: Moscow said the crew 's nationality was coincidental .\n",
      "Target: Moscow <LOC> said the crew 's nationality was coincidental . <O>\n",
      "\n"
     ]
    }
   ],
   "source": [
    "for ex in examples_sets['train'][120:200]:\n",
    "    print(ex)\n",
    "    print()"
   ]
  },
  {
   "cell_type": "code",
   "execution_count": 22,
   "metadata": {
    "scrolled": true
   },
   "outputs": [
    {
     "name": "stdout",
     "output_type": "stream",
     "text": [
      "Source: CRICKET - LEICESTERSHIRE TAKE OVER AT TOP AFTER INNINGS VICTORY .\n",
      "Target: CRICKET - <O> LEICESTERSHIRE <ORG> TAKE OVER AT TOP AFTER INNINGS VICTORY . <O>\n",
      "\n",
      "Source: LONDON 1996-08-30\n",
      "Target: LONDON <LOC> 1996-08-30 <O>\n",
      "\n",
      "Source: West Indian all-rounder Phil Simmons took four for 38 on Friday as Leicestershire beat Somerset by an innings and 39 runs in two days to take over at the head of the county championship .\n",
      "Target: West Indian <MISC> all-rounder <O> Phil Simmons <PER> took four for 38 on Friday as <O> Leicestershire <ORG> beat <O> Somerset <ORG> by an innings and 39 runs in two days to take over at the head of the county championship . <O>\n",
      "\n",
      "Source: Their stay on top , though , may be short-lived as title rivals Essex , Derbyshire and Surrey all closed in on victory while Kent made up for lost time in their rain-affected match against Nottinghamshire .\n",
      "Target: Their stay on top , though , may be short-lived as title rivals <O> Essex <ORG> , <O> Derbyshire <ORG> and <O> Surrey <ORG> all closed in on victory while <O> Kent <ORG> made up for lost time in their rain-affected match against <O> Nottinghamshire <ORG> . <O>\n",
      "\n",
      "Source: After bowling Somerset out for 83 on the opening morning at Grace Road , Leicestershire extended their first innings by 94 runs before being bowled out for 296 with England discard Andy Caddick taking three for 83 .\n",
      "Target: After bowling <O> Somerset <ORG> out for 83 on the opening morning at <O> Grace Road <LOC> , <O> Leicestershire <ORG> extended their first innings by 94 runs before being bowled out for 296 with <O> England <LOC> discard <O> Andy Caddick <PER> taking three for 83 . <O>\n",
      "\n",
      "Source: Trailing by 213 , Somerset got a solid start to their second innings before Simmons stepped in to bundle them out for 174 .\n",
      "Target: Trailing by 213 , <O> Somerset <ORG> got a solid start to their second innings before <O> Simmons <PER> stepped in to bundle them out for 174 . <O>\n",
      "\n",
      "Source: Essex , however , look certain to regain their top spot after Nasser Hussain and Peter Such gave them a firm grip on their match against Yorkshire at Headingley .\n",
      "Target: Essex <ORG> , however , look certain to regain their top spot after <O> Nasser Hussain <PER> and <O> Peter Such <PER> gave them a firm grip on their match against <O> Yorkshire <ORG> at <O> Headingley <LOC> . <O>\n",
      "\n",
      "Source: Hussain , considered surplus to England 's one-day requirements , struck 158 , his first championship century of the season , as Essex reached 372 and took a first innings lead of 82 .\n",
      "Target: Hussain <PER> , considered surplus to <O> England <LOC> 's one-day requirements , struck 158 , his first championship century of the season , as <O> Essex <ORG> reached 372 and took a first innings lead of 82 . <O>\n",
      "\n",
      "Source: By the close Yorkshire had turned that into a 37-run advantage but off-spinner Such had scuttled their hopes , taking four for 24 in 48 balls and leaving them hanging on 119 for five and praying for rain .\n",
      "Target: By the close <O> Yorkshire <ORG> had turned that into a 37-run advantage but off-spinner <O> Such <PER> had scuttled their hopes , taking four for 24 in 48 balls and leaving them hanging on 119 for five and praying for rain . <O>\n",
      "\n",
      "Source: At the Oval , Surrey captain Chris Lewis , another man dumped by England , continued to silence his critics as he followed his four for 45 on Thursday with 80 not out on Friday in the match against Warwickshire .\n",
      "Target: At the <O> Oval <LOC> , <O> Surrey <ORG> captain <O> Chris Lewis <PER> , another man dumped by <O> England <LOC> , continued to silence his critics as he followed his four for 45 on Thursday with 80 not out on Friday in the match against <O> Warwickshire <ORG> . <O>\n",
      "\n",
      "Source: He was well backed by England hopeful Mark Butcher who made 70 as Surrey closed on 429 for seven , a lead of 234 .\n",
      "Target: He was well backed by <O> England <LOC> hopeful <O> Mark Butcher <PER> who made 70 as <O> Surrey <ORG> closed on 429 for seven , a lead of 234 . <O>\n",
      "\n",
      "Source: Derbyshire kept up the hunt for their first championship title since 1936 by reducing Worcestershire to 133 for five in their second innings , still 100 runs away from avoiding an innings defeat .\n",
      "Target: Derbyshire <ORG> kept up the hunt for their first championship title since 1936 by reducing <O> Worcestershire <ORG> to 133 for five in their second innings , still 100 runs away from avoiding an innings defeat . <O>\n",
      "\n",
      "Source: Australian Tom Moody took six for 82 but Chris Adams , 123 , and Tim O'Gorman , 109 , took Derbyshire to 471 and a first innings lead of 233 .\n",
      "Target: Australian <MISC> Tom Moody <PER> took six for 82 but <O> Chris Adams <PER> , 123 , and <O> Tim O'Gorman <PER> , 109 , took <O> Derbyshire <ORG> to 471 and a first innings lead of 233 . <O>\n",
      "\n",
      "Source: After the frustration of seeing the opening day of their match badly affected by the weather , Kent stepped up a gear to dismiss Nottinghamshire for 214 .\n",
      "Target: After the frustration of seeing the opening day of their match badly affected by the weather , <O> Kent <ORG> stepped up a gear to dismiss <O> Nottinghamshire <ORG> for 214 . <O>\n",
      "\n",
      "Source: They were held up by a gritty 84 from Paul Johnson but ex-England fast bowler Martin McCague took four for 55 .\n",
      "Target: They were held up by a gritty 84 from <O> Paul Johnson <PER> but <O> ex-England <MISC> fast bowler <O> Martin McCague <PER> took four for 55 . <O>\n",
      "\n",
      "Source: By stumps Kent had reached 108 for three .\n",
      "Target: By stumps <O> Kent <ORG> had reached 108 for three . <O>\n",
      "\n",
      "Source: -DOCSTART-\n",
      "Target: -DOCSTART- <O>\n",
      "\n",
      "Source: CRICKET - ENGLISH COUNTY CHAMPIONSHIP SCORES .\n",
      "Target: CRICKET - <O> ENGLISH COUNTY CHAMPIONSHIP <MISC> SCORES . <O>\n",
      "\n",
      "Source: LONDON 1996-08-30\n",
      "Target: LONDON <LOC> 1996-08-30 <O>\n",
      "\n",
      "Source: Result and close of play scores in English county championship matches on Friday :\n",
      "Target: Result and close of play scores in <O> English <MISC> county championship matches on Friday : <O>\n",
      "\n"
     ]
    }
   ],
   "source": [
    "for ex in examples_sets['valid'][:20]:\n",
    "    print(ex)\n",
    "    print()"
   ]
  },
  {
   "cell_type": "code",
   "execution_count": 23,
   "metadata": {
    "scrolled": true
   },
   "outputs": [
    {
     "name": "stdout",
     "output_type": "stream",
     "text": [
      "Source: SOCCER - JAPAN GET LUCKY WIN , CHINA IN SURPRISE DEFEAT .\n",
      "Target: SOCCER - <O> JAPAN <LOC> GET LUCKY WIN , <O> CHINA <PER> IN SURPRISE DEFEAT . <O>\n",
      "\n",
      "Source: Nadim Ladki\n",
      "Target: Nadim Ladki <PER>\n",
      "\n",
      "Source: AL-AIN , United Arab Emirates 1996-12-06\n",
      "Target: AL-AIN <LOC> , <O> United Arab Emirates <LOC> 1996-12-06 <O>\n",
      "\n",
      "Source: Japan began the defence of their Asian Cup title with a lucky 2-1 win against Syria in a Group C championship match on Friday .\n",
      "Target: Japan <LOC> began the defence of their <O> Asian Cup <MISC> title with a lucky 2-1 win against <O> Syria <LOC> in a Group C championship match on Friday . <O>\n",
      "\n",
      "Source: But China saw their luck desert them in the second match of the group , crashing to a surprise 2-0 defeat to newcomers Uzbekistan .\n",
      "Target: But <O> China <LOC> saw their luck desert them in the second match of the group , crashing to a surprise 2-0 defeat to newcomers <O> Uzbekistan <LOC> . <O>\n",
      "\n",
      "Source: China controlled most of the match and saw several chances missed until the 78th minute when Uzbek striker Igor Shkvyrin took advantage of a misdirected defensive header to lob the ball over the advancing Chinese keeper and into an empty net .\n",
      "Target: China <LOC> controlled most of the match and saw several chances missed until the 78th minute when <O> Uzbek <MISC> striker <O> Igor Shkvyrin <PER> took advantage of a misdirected defensive header to lob the ball over the advancing <O> Chinese <MISC> keeper and into an empty net . <O>\n",
      "\n",
      "Source: Oleg Shatskiku made sure of the win in injury time , hitting an unstoppable left foot shot from just outside the area .\n",
      "Target: Oleg Shatskiku <PER> made sure of the win in injury time , hitting an unstoppable left foot shot from just outside the area . <O>\n",
      "\n",
      "Source: The former Soviet republic was playing in an Asian Cup finals tie for the first time .\n",
      "Target: The former <O> Soviet <MISC> republic was playing in an <O> Asian Cup <MISC> finals tie for the first time . <O>\n",
      "\n",
      "Source: Despite winning the Asian Games title two years ago , Uzbekistan are in the finals as outsiders .\n",
      "Target: Despite winning the <O> Asian Games <MISC> title two years ago , <O> Uzbekistan <LOC> are in the finals as outsiders . <O>\n",
      "\n",
      "Source: Two goals from defensive errors in the last six minutes allowed Japan to come from behind and collect all three points from their opening meeting against Syria .\n",
      "Target: Two goals from defensive errors in the last six minutes allowed <O> Japan <LOC> to come from behind and collect all three points from their opening meeting against <O> Syria <LOC> . <O>\n",
      "\n",
      "Source: Takuya Takagi scored the winner in the 88th minute , rising to head a Hiroshige Yanagimoto cross towards the Syrian goal which goalkeeper Salem Bitar appeared to have covered but then allowed to slip into the net .\n",
      "Target: Takuya Takagi <PER> scored the winner in the 88th minute , rising to head a <O> Hiroshige Yanagimoto <PER> cross towards the <O> Syrian <MISC> goal which goalkeeper <O> Salem Bitar <PER> appeared to have covered but then allowed to slip into the net . <O>\n",
      "\n",
      "Source: It was the second costly blunder by Syria in four minutes .\n",
      "Target: It was the second costly blunder by <O> Syria <LOC> in four minutes . <O>\n",
      "\n",
      "Source: Defender Hassan Abbas rose to intercept a long ball into the area in the 84th minute but only managed to divert it into the top corner of Bitar 's goal .\n",
      "Target: Defender <O> Hassan Abbas <PER> rose to intercept a long ball into the area in the 84th minute but only managed to divert it into the top corner of <O> Bitar <PER> 's goal . <O>\n",
      "\n",
      "Source: Nader Jokhadar had given Syria the lead with a well-struck header in the seventh minute .\n",
      "Target: Nader Jokhadar <PER> had given <O> Syria <LOC> the lead with a well-struck header in the seventh minute . <O>\n",
      "\n",
      "Source: Japan then laid siege to the Syrian penalty area for most of the game but rarely breached the Syrian defence .\n",
      "Target: Japan <LOC> then laid siege to the <O> Syrian <MISC> penalty area for most of the game but rarely breached the <O> Syrian <MISC> defence . <O>\n",
      "\n",
      "Source: Bitar pulled off fine saves whenever they did .\n",
      "Target: Bitar <PER> pulled off fine saves whenever they did . <O>\n",
      "\n",
      "Source: Japan coach Shu Kamo said : ' ' The Syrian own goal proved lucky for us .\n",
      "Target: Japan <LOC> coach <O> Shu Kamo <PER> said : ' ' The <O> Syrian <MISC> own goal proved lucky for us . <O>\n",
      "\n",
      "Source: The Syrians scored early and then played defensively and adopted long balls which made it hard for us . '\n",
      "Target: The <O> Syrians <MISC> scored early and then played defensively and adopted long balls which made it hard for us . ' <O>\n",
      "\n",
      "Source: '\n",
      "Target: ' <O>\n",
      "\n",
      "Source: Japan , co-hosts of the World Cup in 2002 and ranked 20th in the world by FIFA , are favourites to regain their title here .\n",
      "Target: Japan <LOC> , co-hosts of the <O> World Cup <MISC> in 2002 and ranked 20th in the world by <O> FIFA <ORG> , are favourites to regain their title here . <O>\n",
      "\n"
     ]
    }
   ],
   "source": [
    "for ex in examples_sets['test'][:20]:\n",
    "    print(ex)\n",
    "    print()"
   ]
  },
  {
   "cell_type": "markdown",
   "metadata": {},
   "source": [
    "# Treino"
   ]
  },
  {
   "cell_type": "code",
   "execution_count": 24,
   "metadata": {},
   "outputs": [],
   "source": [
    "train_entities = get_all_entites_from_examples(examples_sets['train'])"
   ]
  },
  {
   "cell_type": "code",
   "execution_count": 25,
   "metadata": {},
   "outputs": [],
   "source": [
    "report = classification_report(train_entities, train_entities, )"
   ]
  },
  {
   "cell_type": "code",
   "execution_count": 26,
   "metadata": {},
   "outputs": [
    {
     "name": "stdout",
     "output_type": "stream",
     "text": [
      "           precision    recall  f1-score   support\n",
      "\n",
      "      ORG       1.00      1.00      1.00      6319\n",
      "      LOC       1.00      1.00      1.00      7140\n",
      "      PER       1.00      1.00      1.00      6600\n",
      "     MISC       1.00      1.00      1.00      3438\n",
      "\n",
      "micro avg       1.00      1.00      1.00     23497\n",
      "macro avg       1.00      1.00      1.00     23497\n",
      "\n"
     ]
    }
   ],
   "source": [
    "print(report)"
   ]
  },
  {
   "cell_type": "code",
   "execution_count": 27,
   "metadata": {},
   "outputs": [],
   "source": [
    "train_entities = sum(train_entities, [])"
   ]
  },
  {
   "cell_type": "code",
   "execution_count": 29,
   "metadata": {},
   "outputs": [
    {
     "data": {
      "text/plain": [
       "['B-ORG', 'O', 'O', 'B-MISC', 'O', 'O', 'O', 'B-MISC', 'O', 'O']"
      ]
     },
     "execution_count": 29,
     "metadata": {},
     "output_type": "execute_result"
    }
   ],
   "source": [
    "train_entities[:10]"
   ]
  },
  {
   "cell_type": "code",
   "execution_count": 36,
   "metadata": {},
   "outputs": [],
   "source": [
    "i = 0\n",
    "idx = 0\n",
    "while idx < len(train_entities):\n",
    "    label = train_entities[idx]\n",
    "    if label == 'O':\n",
    "        while idx < len(train_entities) and train_entities[idx] == 'O':\n",
    "            idx += 1\n",
    "        i += 1\n",
    "    else:\n",
    "        idx += 1"
   ]
  },
  {
   "cell_type": "code",
   "execution_count": 37,
   "metadata": {},
   "outputs": [
    {
     "data": {
      "text/plain": [
       "22916"
      ]
     },
     "execution_count": 37,
     "metadata": {},
     "output_type": "execute_result"
    }
   ],
   "source": [
    "i"
   ]
  },
  {
   "cell_type": "code",
   "execution_count": 18,
   "metadata": {},
   "outputs": [
    {
     "data": {
      "text/plain": [
       "235319"
      ]
     },
     "execution_count": 18,
     "metadata": {},
     "output_type": "execute_result"
    }
   ],
   "source": [
    "(np.array().flatten() == 'O').sum()"
   ]
  },
  {
   "cell_type": "markdown",
   "metadata": {},
   "source": [
    "# Validação"
   ]
  },
  {
   "cell_type": "code",
   "execution_count": 26,
   "metadata": {},
   "outputs": [],
   "source": [
    "valid_entities = get_all_entites_from_examples(examples_sets['valid'])"
   ]
  },
  {
   "cell_type": "code",
   "execution_count": 27,
   "metadata": {},
   "outputs": [],
   "source": [
    "report = classification_report(valid_entities, valid_entities,)"
   ]
  },
  {
   "cell_type": "code",
   "execution_count": 28,
   "metadata": {},
   "outputs": [
    {
     "name": "stdout",
     "output_type": "stream",
     "text": [
      "           precision    recall  f1-score   support\n",
      "\n",
      "     MISC       1.00      1.00      1.00       922\n",
      "      LOC       1.00      1.00      1.00      1837\n",
      "      PER       1.00      1.00      1.00      1842\n",
      "      ORG       1.00      1.00      1.00      1340\n",
      "\n",
      "micro avg       1.00      1.00      1.00      5941\n",
      "macro avg       1.00      1.00      1.00      5941\n",
      "\n"
     ]
    }
   ],
   "source": [
    "print(report)"
   ]
  },
  {
   "cell_type": "code",
   "execution_count": 29,
   "metadata": {},
   "outputs": [
    {
     "data": {
      "text/plain": [
       "59238"
      ]
     },
     "execution_count": 29,
     "metadata": {},
     "output_type": "execute_result"
    }
   ],
   "source": [
    "(np.array(sum(valid_entities, [])).flatten() == 'O').sum()"
   ]
  },
  {
   "cell_type": "markdown",
   "metadata": {},
   "source": [
    "# Teste"
   ]
  },
  {
   "cell_type": "code",
   "execution_count": 33,
   "metadata": {},
   "outputs": [],
   "source": [
    "test_entities = get_all_entites_from_examples(examples_sets['test'])"
   ]
  },
  {
   "cell_type": "code",
   "execution_count": 34,
   "metadata": {},
   "outputs": [],
   "source": [
    "report = classification_report(test_entities, test_entities,)"
   ]
  },
  {
   "cell_type": "code",
   "execution_count": 35,
   "metadata": {},
   "outputs": [
    {
     "name": "stdout",
     "output_type": "stream",
     "text": [
      "           precision    recall  f1-score   support\n",
      "\n",
      "      ORG       1.00      1.00      1.00      1660\n",
      "     MISC       1.00      1.00      1.00       701\n",
      "      LOC       1.00      1.00      1.00      1666\n",
      "      PER       1.00      1.00      1.00      1615\n",
      "\n",
      "micro avg       1.00      1.00      1.00      5642\n",
      "macro avg       1.00      1.00      1.00      5642\n",
      "\n"
     ]
    }
   ],
   "source": [
    "print(report)"
   ]
  },
  {
   "cell_type": "code",
   "execution_count": 36,
   "metadata": {},
   "outputs": [
    {
     "data": {
      "text/plain": [
       "54019"
      ]
     },
     "execution_count": 36,
     "metadata": {},
     "output_type": "execute_result"
    }
   ],
   "source": [
    "(np.array(sum(test_entities, [])).flatten() == 'O').sum()"
   ]
  },
  {
   "cell_type": "markdown",
   "metadata": {},
   "source": [
    "# Visualizando"
   ]
  },
  {
   "cell_type": "code",
   "execution_count": 37,
   "metadata": {},
   "outputs": [
    {
     "name": "stdout",
     "output_type": "stream",
     "text": [
      "train 14040\n",
      "valid 3249\n",
      "test 3451\n"
     ]
    }
   ],
   "source": [
    "for key, exs in examples_sets.items():\n",
    "    print(key, len(exs))"
   ]
  },
  {
   "cell_type": "code",
   "execution_count": 80,
   "metadata": {},
   "outputs": [],
   "source": [
    "data = {\n",
    "    'PER': [6600, 1842, 1617],\n",
    "    'ORG': [6321, 1341, 1661],\n",
    "    'LOC': [7140, 1837, 1668],\n",
    "    'MISC': [3438, 922, 702],\n",
    "#     'O': [236520, 59238, 54019],\n",
    "#     'Conjunto': ['Treino', 'Validação', 'Teste']\n",
    "}"
   ]
  },
  {
   "cell_type": "code",
   "execution_count": 81,
   "metadata": {},
   "outputs": [],
   "source": [
    "ents, types = [], []\n",
    "for key, values in data.items():\n",
    "    for v, t in zip(values, ['Treino', 'Validação', 'Teste']):\n",
    "        ents += [key] * v\n",
    "        types += [t] * v"
   ]
  },
  {
   "cell_type": "code",
   "execution_count": 82,
   "metadata": {},
   "outputs": [],
   "source": [
    "df = pd.DataFrame({'Entidades': ents, 'Conjunto': types})"
   ]
  },
  {
   "cell_type": "code",
   "execution_count": 85,
   "metadata": {},
   "outputs": [
    {
     "data": {
      "text/html": [
       "<div>\n",
       "<style scoped>\n",
       "    .dataframe tbody tr th:only-of-type {\n",
       "        vertical-align: middle;\n",
       "    }\n",
       "\n",
       "    .dataframe tbody tr th {\n",
       "        vertical-align: top;\n",
       "    }\n",
       "\n",
       "    .dataframe thead th {\n",
       "        text-align: right;\n",
       "    }\n",
       "</style>\n",
       "<table border=\"1\" class=\"dataframe\">\n",
       "  <thead>\n",
       "    <tr style=\"text-align: right;\">\n",
       "      <th></th>\n",
       "      <th>Entidades</th>\n",
       "      <th>Conjunto</th>\n",
       "    </tr>\n",
       "  </thead>\n",
       "  <tbody>\n",
       "    <tr>\n",
       "      <th>0</th>\n",
       "      <td>PER</td>\n",
       "      <td>Treino</td>\n",
       "    </tr>\n",
       "    <tr>\n",
       "      <th>1</th>\n",
       "      <td>PER</td>\n",
       "      <td>Treino</td>\n",
       "    </tr>\n",
       "    <tr>\n",
       "      <th>2</th>\n",
       "      <td>PER</td>\n",
       "      <td>Treino</td>\n",
       "    </tr>\n",
       "    <tr>\n",
       "      <th>3</th>\n",
       "      <td>PER</td>\n",
       "      <td>Treino</td>\n",
       "    </tr>\n",
       "    <tr>\n",
       "      <th>4</th>\n",
       "      <td>PER</td>\n",
       "      <td>Treino</td>\n",
       "    </tr>\n",
       "    <tr>\n",
       "      <th>...</th>\n",
       "      <td>...</td>\n",
       "      <td>...</td>\n",
       "    </tr>\n",
       "    <tr>\n",
       "      <th>35084</th>\n",
       "      <td>MISC</td>\n",
       "      <td>Teste</td>\n",
       "    </tr>\n",
       "    <tr>\n",
       "      <th>35085</th>\n",
       "      <td>MISC</td>\n",
       "      <td>Teste</td>\n",
       "    </tr>\n",
       "    <tr>\n",
       "      <th>35086</th>\n",
       "      <td>MISC</td>\n",
       "      <td>Teste</td>\n",
       "    </tr>\n",
       "    <tr>\n",
       "      <th>35087</th>\n",
       "      <td>MISC</td>\n",
       "      <td>Teste</td>\n",
       "    </tr>\n",
       "    <tr>\n",
       "      <th>35088</th>\n",
       "      <td>MISC</td>\n",
       "      <td>Teste</td>\n",
       "    </tr>\n",
       "  </tbody>\n",
       "</table>\n",
       "<p>35089 rows × 2 columns</p>\n",
       "</div>"
      ],
      "text/plain": [
       "      Entidades Conjunto\n",
       "0           PER   Treino\n",
       "1           PER   Treino\n",
       "2           PER   Treino\n",
       "3           PER   Treino\n",
       "4           PER   Treino\n",
       "...         ...      ...\n",
       "35084      MISC    Teste\n",
       "35085      MISC    Teste\n",
       "35086      MISC    Teste\n",
       "35087      MISC    Teste\n",
       "35088      MISC    Teste\n",
       "\n",
       "[35089 rows x 2 columns]"
      ]
     },
     "execution_count": 85,
     "metadata": {},
     "output_type": "execute_result"
    }
   ],
   "source": [
    "df"
   ]
  },
  {
   "cell_type": "code",
   "execution_count": 92,
   "metadata": {},
   "outputs": [
    {
     "data": {
      "text/plain": [
       "Text(0, 0.5, '')"
      ]
     },
     "execution_count": 92,
     "metadata": {},
     "output_type": "execute_result"
    },
    {
     "data": {
      "image/png": "[encoded data removed]",
      "text/plain": [
       "<Figure size 720x432 with 1 Axes>"
      ]
     },
     "metadata": {},
     "output_type": "display_data"
    }
   ],
   "source": [
    "plt.figure(figsize=(10,6))\n",
    "ax = sns.countplot(x='Entidades', hue='Conjunto', data=df)\n",
    "ax.set_ylabel('')"
   ]
  },
  {
   "cell_type": "code",
   "execution_count": null,
   "metadata": {},
   "outputs": [],
   "source": []
  }
 ],
 "metadata": {
  "kernelspec": {
   "display_name": "Python [conda env:t5ner]",
   "language": "python",
   "name": "conda-env-t5ner-py"
  },
  "language_info": {
   "codemirror_mode": {
    "name": "ipython",
    "version": 3
   },
   "file_extension": ".py",
   "mimetype": "text/x-python",
   "name": "python",
   "nbconvert_exporter": "python",
   "pygments_lexer": "ipython3",
   "version": "3.8.3"
  }
 },
 "nbformat": 4,
 "nbformat_minor": 2
}
