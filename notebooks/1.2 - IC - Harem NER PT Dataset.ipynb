{
 "cells": [
  {
   "cell_type": "code",
   "execution_count": 1,
   "metadata": {},
   "outputs": [],
   "source": [
    "import os\n",
    "import json"
   ]
  },
  {
   "cell_type": "code",
   "execution_count": 2,
   "metadata": {},
   "outputs": [],
   "source": [
    "filepath = '../data/harem/CDPrimeiroHAREMprimeiroevento.xml'"
   ]
  },
  {
   "cell_type": "code",
   "execution_count": 3,
   "metadata": {},
   "outputs": [],
   "source": [
    "from lxml import etree"
   ]
  },
  {
   "cell_type": "code",
   "execution_count": 4,
   "metadata": {},
   "outputs": [],
   "source": [
    "SELECTIVE_CATEGS = [\n",
    "    'PESSOA',\n",
    "    'ORGANIZACAO',\n",
    "    'LOCAL',\n",
    "    'TEMPO',\n",
    "    'VALOR',\n",
    "]"
   ]
  },
  {
   "cell_type": "code",
   "execution_count": 5,
   "metadata": {},
   "outputs": [],
   "source": [
    "OTHER_CATEGS =  [\n",
    "    'ABSTRACCAO',\n",
    "    'ACONTECIMENTO',\n",
    "    'COISA',\n",
    "    'OBRA',\n",
    "    'OUTRO',\n",
    "    'OBJECTO'\n",
    "]"
   ]
  },
  {
   "cell_type": "code",
   "execution_count": 6,
   "metadata": {},
   "outputs": [],
   "source": [
    "MAP = {\n",
    "    'O': 'O',\n",
    "    'PESSOA': 'PER',\n",
    "    'ORGANIZACAO': 'ORG',\n",
    "    'LOCAL': 'LOC',\n",
    "    'TEMPO': 'TEMP',\n",
    "    'VALOR': 'VAL',\n",
    "}\n",
    "MAP.update({\n",
    "    k:'O' for k in OTHER_CATEGS\n",
    "})"
   ]
  },
  {
   "cell_type": "code",
   "execution_count": 7,
   "metadata": {},
   "outputs": [],
   "source": [
    "import xml.etree.ElementTree as ET\n",
    "tree = ET.parse(filepath)\n",
    "root = tree.getroot()"
   ]
  },
  {
   "cell_type": "code",
   "execution_count": 8,
   "metadata": {},
   "outputs": [
    {
     "data": {
      "text/plain": [
       "<Element 'colHAREM' at 0x7f537cc0e1d0>"
      ]
     },
     "execution_count": 8,
     "metadata": {},
     "output_type": "execute_result"
    }
   ],
   "source": [
    "root"
   ]
  },
  {
   "cell_type": "code",
   "execution_count": 9,
   "metadata": {},
   "outputs": [],
   "source": [
    "def child_to_samples(child):\n",
    "    entities = []\n",
    "    tags = []\n",
    "    for c in child:\n",
    "        if not len(c.items()):\n",
    "            continue\n",
    "        categ = c.items()[1][1]\n",
    "        text = c.text\n",
    "\n",
    "        entities.append((text, categ))\n",
    "        tags.append(categ)\n",
    "\n",
    "    entity_id = 0\n",
    "    rows = []\n",
    "    for text in child.itertext():\n",
    "        if entity_id < len(entities):\n",
    "            ent, tag = entities[entity_id]\n",
    "            if text == ent:\n",
    "                label = tag\n",
    "                entity_id += 1\n",
    "            else:\n",
    "                label = 'O'\n",
    "        else:\n",
    "            label = 'O'\n",
    "\n",
    "        rows.append((text, label))\n",
    "        \n",
    "    sentences = []\n",
    "    last = 0\n",
    "    for i, entry in enumerate(rows):\n",
    "        if '\\n' in entry[0]:\n",
    "            sentences.append(rows[last:i+1])\n",
    "            last = i + 1\n",
    "\n",
    "    return sentences\n",
    "\n",
    "def sample_to_text(sample):\n",
    "    final_sample = []\n",
    "    for text, tag in sample:\n",
    "        text = text.strip()\n",
    "        if not len(text):\n",
    "            continue\n",
    "        label = MAP[tag.split('|')[0]]\n",
    "\n",
    "        words = text.split(' ')\n",
    "        if label != 'O':\n",
    "            labels = [f'B-{label}'] + [f'I-{label}'] * (len(words) - 1)\n",
    "        else:\n",
    "            labels = ['O'] * len(words)\n",
    "\n",
    "        for w, l in zip(words, labels):\n",
    "            final_sample.append(' '.join([w, l]))\n",
    "    \n",
    "    return '\\n'.join(final_sample)"
   ]
  },
  {
   "cell_type": "code",
   "execution_count": 10,
   "metadata": {},
   "outputs": [],
   "source": [
    "final_samples = []\n",
    "for child in root:\n",
    "    ss = child_to_samples(child)\n",
    "    samples = []\n",
    "    for s in ss:\n",
    "        text = sample_to_text(s)\n",
    "        if len(text):\n",
    "            samples.append(text) \n",
    "    \n",
    "    final_samples.append('\\n'.join(samples))\n",
    "    "
   ]
  },
  {
   "cell_type": "code",
   "execution_count": 11,
   "metadata": {},
   "outputs": [],
   "source": [
    "final_text = '\\n\\n'.join(final_samples)"
   ]
  },
  {
   "cell_type": "code",
   "execution_count": 12,
   "metadata": {},
   "outputs": [],
   "source": [
    "with open('../data/harem/primeiroHarem.txt', 'w') as f:\n",
    "    f.write(final_text)"
   ]
  },
  {
   "cell_type": "code",
   "execution_count": null,
   "metadata": {},
   "outputs": [],
   "source": []
  }
 ],
 "metadata": {
  "kernelspec": {
   "display_name": "Python [conda env:t5ner]",
   "language": "python",
   "name": "conda-env-t5ner-py"
  },
  "language_info": {
   "codemirror_mode": {
    "name": "ipython",
    "version": 3
   },
   "file_extension": ".py",
   "mimetype": "text/x-python",
   "name": "python",
   "nbconvert_exporter": "python",
   "pygments_lexer": "ipython3",
   "version": "3.8.3"
  }
 },
 "nbformat": 4,
 "nbformat_minor": 2
}
