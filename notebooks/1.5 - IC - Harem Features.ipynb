{
 "cells": [
  {
   "cell_type": "code",
   "execution_count": 1,
   "metadata": {},
   "outputs": [],
   "source": [
    "from argparse import Namespace"
   ]
  },
  {
   "cell_type": "code",
   "execution_count": 2,
   "metadata": {},
   "outputs": [],
   "source": [
    "import pytorch_lightning as pl"
   ]
  },
  {
   "cell_type": "code",
   "execution_count": 3,
   "metadata": {},
   "outputs": [],
   "source": [
    "from src.data.make_harem import get_example_sets\n",
    "from src.input.example import InputExample\n",
    "from src.input.feature import convert_examples_to_features\n",
    "from src.models.modeling_harem import T5ForHarem"
   ]
  },
  {
   "cell_type": "code",
   "execution_count": null,
   "metadata": {},
   "outputs": [],
   "source": [
    "examples = get_example_sets('../data/harem/', merge_O=True)"
   ]
  },
  {
   "cell_type": "code",
   "execution_count": 4,
   "metadata": {},
   "outputs": [],
   "source": [
    "hparams = {\n",
    "    'merge_O': True,\n",
    "    'labels_mode': 'words',\n",
    "    'datapath': '../data/harem',\n",
    "    'remove_accents': True,\n",
    "    'max_length': 512,\n",
    "    'stride': 256\n",
    "}\n",
    "hparams = Namespace(**hparams)"
   ]
  },
  {
   "cell_type": "code",
   "execution_count": 5,
   "metadata": {},
   "outputs": [],
   "source": [
    "model = T5ForHarem.from_pretrained('t5-small', hparams=hparams)"
   ]
  },
  {
   "cell_type": "code",
   "execution_count": 18,
   "metadata": {},
   "outputs": [],
   "source": [
    "examples = model.get_examples()"
   ]
  },
  {
   "cell_type": "code",
   "execution_count": 16,
   "metadata": {},
   "outputs": [],
   "source": [
    "example = examples['test'][0]"
   ]
  },
  {
   "cell_type": "code",
   "execution_count": 17,
   "metadata": {
    "scrolled": true
   },
   "outputs": [
    {
     "data": {
      "text/plain": [
       "Source: W. JAMES Willian James Willian James , filosofo e psicologo. Foi o mais influente dos pensadores dos EUA , criador do pragmatismo. Nasceu e, Nova Iorque , a 11 de Janeiro de 1842 . O seu pai, Henru James , era um teologo seguidor de Emanuel Swedenborg . Um dos seus irmaos foi o conhecido novelista Henry James . Concluiu os seus estudos de medicina, em 1870 , na Universidade de Harvard , onde iniciou a sua carreira como professor de fisiologia em 1872 . A partir de 1880 ensinou psicologia e filosofia em Harvard , universidade que abandonou em 1907 , proferindo conferencias nas universidades de Columbia e Oxford . Morreu em Chocorua , New Hampshire , a 26 de Agosto de 1910 . Obras Principios de Psicologia ( 1890 ), uma obra monumental que o projectou na comunidade cientifica e filosofica do tempo. A Vontade de Crer e Outros Ensaios Sobre Filosofia Popular ( 1897 ), A Imortalidade Humana ( 1898 ), Diversidade da Experiencia Religiosa ( 1902 ). Pragmatismo: um nome novo para velhas formas de pensar ( 1907 ). Esta obra resume as contribuicoes de Willian James para o pragmatismo, termo empregue pela primeira vez por Charles Peirce . Principais Dominios de Investigacao Willian James aplica a psicologia o principio do funcionalismo, integrando-a no conjunto das ciencias experimentais. Durante decadas aplicou os seus metodos empiricos a investigacao de temas religiosos e filosoficos. Explorou a questao da existencia de Deus , a imortalidade da alma, o livre arbitrio e os valores eticos, como fonte da experiencia religiosa e moral. O metodo pragmatico, desenvolvido a partir da analise do fundamento logico das ciencias, converte-se na base da avaliacao de qualquer experiencia. O significado das ideias so pode ser analisado a partir das suas consequencias. Se nao produzem efeitos as ideias nao tem sentido As ideias metafisicas sao desprovidas de sentido porque nao podem ser comprovadas. As teorias com significado, segundo Willian James , sao aquelas que permitem resolver problemas que decorrem da experiencia. Carlos Fontes Navegando na Filosofia\n",
       "Target: W. JAMES [Pessoa] Willian James [Pessoa] Willian James [Pessoa] , filosofo e psicologo. Foi o mais influente dos pensadores dos [Outro] EUA [Local] , criador do pragmatismo. Nasceu e, [Outro] Nova Iorque [Local] , a [Outro] 11 de Janeiro de 1842 [Tempo] . O seu pai, [Outro] Henru James [Pessoa] , era um teologo seguidor de [Outro] Emanuel Swedenborg [Pessoa] . Um dos seus irmaos foi o conhecido novelista [Outro] Henry James [Pessoa] . Concluiu os seus estudos de medicina, em [Outro] 1870 [Tempo] , na [Outro] Universidade de Harvard [Organização] , onde iniciou a sua carreira como professor de fisiologia em [Outro] 1872 [Tempo] . A partir de [Outro] 1880 [Tempo] ensinou psicologia e filosofia em [Outro] Harvard [Organização] , universidade que abandonou em [Outro] 1907 [Tempo] , proferindo conferencias nas universidades de [Outro] Columbia [Organização] e [Outro] Oxford [Organização] . Morreu em [Outro] Chocorua [Local] , [Outro] New Hampshire [Local] , a [Outro] 26 de Agosto de 1910 [Tempo] . Obras Principios de Psicologia ( [Outro] 1890 [Tempo] ), uma obra monumental que o projectou na comunidade cientifica e filosofica do tempo. A Vontade de Crer e Outros Ensaios Sobre Filosofia Popular ( [Outro] 1897 [Tempo] ), A Imortalidade Humana ( [Outro] 1898 [Tempo] ), Diversidade da Experiencia Religiosa ( [Outro] 1902 [Tempo] ). Pragmatismo: um nome novo para velhas formas de pensar ( [Outro] 1907 [Tempo] ). Esta obra resume as contribuicoes de [Outro] Willian James [Pessoa] para o pragmatismo, termo empregue pela primeira vez por [Outro] Charles Peirce [Pessoa] . Principais Dominios de Investigacao [Outro] Willian James [Pessoa] aplica a psicologia o principio do funcionalismo, integrando-a no conjunto das ciencias experimentais. Durante decadas aplicou os seus metodos empiricos a investigacao de temas religiosos e filosoficos. Explorou a questao da existencia de [Outro] Deus [Pessoa] , a imortalidade da alma, o livre arbitrio e os valores eticos, como fonte da experiencia religiosa e moral. O metodo pragmatico, desenvolvido a partir da analise do fundamento logico das ciencias, converte-se na base da avaliacao de qualquer experiencia. O significado das ideias so pode ser analisado a partir das suas consequencias. Se nao produzem efeitos as ideias nao tem sentido As ideias metafisicas sao desprovidas de sentido porque nao podem ser comprovadas. As teorias com significado, segundo [Outro] Willian James [Pessoa] , sao aquelas que permitem resolver problemas que decorrem da experiencia. [Outro] Carlos Fontes [Pessoa] Navegando na Filosofia [Outro]"
      ]
     },
     "execution_count": 17,
     "metadata": {},
     "output_type": "execute_result"
    }
   ],
   "source": [
    "example"
   ]
  },
  {
   "cell_type": "code",
   "execution_count": 10,
   "metadata": {},
   "outputs": [],
   "source": [
    "max_target_length = 256\n",
    "max_length = max_target_length - 1 # account for eos token"
   ]
  },
  {
   "cell_type": "code",
   "execution_count": 11,
   "metadata": {},
   "outputs": [],
   "source": [
    "stride = 128"
   ]
  },
  {
   "cell_type": "code",
   "execution_count": 12,
   "metadata": {},
   "outputs": [],
   "source": [
    "possible_endings = list(model.labels2words.values())"
   ]
  },
  {
   "cell_type": "code",
   "execution_count": 13,
   "metadata": {
    "scrolled": true
   },
   "outputs": [
    {
     "data": {
      "text/plain": [
       "['[Outro]',\n",
       " '[Pessoa]',\n",
       " '[Local]',\n",
       " '[Tempo]',\n",
       " '[Valor]',\n",
       " '[Organização]',\n",
       " '[Ent]']"
      ]
     },
     "execution_count": 13,
     "metadata": {},
     "output_type": "execute_result"
    }
   ],
   "source": [
    "possible_endings"
   ]
  },
  {
   "cell_type": "code",
   "execution_count": 21,
   "metadata": {},
   "outputs": [],
   "source": [
    "span_examples = []\n",
    "\n",
    "for example in examples['train']:\n",
    "    target = example.target\n",
    "    target_tokens = model.tokenizer.tokenize(target)\n",
    "    n_spans = len(target_tokens) // stride\n",
    "\n",
    "    for i in range(n_spans):\n",
    "        start = stride * i\n",
    "        end = min(stride * i + max_length, len(target_tokens))\n",
    "\n",
    "        span_tokens = target_tokens[start:end]\n",
    "        target_span_words = model.tokenizer.convert_tokens_to_string(\n",
    "            span_tokens).split(' ')\n",
    "        last_ent_index = [i for i, w in enumerate(\n",
    "            target_span_words) if w in possible_endings]\n",
    "        \n",
    "        if len(last_ent_index):\n",
    "            last_ent_index = last_ent_index[-1]\n",
    "            target_span_words = target_span_words[:last_ent_index+1]\n",
    "        else:\n",
    "            target_span_words = ['[Outro]']\n",
    "            \n",
    "        target_span_words = [\n",
    "            w for w in target_span_words if w in example.target_words]\n",
    "        source_span_words = [\n",
    "            w for w in target_span_words if w in example.source_words]\n",
    "\n",
    "        span_examples.append(InputExample(\n",
    "            source_span_words, target_span_words))"
   ]
  },
  {
   "cell_type": "code",
   "execution_count": 22,
   "metadata": {
    "scrolled": true
   },
   "outputs": [
    {
     "data": {
      "text/plain": [
       "['se',\n",
       " 'assim',\n",
       " 'o',\n",
       " 'desejar',\n",
       " 'profundamente.',\n",
       " '[Outro]',\n",
       " 'Senhora',\n",
       " 'Presidente',\n",
       " '[Pessoa]',\n",
       " ',',\n",
       " 'verifico',\n",
       " 'que',\n",
       " 'a',\n",
       " 'pergunta',\n",
       " 'oral',\n",
       " 'sobre',\n",
       " 'professores',\n",
       " 'de',\n",
       " 'linguas,',\n",
       " 'que',\n",
       " 'foi',\n",
       " 'inserida',\n",
       " 'extremamente',\n",
       " 'tarde',\n",
       " 'na',\n",
       " 'nossa',\n",
       " 'ordem',\n",
       " 'do',\n",
       " 'dia',\n",
       " 'de',\n",
       " 'sexta',\n",
       " 'feira,',\n",
       " 'nao',\n",
       " 'tem',\n",
       " 'proposta',\n",
       " 'de',\n",
       " 'resolucao',\n",
       " 'anexa.',\n",
       " 'Admito',\n",
       " 'que,',\n",
       " 'dadas',\n",
       " 'as',\n",
       " 'circunstancias',\n",
       " 'bastante',\n",
       " 'caoticas',\n",
       " 'desta',\n",
       " 'segunda',\n",
       " 'feira,',\n",
       " 'apresentei',\n",
       " 'demasiado',\n",
       " 'tarde',\n",
       " 'o',\n",
       " 'pedido',\n",
       " 'no',\n",
       " 'sentido',\n",
       " 'de',\n",
       " 'se',\n",
       " 'incluir',\n",
       " 'uma',\n",
       " 'proposta',\n",
       " 'de',\n",
       " 'resolucao.',\n",
       " 'Trata',\n",
       " 'se',\n",
       " 'de',\n",
       " 'um',\n",
       " 'assunto',\n",
       " 'importante,',\n",
       " 'e',\n",
       " 'gostaria',\n",
       " 'de',\n",
       " 'perguntar',\n",
       " 'se,',\n",
       " 'apos',\n",
       " 'o',\n",
       " 'encerramento',\n",
       " 'do',\n",
       " 'debate,',\n",
       " 'se',\n",
       " 'podera',\n",
       " 'fixar',\n",
       " 'um',\n",
       " 'prazo',\n",
       " 'limite',\n",
       " 'para',\n",
       " 'a',\n",
       " 'apresentacao',\n",
       " 'de',\n",
       " 'propostas',\n",
       " 'de',\n",
       " 'resolucao',\n",
       " 'sobre',\n",
       " 'o',\n",
       " 'tema',\n",
       " 'em',\n",
       " 'questao.',\n",
       " '[Outro]']"
      ]
     },
     "execution_count": 22,
     "metadata": {},
     "output_type": "execute_result"
    }
   ],
   "source": [
    "target_span_words"
   ]
  },
  {
   "cell_type": "code",
   "execution_count": null,
   "metadata": {},
   "outputs": [],
   "source": []
  },
  {
   "cell_type": "code",
   "execution_count": null,
   "metadata": {},
   "outputs": [],
   "source": []
  },
  {
   "cell_type": "code",
   "execution_count": 14,
   "metadata": {},
   "outputs": [
    {
     "data": {
      "text/plain": [
       "9"
      ]
     },
     "execution_count": 14,
     "metadata": {},
     "output_type": "execute_result"
    }
   ],
   "source": [
    "target = example.target\n",
    "target_tokens = model.tokenizer.tokenize(target)\n",
    "\n",
    "n_spans = len(target_tokens) // stride\n",
    "n_spans"
   ]
  },
  {
   "cell_type": "code",
   "execution_count": 15,
   "metadata": {},
   "outputs": [],
   "source": [
    "span_examples = []\n",
    "\n",
    "for i in range(n_spans):\n",
    "    start = stride * i\n",
    "    end = min(stride * i + max_length, len(target_tokens))\n",
    "    \n",
    "    span_tokens = target_tokens[start:end]\n",
    "    target_span_words = model.tokenizer.convert_tokens_to_string(span_tokens).split(' ')\n",
    "    last_ent_index = [i for i, w in enumerate(target_span_words) if w in possible_endings][-1]\n",
    "    target_span_words = target_span_words[:last_ent_index+1]\n",
    "    target_span_words = [w for w in target_span_words if w in example.target_words]\n",
    "    source_span_words = [w for w in target_span_words if w in example.source_words]\n",
    "    \n",
    "    span_examples.append(InputExample(source_span_words, target_span_words))"
   ]
  },
  {
   "cell_type": "code",
   "execution_count": 16,
   "metadata": {},
   "outputs": [],
   "source": [
    "features = convert_examples_to_features(span_examples, model.tokenizer, max_length=256, prefix='Reconhecer Entidades:')"
   ]
  },
  {
   "cell_type": "code",
   "execution_count": 19,
   "metadata": {},
   "outputs": [
    {
     "data": {
      "text/plain": [
       "'Reconhecer Entidades:. O seu pai, Henru James, era um teologo seguidor de Emanuel Swedenborg. Um dos seus irmaos foi o conhecido novelista Henry James. Concluiu os seus estudos de medicina, em 1870, na Universidade de Harvard, onde iniciou a sua carreira como professor de fisiologia em 1872. A partir de 1880 ensinou psicologia e filosofia em Harvard'"
      ]
     },
     "execution_count": 19,
     "metadata": {},
     "output_type": "execute_result"
    }
   ],
   "source": [
    "model.tokenizer.decode(features[1].source_token_ids)"
   ]
  },
  {
   "cell_type": "code",
   "execution_count": 20,
   "metadata": {},
   "outputs": [
    {
     "data": {
      "text/plain": [
       "'. O seu pai, [Outro] Henru James [Pessoa], era um teologo seguidor de [Outro] Emanuel Swedenborg [Pessoa]. Um dos seus irmaos foi o conhecido novelista [Outro] Henry James [Pessoa]. Concluiu os seus estudos de medicina, em [Outro] 1870 [Tempo], na [Outro] Universidade de Harvard [Organizaç ⁇ o], onde iniciou a sua carreira como professor de fisiologia em [Outro] 1872 [Tempo]. A partir de [Outro] 1880 [Tempo] ensinou psicologia e filosofia em [Outro] Harvard [Organizaç ⁇ o]'"
      ]
     },
     "execution_count": 20,
     "metadata": {},
     "output_type": "execute_result"
    }
   ],
   "source": [
    "model.tokenizer.decode(features[1].target_ids)"
   ]
  },
  {
   "cell_type": "markdown",
   "metadata": {},
   "source": [
    "# From model"
   ]
  },
  {
   "cell_type": "code",
   "execution_count": 6,
   "metadata": {
    "scrolled": true
   },
   "outputs": [],
   "source": [
    "model.prepare_data()"
   ]
  },
  {
   "cell_type": "code",
   "execution_count": 8,
   "metadata": {},
   "outputs": [],
   "source": [
    "dl_test = model.test_dataloader()"
   ]
  },
  {
   "cell_type": "code",
   "execution_count": 9,
   "metadata": {},
   "outputs": [],
   "source": [
    "batch = next(iter(dl_test))"
   ]
  },
  {
   "cell_type": "code",
   "execution_count": 10,
   "metadata": {},
   "outputs": [],
   "source": [
    "target_ids = model.get_target_token_ids(batch)"
   ]
  },
  {
   "cell_type": "code",
   "execution_count": 15,
   "metadata": {},
   "outputs": [
    {
     "data": {
      "text/plain": [
       "'W. JAMES [Pessoa] Willian James [Pessoa] Willian James [Pessoa], filosofo e psicologo. Foi o mais influente dos pensadores dos [Outro] EUA [Local], criador do pragmatismo. Nasceu e, [Outro] Nova Iorque [Local], a [Outro] 11 de Janeiro de 1842 [Tempo]. O seu pai, [Outro] Henru James [Pessoa], era um teologo seguidor de [Outro] Emanuel Swedenborg [Pessoa]. Um dos seus irmaos foi o conhecido novelista [Outro] Henry James [Pessoa]. Concluiu os seus estudos de medicina, em [Outro] 1870 [Tempo], na [Outro] Universidade de Harvard [Organizaç ⁇ o], onde iniciou a sua carreira como professor de fisiologia em [Outro] 1872 [Tempo]. A partir de [Outro] 1880 [Tempo] ensinou psicologia e filosofia em [Outro] Harvard [Organizaç ⁇ o], universidade que abandonou em [Outro] 1907 [Tempo], proferindo conferencias nas universidades de [Outro] Columbia [Organizaç ⁇ o] e [Outro] Oxford [Organizaç ⁇ o]. Morreu em [Outro] Chocorua [Local], [Outro] New Hampshire [Local], a [Outro] 26 de Agosto de 1910 [Tempo]'"
      ]
     },
     "execution_count": 15,
     "metadata": {},
     "output_type": "execute_result"
    }
   ],
   "source": [
    "model.tokenizer.decode(target_ids[0])"
   ]
  },
  {
   "cell_type": "code",
   "execution_count": null,
   "metadata": {},
   "outputs": [],
   "source": []
  }
 ],
 "metadata": {
  "kernelspec": {
   "display_name": "Python 3.8.3 64-bit ('t5ner': conda)",
   "language": "python",
   "name": "python38364bitt5nercondac7c2d3542c9b4d98a6fe6c685e62d5e9"
  },
  "language_info": {
   "codemirror_mode": {
    "name": "ipython",
    "version": 3
   },
   "file_extension": ".py",
   "mimetype": "text/x-python",
   "name": "python",
   "nbconvert_exporter": "python",
   "pygments_lexer": "ipython3",
   "version": "3.8.3"
  }
 },
 "nbformat": 4,
 "nbformat_minor": 2
}
