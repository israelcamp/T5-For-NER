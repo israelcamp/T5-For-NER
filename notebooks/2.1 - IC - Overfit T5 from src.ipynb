{
 "cells": [
  {
   "cell_type": "markdown",
   "metadata": {
    "colab_type": "text",
    "id": "ZWJ_Yo0DnRLN"
   },
   "source": [
    "# Imports"
   ]
  },
  {
   "cell_type": "code",
   "execution_count": 2,
   "metadata": {
    "colab": {},
    "colab_type": "code",
    "id": "DoywPEf3n2xH"
   },
   "outputs": [],
   "source": [
    "import os\n",
    "from argparse import Namespace"
   ]
  },
  {
   "cell_type": "code",
   "execution_count": 3,
   "metadata": {},
   "outputs": [],
   "source": [
    "import torch\n",
    "from torch import nn\n",
    "from torch.utils.data import Dataset, DataLoader\n",
    "from transformers import T5Tokenizer, T5ForConditionalGeneration"
   ]
  },
  {
   "cell_type": "code",
   "execution_count": 4,
   "metadata": {},
   "outputs": [],
   "source": [
    "import pytorch_lightning as pl"
   ]
  },
  {
   "cell_type": "code",
   "execution_count": 5,
   "metadata": {
    "scrolled": true
   },
   "outputs": [],
   "source": [
    "from src.data.make_conll2003 import get_example_sets, InputExample\n",
    "from src.input.dataset import T5NERDataset\n",
    "from src.models.modeling_t5conll2003 import T5ForConll2003"
   ]
  },
  {
   "cell_type": "code",
   "execution_count": 6,
   "metadata": {},
   "outputs": [],
   "source": [
    "hparams = {\"experiment_name\": \"Overfit T5 on CoNLL2003\",\n",
    "           \"batch_size\": 2, \"num_workers\": 2,\n",
    "           \"optimizer\": \"Adam\", \"lr\": 5e-4,\n",
    "           \"datapath\": \"../data/conll2003\"\n",
    "           }\n",
    "hparams = Namespace(**hparams)"
   ]
  },
  {
   "cell_type": "code",
   "execution_count": 7,
   "metadata": {},
   "outputs": [],
   "source": [
    "class OverfitT5(T5ForConll2003):\n",
    "    \n",
    "    def val_dataloader(self) -> DataLoader:\n",
    "        return DataLoader(self.train_dataset, batch_size=self.batch_size, shuffle=False, num_workers=self.num_workers)\n",
    "\n",
    "    def test_dataloader(self) -> DataLoader:\n",
    "        return DataLoader(self.train_dataset, batch_size=self.batch_size, shuffle=False, num_workers=self.num_workers)"
   ]
  },
  {
   "cell_type": "code",
   "execution_count": 8,
   "metadata": {
    "scrolled": true
   },
   "outputs": [],
   "source": [
    "model = OverfitT5.from_pretrained('t5-small', hparams=hparams)"
   ]
  },
  {
   "cell_type": "markdown",
   "metadata": {},
   "source": [
    "# Overfit with PL"
   ]
  },
  {
   "cell_type": "code",
   "execution_count": 9,
   "metadata": {
    "scrolled": true
   },
   "outputs": [
    {
     "name": "stderr",
     "output_type": "stream",
     "text": [
      "GPU available: True, used: True\n",
      "No environment variable for node rank defined. Set as 0.\n",
      "CUDA_VISIBLE_DEVICES: [0]\n"
     ]
    }
   ],
   "source": [
    "trainer = pl.Trainer(gpus=1, max_epochs=50, overfit_pct=0.001)"
   ]
  },
  {
   "cell_type": "code",
   "execution_count": null,
   "metadata": {
    "scrolled": true
   },
   "outputs": [
    {
     "name": "stderr",
     "output_type": "stream",
     "text": [
      "\n",
      "    | Name                                                            | Type                  | Params\n",
      "------------------------------------------------------------------------------------------------------\n",
      "0   | shared                                                          | Embedding             | 16 M  \n",
      "1   | encoder                                                         | T5Stack               | 35 M  \n",
      "2   | encoder.block                                                   | ModuleList            | 18 M  \n",
      "3   | encoder.block.0                                                 | T5Block               | 3 M   \n",
      "4   | encoder.block.0.layer                                           | ModuleList            | 3 M   \n",
      "5   | encoder.block.0.layer.0                                         | T5LayerSelfAttention  | 1 M   \n",
      "6   | encoder.block.0.layer.0.SelfAttention                           | T5Attention           | 1 M   \n",
      "7   | encoder.block.0.layer.0.SelfAttention.q                         | Linear                | 262 K \n",
      "8   | encoder.block.0.layer.0.SelfAttention.k                         | Linear                | 262 K \n",
      "9   | encoder.block.0.layer.0.SelfAttention.v                         | Linear                | 262 K \n",
      "10  | encoder.block.0.layer.0.SelfAttention.o                         | Linear                | 262 K \n",
      "11  | encoder.block.0.layer.0.SelfAttention.relative_attention_bias   | Embedding             | 256   \n",
      "12  | encoder.block.0.layer.0.layer_norm                              | T5LayerNorm           | 512   \n",
      "13  | encoder.block.0.layer.0.dropout                                 | Dropout               | 0     \n",
      "14  | encoder.block.0.layer.1                                         | T5LayerFF             | 2 M   \n",
      "15  | encoder.block.0.layer.1.DenseReluDense                          | T5DenseReluDense      | 2 M   \n",
      "16  | encoder.block.0.layer.1.DenseReluDense.wi                       | Linear                | 1 M   \n",
      "17  | encoder.block.0.layer.1.DenseReluDense.wo                       | Linear                | 1 M   \n",
      "18  | encoder.block.0.layer.1.DenseReluDense.dropout                  | Dropout               | 0     \n",
      "19  | encoder.block.0.layer.1.layer_norm                              | T5LayerNorm           | 512   \n",
      "20  | encoder.block.0.layer.1.dropout                                 | Dropout               | 0     \n",
      "21  | encoder.block.1                                                 | T5Block               | 3 M   \n",
      "22  | encoder.block.1.layer                                           | ModuleList            | 3 M   \n",
      "23  | encoder.block.1.layer.0                                         | T5LayerSelfAttention  | 1 M   \n",
      "24  | encoder.block.1.layer.0.SelfAttention                           | T5Attention           | 1 M   \n",
      "25  | encoder.block.1.layer.0.SelfAttention.q                         | Linear                | 262 K \n",
      "26  | encoder.block.1.layer.0.SelfAttention.k                         | Linear                | 262 K \n",
      "27  | encoder.block.1.layer.0.SelfAttention.v                         | Linear                | 262 K \n",
      "28  | encoder.block.1.layer.0.SelfAttention.o                         | Linear                | 262 K \n",
      "29  | encoder.block.1.layer.0.layer_norm                              | T5LayerNorm           | 512   \n",
      "30  | encoder.block.1.layer.0.dropout                                 | Dropout               | 0     \n",
      "31  | encoder.block.1.layer.1                                         | T5LayerFF             | 2 M   \n",
      "32  | encoder.block.1.layer.1.DenseReluDense                          | T5DenseReluDense      | 2 M   \n",
      "33  | encoder.block.1.layer.1.DenseReluDense.wi                       | Linear                | 1 M   \n",
      "34  | encoder.block.1.layer.1.DenseReluDense.wo                       | Linear                | 1 M   \n",
      "35  | encoder.block.1.layer.1.DenseReluDense.dropout                  | Dropout               | 0     \n",
      "36  | encoder.block.1.layer.1.layer_norm                              | T5LayerNorm           | 512   \n",
      "37  | encoder.block.1.layer.1.dropout                                 | Dropout               | 0     \n",
      "38  | encoder.block.2                                                 | T5Block               | 3 M   \n",
      "39  | encoder.block.2.layer                                           | ModuleList            | 3 M   \n",
      "40  | encoder.block.2.layer.0                                         | T5LayerSelfAttention  | 1 M   \n",
      "41  | encoder.block.2.layer.0.SelfAttention                           | T5Attention           | 1 M   \n",
      "42  | encoder.block.2.layer.0.SelfAttention.q                         | Linear                | 262 K \n",
      "43  | encoder.block.2.layer.0.SelfAttention.k                         | Linear                | 262 K \n",
      "44  | encoder.block.2.layer.0.SelfAttention.v                         | Linear                | 262 K \n",
      "45  | encoder.block.2.layer.0.SelfAttention.o                         | Linear                | 262 K \n",
      "46  | encoder.block.2.layer.0.layer_norm                              | T5LayerNorm           | 512   \n",
      "47  | encoder.block.2.layer.0.dropout                                 | Dropout               | 0     \n",
      "48  | encoder.block.2.layer.1                                         | T5LayerFF             | 2 M   \n",
      "49  | encoder.block.2.layer.1.DenseReluDense                          | T5DenseReluDense      | 2 M   \n",
      "50  | encoder.block.2.layer.1.DenseReluDense.wi                       | Linear                | 1 M   \n",
      "51  | encoder.block.2.layer.1.DenseReluDense.wo                       | Linear                | 1 M   \n",
      "52  | encoder.block.2.layer.1.DenseReluDense.dropout                  | Dropout               | 0     \n",
      "53  | encoder.block.2.layer.1.layer_norm                              | T5LayerNorm           | 512   \n",
      "54  | encoder.block.2.layer.1.dropout                                 | Dropout               | 0     \n",
      "55  | encoder.block.3                                                 | T5Block               | 3 M   \n",
      "56  | encoder.block.3.layer                                           | ModuleList            | 3 M   \n",
      "57  | encoder.block.3.layer.0                                         | T5LayerSelfAttention  | 1 M   \n",
      "58  | encoder.block.3.layer.0.SelfAttention                           | T5Attention           | 1 M   \n",
      "59  | encoder.block.3.layer.0.SelfAttention.q                         | Linear                | 262 K \n",
      "60  | encoder.block.3.layer.0.SelfAttention.k                         | Linear                | 262 K \n",
      "61  | encoder.block.3.layer.0.SelfAttention.v                         | Linear                | 262 K \n",
      "62  | encoder.block.3.layer.0.SelfAttention.o                         | Linear                | 262 K \n",
      "63  | encoder.block.3.layer.0.layer_norm                              | T5LayerNorm           | 512   \n",
      "64  | encoder.block.3.layer.0.dropout                                 | Dropout               | 0     \n",
      "65  | encoder.block.3.layer.1                                         | T5LayerFF             | 2 M   \n",
      "66  | encoder.block.3.layer.1.DenseReluDense                          | T5DenseReluDense      | 2 M   \n",
      "67  | encoder.block.3.layer.1.DenseReluDense.wi                       | Linear                | 1 M   \n",
      "68  | encoder.block.3.layer.1.DenseReluDense.wo                       | Linear                | 1 M   \n",
      "69  | encoder.block.3.layer.1.DenseReluDense.dropout                  | Dropout               | 0     \n",
      "70  | encoder.block.3.layer.1.layer_norm                              | T5LayerNorm           | 512   \n",
      "71  | encoder.block.3.layer.1.dropout                                 | Dropout               | 0     \n",
      "72  | encoder.block.4                                                 | T5Block               | 3 M   \n",
      "73  | encoder.block.4.layer                                           | ModuleList            | 3 M   \n",
      "74  | encoder.block.4.layer.0                                         | T5LayerSelfAttention  | 1 M   \n",
      "75  | encoder.block.4.layer.0.SelfAttention                           | T5Attention           | 1 M   \n",
      "76  | encoder.block.4.layer.0.SelfAttention.q                         | Linear                | 262 K \n",
      "77  | encoder.block.4.layer.0.SelfAttention.k                         | Linear                | 262 K \n",
      "78  | encoder.block.4.layer.0.SelfAttention.v                         | Linear                | 262 K \n",
      "79  | encoder.block.4.layer.0.SelfAttention.o                         | Linear                | 262 K \n",
      "80  | encoder.block.4.layer.0.layer_norm                              | T5LayerNorm           | 512   \n",
      "81  | encoder.block.4.layer.0.dropout                                 | Dropout               | 0     \n",
      "82  | encoder.block.4.layer.1                                         | T5LayerFF             | 2 M   \n",
      "83  | encoder.block.4.layer.1.DenseReluDense                          | T5DenseReluDense      | 2 M   \n",
      "84  | encoder.block.4.layer.1.DenseReluDense.wi                       | Linear                | 1 M   \n",
      "85  | encoder.block.4.layer.1.DenseReluDense.wo                       | Linear                | 1 M   \n",
      "86  | encoder.block.4.layer.1.DenseReluDense.dropout                  | Dropout               | 0     \n",
      "87  | encoder.block.4.layer.1.layer_norm                              | T5LayerNorm           | 512   \n",
      "88  | encoder.block.4.layer.1.dropout                                 | Dropout               | 0     \n",
      "89  | encoder.block.5                                                 | T5Block               | 3 M   \n",
      "90  | encoder.block.5.layer                                           | ModuleList            | 3 M   \n",
      "91  | encoder.block.5.layer.0                                         | T5LayerSelfAttention  | 1 M   \n",
      "92  | encoder.block.5.layer.0.SelfAttention                           | T5Attention           | 1 M   \n",
      "93  | encoder.block.5.layer.0.SelfAttention.q                         | Linear                | 262 K \n",
      "94  | encoder.block.5.layer.0.SelfAttention.k                         | Linear                | 262 K \n",
      "95  | encoder.block.5.layer.0.SelfAttention.v                         | Linear                | 262 K \n",
      "96  | encoder.block.5.layer.0.SelfAttention.o                         | Linear                | 262 K \n",
      "97  | encoder.block.5.layer.0.layer_norm                              | T5LayerNorm           | 512   \n",
      "98  | encoder.block.5.layer.0.dropout                                 | Dropout               | 0     \n",
      "99  | encoder.block.5.layer.1                                         | T5LayerFF             | 2 M   \n",
      "100 | encoder.block.5.layer.1.DenseReluDense                          | T5DenseReluDense      | 2 M   \n",
      "101 | encoder.block.5.layer.1.DenseReluDense.wi                       | Linear                | 1 M   \n",
      "102 | encoder.block.5.layer.1.DenseReluDense.wo                       | Linear                | 1 M   \n",
      "103 | encoder.block.5.layer.1.DenseReluDense.dropout                  | Dropout               | 0     \n",
      "104 | encoder.block.5.layer.1.layer_norm                              | T5LayerNorm           | 512   \n",
      "105 | encoder.block.5.layer.1.dropout                                 | Dropout               | 0     \n",
      "106 | encoder.final_layer_norm                                        | T5LayerNorm           | 512   \n",
      "107 | encoder.dropout                                                 | Dropout               | 0     \n",
      "108 | decoder                                                         | T5Stack               | 41 M  \n",
      "109 | decoder.block                                                   | ModuleList            | 25 M  \n",
      "110 | decoder.block.0                                                 | T5Block               | 4 M   \n",
      "111 | decoder.block.0.layer                                           | ModuleList            | 4 M   \n",
      "112 | decoder.block.0.layer.0                                         | T5LayerSelfAttention  | 1 M   \n",
      "113 | decoder.block.0.layer.0.SelfAttention                           | T5Attention           | 1 M   \n",
      "114 | decoder.block.0.layer.0.SelfAttention.q                         | Linear                | 262 K \n",
      "115 | decoder.block.0.layer.0.SelfAttention.k                         | Linear                | 262 K \n",
      "116 | decoder.block.0.layer.0.SelfAttention.v                         | Linear                | 262 K \n",
      "117 | decoder.block.0.layer.0.SelfAttention.o                         | Linear                | 262 K \n",
      "118 | decoder.block.0.layer.0.SelfAttention.relative_attention_bias   | Embedding             | 256   \n",
      "119 | decoder.block.0.layer.0.layer_norm                              | T5LayerNorm           | 512   \n",
      "120 | decoder.block.0.layer.0.dropout                                 | Dropout               | 0     \n",
      "121 | decoder.block.0.layer.1                                         | T5LayerCrossAttention | 1 M   \n",
      "122 | decoder.block.0.layer.1.EncDecAttention                         | T5Attention           | 1 M   \n",
      "123 | decoder.block.0.layer.1.EncDecAttention.q                       | Linear                | 262 K \n",
      "124 | decoder.block.0.layer.1.EncDecAttention.k                       | Linear                | 262 K \n",
      "125 | decoder.block.0.layer.1.EncDecAttention.v                       | Linear                | 262 K \n",
      "126 | decoder.block.0.layer.1.EncDecAttention.o                       | Linear                | 262 K \n",
      "127 | decoder.block.0.layer.1.EncDecAttention.relative_attention_bias | Embedding             | 256   \n",
      "128 | decoder.block.0.layer.1.layer_norm                              | T5LayerNorm           | 512   \n",
      "129 | decoder.block.0.layer.1.dropout                                 | Dropout               | 0     \n",
      "130 | decoder.block.0.layer.2                                         | T5LayerFF             | 2 M   \n",
      "131 | decoder.block.0.layer.2.DenseReluDense                          | T5DenseReluDense      | 2 M   \n",
      "132 | decoder.block.0.layer.2.DenseReluDense.wi                       | Linear                | 1 M   \n",
      "133 | decoder.block.0.layer.2.DenseReluDense.wo                       | Linear                | 1 M   \n",
      "134 | decoder.block.0.layer.2.DenseReluDense.dropout                  | Dropout               | 0     \n",
      "135 | decoder.block.0.layer.2.layer_norm                              | T5LayerNorm           | 512   \n",
      "136 | decoder.block.0.layer.2.dropout                                 | Dropout               | 0     \n",
      "137 | decoder.block.1                                                 | T5Block               | 4 M   \n",
      "138 | decoder.block.1.layer                                           | ModuleList            | 4 M   \n",
      "139 | decoder.block.1.layer.0                                         | T5LayerSelfAttention  | 1 M   \n",
      "140 | decoder.block.1.layer.0.SelfAttention                           | T5Attention           | 1 M   \n",
      "141 | decoder.block.1.layer.0.SelfAttention.q                         | Linear                | 262 K \n",
      "142 | decoder.block.1.layer.0.SelfAttention.k                         | Linear                | 262 K \n",
      "143 | decoder.block.1.layer.0.SelfAttention.v                         | Linear                | 262 K \n",
      "144 | decoder.block.1.layer.0.SelfAttention.o                         | Linear                | 262 K \n",
      "145 | decoder.block.1.layer.0.layer_norm                              | T5LayerNorm           | 512   \n",
      "146 | decoder.block.1.layer.0.dropout                                 | Dropout               | 0     \n",
      "147 | decoder.block.1.layer.1                                         | T5LayerCrossAttention | 1 M   \n",
      "148 | decoder.block.1.layer.1.EncDecAttention                         | T5Attention           | 1 M   \n",
      "149 | decoder.block.1.layer.1.EncDecAttention.q                       | Linear                | 262 K \n",
      "150 | decoder.block.1.layer.1.EncDecAttention.k                       | Linear                | 262 K \n",
      "151 | decoder.block.1.layer.1.EncDecAttention.v                       | Linear                | 262 K \n",
      "152 | decoder.block.1.layer.1.EncDecAttention.o                       | Linear                | 262 K \n",
      "153 | decoder.block.1.layer.1.layer_norm                              | T5LayerNorm           | 512   \n",
      "154 | decoder.block.1.layer.1.dropout                                 | Dropout               | 0     \n",
      "155 | decoder.block.1.layer.2                                         | T5LayerFF             | 2 M   \n",
      "156 | decoder.block.1.layer.2.DenseReluDense                          | T5DenseReluDense      | 2 M   \n",
      "157 | decoder.block.1.layer.2.DenseReluDense.wi                       | Linear                | 1 M   \n",
      "158 | decoder.block.1.layer.2.DenseReluDense.wo                       | Linear                | 1 M   \n",
      "159 | decoder.block.1.layer.2.DenseReluDense.dropout                  | Dropout               | 0     \n",
      "160 | decoder.block.1.layer.2.layer_norm                              | T5LayerNorm           | 512   \n",
      "161 | decoder.block.1.layer.2.dropout                                 | Dropout               | 0     \n",
      "162 | decoder.block.2                                                 | T5Block               | 4 M   \n",
      "163 | decoder.block.2.layer                                           | ModuleList            | 4 M   \n",
      "164 | decoder.block.2.layer.0                                         | T5LayerSelfAttention  | 1 M   \n",
      "165 | decoder.block.2.layer.0.SelfAttention                           | T5Attention           | 1 M   \n",
      "166 | decoder.block.2.layer.0.SelfAttention.q                         | Linear                | 262 K \n",
      "167 | decoder.block.2.layer.0.SelfAttention.k                         | Linear                | 262 K \n",
      "168 | decoder.block.2.layer.0.SelfAttention.v                         | Linear                | 262 K \n",
      "169 | decoder.block.2.layer.0.SelfAttention.o                         | Linear                | 262 K \n",
      "170 | decoder.block.2.layer.0.layer_norm                              | T5LayerNorm           | 512   \n",
      "171 | decoder.block.2.layer.0.dropout                                 | Dropout               | 0     \n",
      "172 | decoder.block.2.layer.1                                         | T5LayerCrossAttention | 1 M   \n",
      "173 | decoder.block.2.layer.1.EncDecAttention                         | T5Attention           | 1 M   \n",
      "174 | decoder.block.2.layer.1.EncDecAttention.q                       | Linear                | 262 K \n",
      "175 | decoder.block.2.layer.1.EncDecAttention.k                       | Linear                | 262 K \n",
      "176 | decoder.block.2.layer.1.EncDecAttention.v                       | Linear                | 262 K \n",
      "177 | decoder.block.2.layer.1.EncDecAttention.o                       | Linear                | 262 K \n",
      "178 | decoder.block.2.layer.1.layer_norm                              | T5LayerNorm           | 512   \n",
      "179 | decoder.block.2.layer.1.dropout                                 | Dropout               | 0     \n",
      "180 | decoder.block.2.layer.2                                         | T5LayerFF             | 2 M   \n",
      "181 | decoder.block.2.layer.2.DenseReluDense                          | T5DenseReluDense      | 2 M   \n",
      "182 | decoder.block.2.layer.2.DenseReluDense.wi                       | Linear                | 1 M   \n",
      "183 | decoder.block.2.layer.2.DenseReluDense.wo                       | Linear                | 1 M   \n",
      "184 | decoder.block.2.layer.2.DenseReluDense.dropout                  | Dropout               | 0     \n",
      "185 | decoder.block.2.layer.2.layer_norm                              | T5LayerNorm           | 512   \n",
      "186 | decoder.block.2.layer.2.dropout                                 | Dropout               | 0     \n",
      "187 | decoder.block.3                                                 | T5Block               | 4 M   \n",
      "188 | decoder.block.3.layer                                           | ModuleList            | 4 M   \n",
      "189 | decoder.block.3.layer.0                                         | T5LayerSelfAttention  | 1 M   \n",
      "190 | decoder.block.3.layer.0.SelfAttention                           | T5Attention           | 1 M   \n",
      "191 | decoder.block.3.layer.0.SelfAttention.q                         | Linear                | 262 K \n",
      "192 | decoder.block.3.layer.0.SelfAttention.k                         | Linear                | 262 K \n",
      "193 | decoder.block.3.layer.0.SelfAttention.v                         | Linear                | 262 K \n",
      "194 | decoder.block.3.layer.0.SelfAttention.o                         | Linear                | 262 K \n",
      "195 | decoder.block.3.layer.0.layer_norm                              | T5LayerNorm           | 512   \n",
      "196 | decoder.block.3.layer.0.dropout                                 | Dropout               | 0     \n",
      "197 | decoder.block.3.layer.1                                         | T5LayerCrossAttention | 1 M   \n",
      "198 | decoder.block.3.layer.1.EncDecAttention                         | T5Attention           | 1 M   \n",
      "199 | decoder.block.3.layer.1.EncDecAttention.q                       | Linear                | 262 K \n",
      "200 | decoder.block.3.layer.1.EncDecAttention.k                       | Linear                | 262 K \n",
      "201 | decoder.block.3.layer.1.EncDecAttention.v                       | Linear                | 262 K \n",
      "202 | decoder.block.3.layer.1.EncDecAttention.o                       | Linear                | 262 K \n",
      "203 | decoder.block.3.layer.1.layer_norm                              | T5LayerNorm           | 512   \n",
      "204 | decoder.block.3.layer.1.dropout                                 | Dropout               | 0     \n",
      "205 | decoder.block.3.layer.2                                         | T5LayerFF             | 2 M   \n",
      "206 | decoder.block.3.layer.2.DenseReluDense                          | T5DenseReluDense      | 2 M   \n",
      "207 | decoder.block.3.layer.2.DenseReluDense.wi                       | Linear                | 1 M   \n",
      "208 | decoder.block.3.layer.2.DenseReluDense.wo                       | Linear                | 1 M   \n",
      "209 | decoder.block.3.layer.2.DenseReluDense.dropout                  | Dropout               | 0     \n",
      "210 | decoder.block.3.layer.2.layer_norm                              | T5LayerNorm           | 512   \n",
      "211 | decoder.block.3.layer.2.dropout                                 | Dropout               | 0     \n",
      "212 | decoder.block.4                                                 | T5Block               | 4 M   \n",
      "213 | decoder.block.4.layer                                           | ModuleList            | 4 M   \n",
      "214 | decoder.block.4.layer.0                                         | T5LayerSelfAttention  | 1 M   \n",
      "215 | decoder.block.4.layer.0.SelfAttention                           | T5Attention           | 1 M   \n",
      "216 | decoder.block.4.layer.0.SelfAttention.q                         | Linear                | 262 K \n",
      "217 | decoder.block.4.layer.0.SelfAttention.k                         | Linear                | 262 K \n",
      "218 | decoder.block.4.layer.0.SelfAttention.v                         | Linear                | 262 K \n",
      "219 | decoder.block.4.layer.0.SelfAttention.o                         | Linear                | 262 K \n",
      "220 | decoder.block.4.layer.0.layer_norm                              | T5LayerNorm           | 512   \n",
      "221 | decoder.block.4.layer.0.dropout                                 | Dropout               | 0     \n",
      "222 | decoder.block.4.layer.1                                         | T5LayerCrossAttention | 1 M   \n",
      "223 | decoder.block.4.layer.1.EncDecAttention                         | T5Attention           | 1 M   \n",
      "224 | decoder.block.4.layer.1.EncDecAttention.q                       | Linear                | 262 K \n",
      "225 | decoder.block.4.layer.1.EncDecAttention.k                       | Linear                | 262 K \n",
      "226 | decoder.block.4.layer.1.EncDecAttention.v                       | Linear                | 262 K \n",
      "227 | decoder.block.4.layer.1.EncDecAttention.o                       | Linear                | 262 K \n",
      "228 | decoder.block.4.layer.1.layer_norm                              | T5LayerNorm           | 512   \n",
      "229 | decoder.block.4.layer.1.dropout                                 | Dropout               | 0     \n",
      "230 | decoder.block.4.layer.2                                         | T5LayerFF             | 2 M   \n",
      "231 | decoder.block.4.layer.2.DenseReluDense                          | T5DenseReluDense      | 2 M   \n",
      "232 | decoder.block.4.layer.2.DenseReluDense.wi                       | Linear                | 1 M   \n",
      "233 | decoder.block.4.layer.2.DenseReluDense.wo                       | Linear                | 1 M   \n",
      "234 | decoder.block.4.layer.2.DenseReluDense.dropout                  | Dropout               | 0     \n",
      "235 | decoder.block.4.layer.2.layer_norm                              | T5LayerNorm           | 512   \n",
      "236 | decoder.block.4.layer.2.dropout                                 | Dropout               | 0     \n",
      "237 | decoder.block.5                                                 | T5Block               | 4 M   \n",
      "238 | decoder.block.5.layer                                           | ModuleList            | 4 M   \n",
      "239 | decoder.block.5.layer.0                                         | T5LayerSelfAttention  | 1 M   \n",
      "240 | decoder.block.5.layer.0.SelfAttention                           | T5Attention           | 1 M   \n",
      "241 | decoder.block.5.layer.0.SelfAttention.q                         | Linear                | 262 K \n",
      "242 | decoder.block.5.layer.0.SelfAttention.k                         | Linear                | 262 K \n",
      "243 | decoder.block.5.layer.0.SelfAttention.v                         | Linear                | 262 K \n",
      "244 | decoder.block.5.layer.0.SelfAttention.o                         | Linear                | 262 K \n",
      "245 | decoder.block.5.layer.0.layer_norm                              | T5LayerNorm           | 512   \n",
      "246 | decoder.block.5.layer.0.dropout                                 | Dropout               | 0     \n",
      "247 | decoder.block.5.layer.1                                         | T5LayerCrossAttention | 1 M   \n",
      "248 | decoder.block.5.layer.1.EncDecAttention                         | T5Attention           | 1 M   \n",
      "249 | decoder.block.5.layer.1.EncDecAttention.q                       | Linear                | 262 K \n",
      "250 | decoder.block.5.layer.1.EncDecAttention.k                       | Linear                | 262 K \n",
      "251 | decoder.block.5.layer.1.EncDecAttention.v                       | Linear                | 262 K \n",
      "252 | decoder.block.5.layer.1.EncDecAttention.o                       | Linear                | 262 K \n",
      "253 | decoder.block.5.layer.1.layer_norm                              | T5LayerNorm           | 512   \n",
      "254 | decoder.block.5.layer.1.dropout                                 | Dropout               | 0     \n",
      "255 | decoder.block.5.layer.2                                         | T5LayerFF             | 2 M   \n",
      "256 | decoder.block.5.layer.2.DenseReluDense                          | T5DenseReluDense      | 2 M   \n",
      "257 | decoder.block.5.layer.2.DenseReluDense.wi                       | Linear                | 1 M   \n",
      "258 | decoder.block.5.layer.2.DenseReluDense.wo                       | Linear                | 1 M   \n",
      "259 | decoder.block.5.layer.2.DenseReluDense.dropout                  | Dropout               | 0     \n",
      "260 | decoder.block.5.layer.2.layer_norm                              | T5LayerNorm           | 512   \n",
      "261 | decoder.block.5.layer.2.dropout                                 | Dropout               | 0     \n",
      "262 | decoder.final_layer_norm                                        | T5LayerNorm           | 512   \n",
      "263 | decoder.dropout                                                 | Dropout               | 0     \n",
      "264 | lm_head                                                         | Linear                | 16 M  \n",
      "/home/israel/miniconda3/envs/t5ner/lib/python3.8/site-packages/pytorch_lightning/utilities/distributed.py:23: UserWarning: The dataloader, val dataloader 0, does not have many workers which may be a bottleneck. Consider increasing the value of the `num_workers` argument` in the `DataLoader` init to improve performance.\n",
      "  warnings.warn(*args, **kwargs)\n"
     ]
    },
    {
     "data": {
      "application/vnd.jupyter.widget-view+json": {
       "model_id": "",
       "version_major": 2,
       "version_minor": 0
      },
      "text/plain": [
       "HBox(children=(FloatProgress(value=1.0, bar_style='info', description='Validation sanity check', layout=Layout…"
      ]
     },
     "metadata": {},
     "output_type": "display_data"
    },
    {
     "name": "stderr",
     "output_type": "stream",
     "text": [
      "/home/israel/miniconda3/envs/t5ner/lib/python3.8/site-packages/pytorch_lightning/utilities/distributed.py:23: UserWarning: The dataloader, train dataloader, does not have many workers which may be a bottleneck. Consider increasing the value of the `num_workers` argument` in the `DataLoader` init to improve performance.\n",
      "  warnings.warn(*args, **kwargs)\n"
     ]
    },
    {
     "data": {
      "application/vnd.jupyter.widget-view+json": {
       "model_id": "406f88e8e9634522b899e24ebd48f0ff",
       "version_major": 2,
       "version_minor": 0
      },
      "text/plain": [
       "HBox(children=(FloatProgress(value=1.0, bar_style='info', description='Training', layout=Layout(flex='2'), max…"
      ]
     },
     "metadata": {},
     "output_type": "display_data"
    },
    {
     "data": {
      "application/vnd.jupyter.widget-view+json": {
       "model_id": "",
       "version_major": 2,
       "version_minor": 0
      },
      "text/plain": [
       "HBox(children=(FloatProgress(value=1.0, bar_style='info', description='Validating', layout=Layout(flex='2'), m…"
      ]
     },
     "metadata": {},
     "output_type": "display_data"
    },
    {
     "data": {
      "application/vnd.jupyter.widget-view+json": {
       "model_id": "",
       "version_major": 2,
       "version_minor": 0
      },
      "text/plain": [
       "HBox(children=(FloatProgress(value=1.0, bar_style='info', description='Validating', layout=Layout(flex='2'), m…"
      ]
     },
     "metadata": {},
     "output_type": "display_data"
    },
    {
     "data": {
      "application/vnd.jupyter.widget-view+json": {
       "model_id": "",
       "version_major": 2,
       "version_minor": 0
      },
      "text/plain": [
       "HBox(children=(FloatProgress(value=1.0, bar_style='info', description='Validating', layout=Layout(flex='2'), m…"
      ]
     },
     "metadata": {},
     "output_type": "display_data"
    },
    {
     "data": {
      "application/vnd.jupyter.widget-view+json": {
       "model_id": "",
       "version_major": 2,
       "version_minor": 0
      },
      "text/plain": [
       "HBox(children=(FloatProgress(value=1.0, bar_style='info', description='Validating', layout=Layout(flex='2'), m…"
      ]
     },
     "metadata": {},
     "output_type": "display_data"
    },
    {
     "data": {
      "application/vnd.jupyter.widget-view+json": {
       "model_id": "",
       "version_major": 2,
       "version_minor": 0
      },
      "text/plain": [
       "HBox(children=(FloatProgress(value=1.0, bar_style='info', description='Validating', layout=Layout(flex='2'), m…"
      ]
     },
     "metadata": {},
     "output_type": "display_data"
    },
    {
     "data": {
      "application/vnd.jupyter.widget-view+json": {
       "model_id": "",
       "version_major": 2,
       "version_minor": 0
      },
      "text/plain": [
       "HBox(children=(FloatProgress(value=1.0, bar_style='info', description='Validating', layout=Layout(flex='2'), m…"
      ]
     },
     "metadata": {},
     "output_type": "display_data"
    },
    {
     "data": {
      "application/vnd.jupyter.widget-view+json": {
       "model_id": "",
       "version_major": 2,
       "version_minor": 0
      },
      "text/plain": [
       "HBox(children=(FloatProgress(value=1.0, bar_style='info', description='Validating', layout=Layout(flex='2'), m…"
      ]
     },
     "metadata": {},
     "output_type": "display_data"
    },
    {
     "data": {
      "application/vnd.jupyter.widget-view+json": {
       "model_id": "",
       "version_major": 2,
       "version_minor": 0
      },
      "text/plain": [
       "HBox(children=(FloatProgress(value=1.0, bar_style='info', description='Validating', layout=Layout(flex='2'), m…"
      ]
     },
     "metadata": {},
     "output_type": "display_data"
    },
    {
     "data": {
      "application/vnd.jupyter.widget-view+json": {
       "model_id": "",
       "version_major": 2,
       "version_minor": 0
      },
      "text/plain": [
       "HBox(children=(FloatProgress(value=1.0, bar_style='info', description='Validating', layout=Layout(flex='2'), m…"
      ]
     },
     "metadata": {},
     "output_type": "display_data"
    },
    {
     "data": {
      "application/vnd.jupyter.widget-view+json": {
       "model_id": "",
       "version_major": 2,
       "version_minor": 0
      },
      "text/plain": [
       "HBox(children=(FloatProgress(value=1.0, bar_style='info', description='Validating', layout=Layout(flex='2'), m…"
      ]
     },
     "metadata": {},
     "output_type": "display_data"
    },
    {
     "data": {
      "application/vnd.jupyter.widget-view+json": {
       "model_id": "",
       "version_major": 2,
       "version_minor": 0
      },
      "text/plain": [
       "HBox(children=(FloatProgress(value=1.0, bar_style='info', description='Validating', layout=Layout(flex='2'), m…"
      ]
     },
     "metadata": {},
     "output_type": "display_data"
    },
    {
     "data": {
      "application/vnd.jupyter.widget-view+json": {
       "model_id": "",
       "version_major": 2,
       "version_minor": 0
      },
      "text/plain": [
       "HBox(children=(FloatProgress(value=1.0, bar_style='info', description='Validating', layout=Layout(flex='2'), m…"
      ]
     },
     "metadata": {},
     "output_type": "display_data"
    },
    {
     "data": {
      "application/vnd.jupyter.widget-view+json": {
       "model_id": "",
       "version_major": 2,
       "version_minor": 0
      },
      "text/plain": [
       "HBox(children=(FloatProgress(value=1.0, bar_style='info', description='Validating', layout=Layout(flex='2'), m…"
      ]
     },
     "metadata": {},
     "output_type": "display_data"
    },
    {
     "data": {
      "application/vnd.jupyter.widget-view+json": {
       "model_id": "",
       "version_major": 2,
       "version_minor": 0
      },
      "text/plain": [
       "HBox(children=(FloatProgress(value=1.0, bar_style='info', description='Validating', layout=Layout(flex='2'), m…"
      ]
     },
     "metadata": {},
     "output_type": "display_data"
    },
    {
     "data": {
      "application/vnd.jupyter.widget-view+json": {
       "model_id": "",
       "version_major": 2,
       "version_minor": 0
      },
      "text/plain": [
       "HBox(children=(FloatProgress(value=1.0, bar_style='info', description='Validating', layout=Layout(flex='2'), m…"
      ]
     },
     "metadata": {},
     "output_type": "display_data"
    },
    {
     "data": {
      "application/vnd.jupyter.widget-view+json": {
       "model_id": "",
       "version_major": 2,
       "version_minor": 0
      },
      "text/plain": [
       "HBox(children=(FloatProgress(value=1.0, bar_style='info', description='Validating', layout=Layout(flex='2'), m…"
      ]
     },
     "metadata": {},
     "output_type": "display_data"
    },
    {
     "data": {
      "application/vnd.jupyter.widget-view+json": {
       "model_id": "",
       "version_major": 2,
       "version_minor": 0
      },
      "text/plain": [
       "HBox(children=(FloatProgress(value=1.0, bar_style='info', description='Validating', layout=Layout(flex='2'), m…"
      ]
     },
     "metadata": {},
     "output_type": "display_data"
    },
    {
     "data": {
      "application/vnd.jupyter.widget-view+json": {
       "model_id": "",
       "version_major": 2,
       "version_minor": 0
      },
      "text/plain": [
       "HBox(children=(FloatProgress(value=1.0, bar_style='info', description='Validating', layout=Layout(flex='2'), m…"
      ]
     },
     "metadata": {},
     "output_type": "display_data"
    },
    {
     "data": {
      "application/vnd.jupyter.widget-view+json": {
       "model_id": "",
       "version_major": 2,
       "version_minor": 0
      },
      "text/plain": [
       "HBox(children=(FloatProgress(value=1.0, bar_style='info', description='Validating', layout=Layout(flex='2'), m…"
      ]
     },
     "metadata": {},
     "output_type": "display_data"
    },
    {
     "data": {
      "application/vnd.jupyter.widget-view+json": {
       "model_id": "",
       "version_major": 2,
       "version_minor": 0
      },
      "text/plain": [
       "HBox(children=(FloatProgress(value=1.0, bar_style='info', description='Validating', layout=Layout(flex='2'), m…"
      ]
     },
     "metadata": {},
     "output_type": "display_data"
    },
    {
     "data": {
      "application/vnd.jupyter.widget-view+json": {
       "model_id": "",
       "version_major": 2,
       "version_minor": 0
      },
      "text/plain": [
       "HBox(children=(FloatProgress(value=1.0, bar_style='info', description='Validating', layout=Layout(flex='2'), m…"
      ]
     },
     "metadata": {},
     "output_type": "display_data"
    },
    {
     "data": {
      "application/vnd.jupyter.widget-view+json": {
       "model_id": "",
       "version_major": 2,
       "version_minor": 0
      },
      "text/plain": [
       "HBox(children=(FloatProgress(value=1.0, bar_style='info', description='Validating', layout=Layout(flex='2'), m…"
      ]
     },
     "metadata": {},
     "output_type": "display_data"
    },
    {
     "data": {
      "application/vnd.jupyter.widget-view+json": {
       "model_id": "",
       "version_major": 2,
       "version_minor": 0
      },
      "text/plain": [
       "HBox(children=(FloatProgress(value=1.0, bar_style='info', description='Validating', layout=Layout(flex='2'), m…"
      ]
     },
     "metadata": {},
     "output_type": "display_data"
    },
    {
     "data": {
      "application/vnd.jupyter.widget-view+json": {
       "model_id": "",
       "version_major": 2,
       "version_minor": 0
      },
      "text/plain": [
       "HBox(children=(FloatProgress(value=1.0, bar_style='info', description='Validating', layout=Layout(flex='2'), m…"
      ]
     },
     "metadata": {},
     "output_type": "display_data"
    },
    {
     "data": {
      "application/vnd.jupyter.widget-view+json": {
       "model_id": "",
       "version_major": 2,
       "version_minor": 0
      },
      "text/plain": [
       "HBox(children=(FloatProgress(value=1.0, bar_style='info', description='Validating', layout=Layout(flex='2'), m…"
      ]
     },
     "metadata": {},
     "output_type": "display_data"
    },
    {
     "data": {
      "application/vnd.jupyter.widget-view+json": {
       "model_id": "",
       "version_major": 2,
       "version_minor": 0
      },
      "text/plain": [
       "HBox(children=(FloatProgress(value=1.0, bar_style='info', description='Validating', layout=Layout(flex='2'), m…"
      ]
     },
     "metadata": {},
     "output_type": "display_data"
    },
    {
     "data": {
      "application/vnd.jupyter.widget-view+json": {
       "model_id": "",
       "version_major": 2,
       "version_minor": 0
      },
      "text/plain": [
       "HBox(children=(FloatProgress(value=1.0, bar_style='info', description='Validating', layout=Layout(flex='2'), m…"
      ]
     },
     "metadata": {},
     "output_type": "display_data"
    },
    {
     "data": {
      "application/vnd.jupyter.widget-view+json": {
       "model_id": "",
       "version_major": 2,
       "version_minor": 0
      },
      "text/plain": [
       "HBox(children=(FloatProgress(value=1.0, bar_style='info', description='Validating', layout=Layout(flex='2'), m…"
      ]
     },
     "metadata": {},
     "output_type": "display_data"
    },
    {
     "data": {
      "application/vnd.jupyter.widget-view+json": {
       "model_id": "",
       "version_major": 2,
       "version_minor": 0
      },
      "text/plain": [
       "HBox(children=(FloatProgress(value=1.0, bar_style='info', description='Validating', layout=Layout(flex='2'), m…"
      ]
     },
     "metadata": {},
     "output_type": "display_data"
    },
    {
     "data": {
      "application/vnd.jupyter.widget-view+json": {
       "model_id": "",
       "version_major": 2,
       "version_minor": 0
      },
      "text/plain": [
       "HBox(children=(FloatProgress(value=1.0, bar_style='info', description='Validating', layout=Layout(flex='2'), m…"
      ]
     },
     "metadata": {},
     "output_type": "display_data"
    },
    {
     "data": {
      "application/vnd.jupyter.widget-view+json": {
       "model_id": "",
       "version_major": 2,
       "version_minor": 0
      },
      "text/plain": [
       "HBox(children=(FloatProgress(value=1.0, bar_style='info', description='Validating', layout=Layout(flex='2'), m…"
      ]
     },
     "metadata": {},
     "output_type": "display_data"
    },
    {
     "data": {
      "application/vnd.jupyter.widget-view+json": {
       "model_id": "",
       "version_major": 2,
       "version_minor": 0
      },
      "text/plain": [
       "HBox(children=(FloatProgress(value=1.0, bar_style='info', description='Validating', layout=Layout(flex='2'), m…"
      ]
     },
     "metadata": {},
     "output_type": "display_data"
    },
    {
     "data": {
      "application/vnd.jupyter.widget-view+json": {
       "model_id": "",
       "version_major": 2,
       "version_minor": 0
      },
      "text/plain": [
       "HBox(children=(FloatProgress(value=1.0, bar_style='info', description='Validating', layout=Layout(flex='2'), m…"
      ]
     },
     "metadata": {},
     "output_type": "display_data"
    },
    {
     "name": "stderr",
     "output_type": "stream",
     "text": [
      "Process Process-131:\n",
      "Process Process-132:\n",
      "Traceback (most recent call last):\n",
      "  File \"/home/israel/miniconda3/envs/t5ner/lib/python3.8/multiprocessing/process.py\", line 318, in _bootstrap\n",
      "    util._exit_function()\n",
      "  File \"/home/israel/miniconda3/envs/t5ner/lib/python3.8/multiprocessing/util.py\", line 334, in _exit_function\n",
      "    _run_finalizers(0)\n",
      "  File \"/home/israel/miniconda3/envs/t5ner/lib/python3.8/multiprocessing/process.py\", line 318, in _bootstrap\n",
      "    util._exit_function()\n",
      "  File \"/home/israel/miniconda3/envs/t5ner/lib/python3.8/multiprocessing/util.py\", line 334, in _exit_function\n",
      "    _run_finalizers(0)\n",
      "  File \"/home/israel/miniconda3/envs/t5ner/lib/python3.8/multiprocessing/util.py\", line 300, in _run_finalizers\n",
      "    finalizer()\n",
      "  File \"/home/israel/miniconda3/envs/t5ner/lib/python3.8/multiprocessing/util.py\", line 300, in _run_finalizers\n",
      "    finalizer()\n",
      "  File \"/home/israel/miniconda3/envs/t5ner/lib/python3.8/multiprocessing/util.py\", line 224, in __call__\n",
      "    res = self._callback(*self._args, **self._kwargs)\n",
      "  File \"/home/israel/miniconda3/envs/t5ner/lib/python3.8/multiprocessing/util.py\", line 224, in __call__\n",
      "    res = self._callback(*self._args, **self._kwargs)\n",
      "KeyboardInterrupt\n",
      "KeyboardInterrupt\n"
     ]
    }
   ],
   "source": [
    "trainer.fit(model)"
   ]
  },
  {
   "cell_type": "code",
   "execution_count": 30,
   "metadata": {},
   "outputs": [
    {
     "name": "stderr",
     "output_type": "stream",
     "text": [
      "/home/israel/miniconda3/envs/t5ner/lib/python3.8/site-packages/pytorch_lightning/utilities/distributed.py:23: UserWarning: The dataloader, test dataloader 0, does not have many workers which may be a bottleneck. Consider increasing the value of the `num_workers` argument` in the `DataLoader` init to improve performance.\n",
      "  warnings.warn(*args, **kwargs)\n"
     ]
    },
    {
     "data": {
      "application/vnd.jupyter.widget-view+json": {
       "model_id": "632cdd11459b48f39306eef4ef27557e",
       "version_major": 2,
       "version_minor": 0
      },
      "text/plain": [
       "HBox(children=(FloatProgress(value=1.0, bar_style='info', description='Testing', layout=Layout(flex='2'), max=…"
      ]
     },
     "metadata": {},
     "output_type": "display_data"
    },
    {
     "name": "stdout",
     "output_type": "stream",
     "text": [
      "--------------------------------------------------------------------------------\n",
      "TEST RESULTS\n",
      "{'f1': 0,\n",
      " 'report': '           precision    recall  f1-score   support\\n'\n",
      "           '\\n'\n",
      "           '     MISC       0.00      0.00      0.00         8\\n'\n",
      "           '      ORG       0.00      0.00      0.00         9\\n'\n",
      "           '      PER       0.00      0.00      0.00         9\\n'\n",
      "           '      LOC       0.00      0.00      0.00         7\\n'\n",
      "           '\\n'\n",
      "           'micro avg       0.00      0.00      0.00        33\\n'\n",
      "           'macro avg       0.00      0.00      0.00        33\\n',\n",
      " 'test_loss': tensor(1.1957, device='cuda:0')}\n",
      "--------------------------------------------------------------------------------\n",
      "\n"
     ]
    }
   ],
   "source": [
    "trainer.test(model)"
   ]
  },
  {
   "cell_type": "code",
   "execution_count": 31,
   "metadata": {},
   "outputs": [],
   "source": [
    "dl_train = model.train_dataloader()\n",
    "batch = next(iter(dl_train))"
   ]
  },
  {
   "cell_type": "code",
   "execution_count": 32,
   "metadata": {},
   "outputs": [],
   "source": [
    "batch = [x.cuda() for x in batch]"
   ]
  },
  {
   "cell_type": "code",
   "execution_count": 33,
   "metadata": {
    "scrolled": true
   },
   "outputs": [],
   "source": [
    "outputs, target_entities, predicted_entities = model._handle_eval_batch(batch)"
   ]
  },
  {
   "cell_type": "code",
   "execution_count": 34,
   "metadata": {
    "scrolled": true
   },
   "outputs": [
    {
     "data": {
      "text/plain": [
       "[['O', 'O', 'O', 'O'],\n",
       " ['O',\n",
       "  'O',\n",
       "  'B-MISC',\n",
       "  'I-MISC',\n",
       "  'I-MISC',\n",
       "  'I-MISC',\n",
       "  'I-MISC',\n",
       "  'I-MISC',\n",
       "  'O',\n",
       "  'O',\n",
       "  'O',\n",
       "  'O',\n",
       "  'O',\n",
       "  'O',\n",
       "  'O',\n",
       "  'O',\n",
       "  'O',\n",
       "  'O',\n",
       "  'O',\n",
       "  'O',\n",
       "  'O',\n",
       "  'O',\n",
       "  'O',\n",
       "  'O',\n",
       "  'O']]"
      ]
     },
     "execution_count": 34,
     "metadata": {},
     "output_type": "execute_result"
    }
   ],
   "source": [
    "target_entities"
   ]
  },
  {
   "cell_type": "code",
   "execution_count": 35,
   "metadata": {},
   "outputs": [
    {
     "data": {
      "text/plain": [
       "'Extract Entities: Attendance 3,000'"
      ]
     },
     "execution_count": 35,
     "metadata": {},
     "output_type": "execute_result"
    }
   ],
   "source": [
    "model.tokenizer.decode(batch[0][0])"
   ]
  },
  {
   "cell_type": "code",
   "execution_count": 36,
   "metadata": {},
   "outputs": [],
   "source": [
    "target_token_ids = model.get_target_token_ids(batch)"
   ]
  },
  {
   "cell_type": "code",
   "execution_count": 37,
   "metadata": {},
   "outputs": [
    {
     "data": {
      "text/plain": [
       "'Attendance <O> 3,000 <O> '"
      ]
     },
     "execution_count": 37,
     "metadata": {},
     "output_type": "execute_result"
    }
   ],
   "source": [
    "model.tokenizer.decode(target_token_ids[0])"
   ]
  },
  {
   "cell_type": "code",
   "execution_count": 38,
   "metadata": {},
   "outputs": [
    {
     "data": {
      "text/plain": [
       "[['O', 'O', 'O', 'O'],\n",
       " ['O',\n",
       "  'O',\n",
       "  'O',\n",
       "  'O',\n",
       "  'O',\n",
       "  'O',\n",
       "  'O',\n",
       "  'O',\n",
       "  'O',\n",
       "  'O',\n",
       "  'O',\n",
       "  'O',\n",
       "  'O',\n",
       "  'O',\n",
       "  'O',\n",
       "  'O',\n",
       "  'O',\n",
       "  'O',\n",
       "  'O',\n",
       "  'O',\n",
       "  'O',\n",
       "  'O',\n",
       "  'O',\n",
       "  'O',\n",
       "  'O']]"
      ]
     },
     "execution_count": 38,
     "metadata": {},
     "output_type": "execute_result"
    }
   ],
   "source": [
    "predicted_entities"
   ]
  },
  {
   "cell_type": "code",
   "execution_count": null,
   "metadata": {},
   "outputs": [],
   "source": []
  }
 ],
 "metadata": {
  "accelerator": "GPU",
  "colab": {
   "authorship_tag": "ABX9TyOEQFs1hQw2f4//XEv2338X",
   "collapsed_sections": [],
   "mount_file_id": "1mwxggUBK86BB6y_2WfG7apqZr9bd1I-k",
   "name": "First T5 training.ipynb",
   "provenance": []
  },
  "kernelspec": {
   "display_name": "Python [conda env:t5ner]",
   "language": "python",
   "name": "conda-env-t5ner-py"
  },
  "language_info": {
   "codemirror_mode": {
    "name": "ipython",
    "version": 3
   },
   "file_extension": ".py",
   "mimetype": "text/x-python",
   "name": "python",
   "nbconvert_exporter": "python",
   "pygments_lexer": "ipython3",
   "version": "3.8.3"
  }
 },
 "nbformat": 4,
 "nbformat_minor": 4
}
