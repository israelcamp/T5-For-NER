{
 "cells": [
  {
   "cell_type": "code",
   "execution_count": 5,
   "metadata": {},
   "outputs": [],
   "source": [
    "from transformers import BartForConditionalGeneration\n",
    "import torch"
   ]
  },
  {
   "cell_type": "code",
   "execution_count": 2,
   "metadata": {},
   "outputs": [],
   "source": [
    "from src.models.modeling_bartner import BartForNER\n",
    "from src.models.modeling_conll2003 import BartForConll2003"
   ]
  },
  {
   "cell_type": "code",
   "execution_count": 3,
   "metadata": {},
   "outputs": [],
   "source": [
    "hparams = {\n",
    "    \"experiment_name\": \"Bart\",\n",
    "    \"batch_size\": 1, \n",
    "    \"num_workers\": 4,\n",
    "    \"optimizer\": \"Adam\",\n",
    "    \"lr\": 2e-4,\n",
    "    \"max_length\": 32,\n",
    "    \"labels_mode\": 'words',\n",
    "    \"deterministic\": True,\n",
    "    \"seed\": 123,\n",
    "    \"accumulate_grad_batches\": 4,\n",
    "    \"pretrained_model\": 'facebook/bart-large',\n",
    "    \"max_epochs\": 1,\n",
    "#     \"gpus\": 1,\n",
    "    \"datapath\": '../data/conll2003/',\n",
    "    \"merge_O\": True,\n",
    "}"
   ]
  },
  {
   "cell_type": "code",
   "execution_count": 14,
   "metadata": {},
   "outputs": [],
   "source": [
    "model = BartForConditionalGeneration.from_pretrained('facebook/bart-large')#, hparams=None)"
   ]
  },
  {
   "cell_type": "code",
   "execution_count": 6,
   "metadata": {},
   "outputs": [],
   "source": [
    "model.prepare_data()"
   ]
  },
  {
   "cell_type": "code",
   "execution_count": 7,
   "metadata": {},
   "outputs": [],
   "source": [
    "dl_train = model.train_dataloader()"
   ]
  },
  {
   "cell_type": "code",
   "execution_count": 8,
   "metadata": {},
   "outputs": [],
   "source": [
    "batch = next(iter(dl_train))\n",
    "input_ids, attention_mask, lm_labels = batch"
   ]
  },
  {
   "cell_type": "code",
   "execution_count": 9,
   "metadata": {},
   "outputs": [],
   "source": [
    "# batch = model.trim_batch(batch)\n",
    "# input_ids, attention_mask, lm_labels = batch"
   ]
  },
  {
   "cell_type": "code",
   "execution_count": 10,
   "metadata": {},
   "outputs": [
    {
     "name": "stdout",
     "output_type": "stream",
     "text": [
      "torch.Size([2, 128])\n",
      "torch.Size([2, 128])\n",
      "torch.Size([2, 128])\n"
     ]
    }
   ],
   "source": [
    "for x in batch:\n",
    "    print(x.shape)"
   ]
  },
  {
   "cell_type": "code",
   "execution_count": 11,
   "metadata": {},
   "outputs": [
    {
     "data": {
      "text/plain": [
       "(torch.Size([2, 128]), torch.Size([2, 128]), torch.Size([2, 128]))"
      ]
     },
     "execution_count": 11,
     "metadata": {},
     "output_type": "execute_result"
    }
   ],
   "source": [
    "input_ids.shape, lm_labels.shape, attention_mask.shape"
   ]
  },
  {
   "cell_type": "code",
   "execution_count": 15,
   "metadata": {},
   "outputs": [],
   "source": [
    "with torch.no_grad():\n",
    "    outs = model(input_ids=input_ids, attention_mask=attention_mask, labels=lm_labels)"
   ]
  },
  {
   "cell_type": "code",
   "execution_count": 16,
   "metadata": {},
   "outputs": [
    {
     "data": {
      "text/plain": [
       "tensor([[[  9.6143,  -1.6018,   8.6687,  ...,  -3.7682,  -3.1222,   4.6193],\n",
       "         [-12.4540,  -2.5365,   7.2153,  ...,  -2.5295,  -2.6171,   2.1974],\n",
       "         [ -3.6454,  -2.8697,   8.8064,  ...,  -3.4190,  -3.7599,   0.5331],\n",
       "         ...,\n",
       "         [  0.1293,  -3.3224,  14.1767,  ...,  -3.7872,  -3.6708,  -0.0306],\n",
       "         [  0.1293,  -3.3224,  14.1767,  ...,  -3.7872,  -3.6708,  -0.0306],\n",
       "         [  0.1293,  -3.3224,  14.1767,  ...,  -3.7872,  -3.6708,  -0.0306]],\n",
       "\n",
       "        [[ 10.7819,  -1.6987,   7.1627,  ...,  -3.3406,  -3.3447,   4.5219],\n",
       "         [ -9.8684,  -2.6524,   9.8261,  ...,  -2.6562,  -1.9976,   2.3738],\n",
       "         [ -4.7148,  -2.9439,  10.6252,  ...,  -3.2841,  -3.1657,  -0.7760],\n",
       "         ...,\n",
       "         [ -3.7125,  -3.1492,  13.7180,  ...,  -3.3776,  -2.9684,  -0.8874],\n",
       "         [ -3.7125,  -3.1492,  13.7180,  ...,  -3.3776,  -2.9684,  -0.8874],\n",
       "         [ -3.7125,  -3.1492,  13.7180,  ...,  -3.3776,  -2.9684,  -0.8874]]])"
      ]
     },
     "execution_count": 16,
     "metadata": {},
     "output_type": "execute_result"
    }
   ],
   "source": [
    "outs[0]"
   ]
  },
  {
   "cell_type": "code",
   "execution_count": 11,
   "metadata": {},
   "outputs": [],
   "source": [
    "outs = model(input_ids, attention_mask, labels=lm_labels)"
   ]
  },
  {
   "cell_type": "code",
   "execution_count": 10,
   "metadata": {},
   "outputs": [
    {
     "data": {
      "text/plain": [
       "(torch.Size([2, 128]), torch.Size([2, 128]))"
      ]
     },
     "execution_count": 10,
     "metadata": {},
     "output_type": "execute_result"
    }
   ],
   "source": [
    "input_ids.shape, lm_labels.shape"
   ]
  },
  {
   "cell_type": "code",
   "execution_count": 12,
   "metadata": {},
   "outputs": [
    {
     "data": {
      "text/plain": [
       "(tensor([[[  9.0277,  -1.2086,   8.7886,  ...,  -3.1855,  -3.3913,   5.4980],\n",
       "          [ -9.9388,  -2.6429,   6.6984,  ...,  -2.8028,  -2.3395,   2.8970],\n",
       "          [ -4.4754,  -2.8505,   8.8778,  ...,  -2.8632,  -3.1858,   1.2271],\n",
       "          ...,\n",
       "          [ -3.9959,  -3.3361,  12.9611,  ...,  -4.8054,  -4.5803,   1.0819],\n",
       "          [ -3.9959,  -3.3361,  12.9611,  ...,  -4.8054,  -4.5803,   1.0819],\n",
       "          [ -3.9959,  -3.3361,  12.9611,  ...,  -4.8054,  -4.5803,   1.0819]],\n",
       " \n",
       "         [[  9.1399,  -1.6021,   8.4546,  ...,  -3.6151,  -3.6130,   4.6171],\n",
       "          [-12.2492,  -2.6492,   8.0406,  ...,  -2.7260,  -2.5410,   2.1231],\n",
       "          [ -3.4399,  -3.0385,   8.6878,  ...,  -3.4641,  -3.5942,   0.2963],\n",
       "          ...,\n",
       "          [ -1.6131,  -3.3402,  13.3406,  ...,  -3.6661,  -3.2366,  -0.6541],\n",
       "          [ -1.6131,  -3.3402,  13.3406,  ...,  -3.6661,  -3.2366,  -0.6541],\n",
       "          [ -1.6131,  -3.3402,  13.3406,  ...,  -3.6661,  -3.2366,  -0.6541]]],\n",
       "        grad_fn=<AddBackward0>),\n",
       " tensor([[[-9.3363e-03,  1.0019e-02,  1.0800e-02,  ...,  3.7525e-03,\n",
       "           -8.3449e-03, -2.8770e-03],\n",
       "          [ 2.3835e-03,  1.5472e-02,  1.0823e-02,  ...,  4.8472e-03,\n",
       "           -4.8324e-03, -1.5730e-03],\n",
       "          [-1.6489e-01, -1.6676e-01,  7.2197e-02,  ...,  6.3709e-02,\n",
       "            9.6799e-02, -7.1199e-02],\n",
       "          ...,\n",
       "          [-9.3363e-03,  1.0019e-02,  1.0800e-02,  ...,  3.7525e-03,\n",
       "           -8.3449e-03, -2.8770e-03],\n",
       "          [-9.3363e-03,  1.0019e-02,  1.0800e-02,  ...,  3.7525e-03,\n",
       "           -8.3449e-03, -2.8770e-03],\n",
       "          [-9.3363e-03,  1.0019e-02,  1.0800e-02,  ...,  3.7525e-03,\n",
       "           -8.3449e-03, -2.8770e-03]],\n",
       " \n",
       "         [[-1.0066e-02,  1.2530e-02,  1.1701e-02,  ...,  6.2575e-03,\n",
       "           -6.5536e-03, -2.4460e-03],\n",
       "          [ 7.2136e-02,  1.6687e-01,  1.2130e-04,  ...,  5.6272e-02,\n",
       "           -8.6263e-02, -1.5989e-01],\n",
       "          [-1.5145e-01, -2.8014e-01,  2.3896e-02,  ..., -9.2641e-03,\n",
       "            2.6942e-02, -6.2981e-02],\n",
       "          ...,\n",
       "          [-1.0066e-02,  1.2530e-02,  1.1701e-02,  ...,  6.2574e-03,\n",
       "           -6.5536e-03, -2.4460e-03],\n",
       "          [-1.0066e-02,  1.2530e-02,  1.1701e-02,  ...,  6.2574e-03,\n",
       "           -6.5536e-03, -2.4460e-03],\n",
       "          [-1.0066e-02,  1.2530e-02,  1.1701e-02,  ...,  6.2574e-03,\n",
       "           -6.5536e-03, -2.4460e-03]]], grad_fn=<TransposeBackward0>))"
      ]
     },
     "execution_count": 12,
     "metadata": {},
     "output_type": "execute_result"
    }
   ],
   "source": [
    "outs"
   ]
  },
  {
   "cell_type": "code",
   "execution_count": null,
   "metadata": {},
   "outputs": [],
   "source": []
  }
 ],
 "metadata": {
  "kernelspec": {
   "display_name": "Python [conda env:t5ner]",
   "language": "python",
   "name": "conda-env-t5ner-py"
  },
  "language_info": {
   "codemirror_mode": {
    "name": "ipython",
    "version": 3
   },
   "file_extension": ".py",
   "mimetype": "text/x-python",
   "name": "python",
   "nbconvert_exporter": "python",
   "pygments_lexer": "ipython3",
   "version": "3.8.3"
  }
 },
 "nbformat": 4,
 "nbformat_minor": 4
}
